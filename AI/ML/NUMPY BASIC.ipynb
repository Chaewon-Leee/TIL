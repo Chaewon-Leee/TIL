{
 "cells": [
  {
   "cell_type": "markdown",
   "id": "6f5a3601",
   "metadata": {},
   "source": [
    "## **numpy란**\n",
    "\n",
    "- 파이썬 과학 처리 패키지\n",
    "- 매트릭스와 벡터와 같은 array 연산의 사실상 표준\n",
    "- 일반 리스트에 비해 빠르고, 메모리 효율적\n",
    "- 반복문 없이 데이터 배열에 대한 처리를 지원함 \n",
    "  - 넘파이에서 제공하는 선형대수와 관련 기능들을 활용하게 됨!\n",
    "\n",
    "## **references**\n",
    "\n",
    "[cs231 numpy](https://cs231n.github.io/python-numpy-tutorial/) \n",
    "[데이터 사이언스 스쿨](https://datascienceschool.net/01%20python/03.01%20%EB%84%98%ED%8C%8C%EC%9D%B4%20%EB%B0%B0%EC%97%B4.html)"
   ]
  },
  {
   "cell_type": "markdown",
   "id": "3e59118e",
   "metadata": {},
   "source": [
    "\n",
    "\n",
    "\n",
    "## **ndarray**"
   ]
  },
  {
   "cell_type": "markdown",
   "id": "7e92cae4",
   "metadata": {},
   "source": [
    "### import\n",
    "- np라는 alias를 이용하여 호출"
   ]
  },
  {
   "cell_type": "code",
   "execution_count": 3,
   "id": "38ebe48d",
   "metadata": {},
   "outputs": [],
   "source": [
    "import numpy as np"
   ]
  },
  {
   "cell_type": "markdown",
   "id": "69cbc6f1",
   "metadata": {},
   "source": [
    "### array creation\n",
    "- np.array 함수를 활용하여 배열을 생성\n",
    "- 파이썬의 리스트와 달리 numpy는 하나의 데이터 타입만 배열에 넣을 수 있음\n",
    "  - 리스트의 다이나믹 타이핑 : 코드를 작성하는데 있어 컴퓨터에게 데이터 타입이 뭔지 파악하는 것을 맡겨 실행속도가 느려진다는 단점이 존재\n",
    "  - np.array는 이를 지원하지 않음!"
   ]
  },
  {
   "cell_type": "code",
   "execution_count": 14,
   "id": "2624c9b7",
   "metadata": {},
   "outputs": [
    {
     "data": {
      "text/plain": [
       "array([1., 2., 3., 4.])"
      ]
     },
     "execution_count": 14,
     "metadata": {},
     "output_type": "execute_result"
    }
   ],
   "source": [
    "nu = np.array([1,2,'3',4], float)\n",
    "nu"
   ]
  },
  {
   "cell_type": "code",
   "execution_count": 15,
   "id": "e86becad",
   "metadata": {},
   "outputs": [
    {
     "data": {
      "text/plain": [
       "array(['1', '2', '3', '4'], dtype='<U1')"
      ]
     },
     "execution_count": 15,
     "metadata": {},
     "output_type": "execute_result"
    }
   ],
   "source": [
    "np.array([1,2,'3','4'], str)"
   ]
  },
  {
   "cell_type": "code",
   "execution_count": 16,
   "id": "7a34c63a",
   "metadata": {},
   "outputs": [
    {
     "data": {
      "text/plain": [
       "numpy.float64"
      ]
     },
     "execution_count": 16,
     "metadata": {},
     "output_type": "execute_result"
    }
   ],
   "source": [
    "type(nu[3]) # float 타입으로 자동 형변환 확인"
   ]
  },
  {
   "cell_type": "code",
   "execution_count": 17,
   "id": "2f9c3d7c",
   "metadata": {},
   "outputs": [
    {
     "data": {
      "text/plain": [
       "dtype('float64')"
      ]
     },
     "execution_count": 17,
     "metadata": {},
     "output_type": "execute_result"
    }
   ],
   "source": [
    "nu.dtype # array 전체의 데이터 타입을 반환"
   ]
  },
  {
   "cell_type": "code",
   "execution_count": 19,
   "id": "89228aa0",
   "metadata": {},
   "outputs": [
    {
     "data": {
      "text/plain": [
       "(4,)"
      ]
     },
     "execution_count": 19,
     "metadata": {},
     "output_type": "execute_result"
    }
   ],
   "source": [
    "nu.shape # 차원 (dimension) 구성 반환"
   ]
  },
  {
   "cell_type": "markdown",
   "id": "259b599b",
   "metadata": {},
   "source": [
    "### array shape\n",
    "- array (vector, matrix, tensor)의 크기, 형태 등에 대한 정보\n",
    "\n",
    "\n",
    "- shape : 배열의 매트릭스 크기 (? X ? matrix)\n",
    "- ndim : 배열의 차원\n",
    "- size : 배열 총 요소 개수"
   ]
  },
  {
   "cell_type": "code",
   "execution_count": 21,
   "id": "cab9c936",
   "metadata": {},
   "outputs": [
    {
     "data": {
      "text/plain": [
       "(4,)"
      ]
     },
     "execution_count": 21,
     "metadata": {},
     "output_type": "execute_result"
    }
   ],
   "source": [
    "vector  = [1,2,3,4]\n",
    "np.array(vector, int).shape"
   ]
  },
  {
   "cell_type": "code",
   "execution_count": 22,
   "id": "842731c3",
   "metadata": {},
   "outputs": [
    {
     "data": {
      "text/plain": [
       "(3, 4)"
      ]
     },
     "execution_count": 22,
     "metadata": {},
     "output_type": "execute_result"
    }
   ],
   "source": [
    "matrix  = [[1,2,5,8],[1,2,5,8],[1,2,5,8]]\n",
    "np.array(matrix, int).shape"
   ]
  },
  {
   "cell_type": "code",
   "execution_count": 29,
   "id": "c2fd1b5c",
   "metadata": {},
   "outputs": [
    {
     "data": {
      "text/plain": [
       "(4, 3, 4)"
      ]
     },
     "execution_count": 29,
     "metadata": {},
     "output_type": "execute_result"
    }
   ],
   "source": [
    "tensor  = [[[1,2,5,8],[1,2,5,8],[1,2,5,8]], \n",
    "           [[1,2,5,8],[1,2,5,8],[1,2,5,8]], \n",
    "           [[1,2,5,8],[1,2,5,8],[1,2,5,8]], \n",
    "           [[1,2,5,8],[1,2,5,8],[1,2,5,8]]]\n",
    "np.array(tensor, int).shape"
   ]
  },
  {
   "cell_type": "code",
   "execution_count": 26,
   "id": "c8eb3e66",
   "metadata": {},
   "outputs": [
    {
     "data": {
      "text/plain": [
       "3"
      ]
     },
     "execution_count": 26,
     "metadata": {},
     "output_type": "execute_result"
    }
   ],
   "source": [
    "np.array(tensor, int).ndim # 차원 출력"
   ]
  },
  {
   "cell_type": "code",
   "execution_count": 27,
   "id": "57c5344b",
   "metadata": {},
   "outputs": [
    {
     "data": {
      "text/plain": [
       "48"
      ]
     },
     "execution_count": 27,
     "metadata": {},
     "output_type": "execute_result"
    }
   ],
   "source": [
    "np.array(tensor, int).size # 데이터의 개수 출력"
   ]
  },
  {
   "cell_type": "markdown",
   "id": "f0086ce5",
   "metadata": {},
   "source": [
    "### array dtype\n",
    "- Ndarray의 single 요소가 가지는 데이터 타입\n",
    "- 각 요소가 차지하는 메모리의 크기 결정\n",
    "\n",
    "\n",
    "- dtype : array 생성시 요소의 타입 지정\n",
    "- nbytes 메소드 : ndarray의 총 메모리 크기 반환"
   ]
  },
  {
   "cell_type": "code",
   "execution_count": 30,
   "id": "e852f9d5",
   "metadata": {},
   "outputs": [
    {
     "data": {
      "text/plain": [
       "array([[1, 2, 3],\n",
       "       [4, 5, 6]])"
      ]
     },
     "execution_count": 30,
     "metadata": {},
     "output_type": "execute_result"
    }
   ],
   "source": [
    "np.array([[1,2,3], [4.5, 5, 6]], dtype=int)"
   ]
  },
  {
   "cell_type": "code",
   "execution_count": 32,
   "id": "366b1386",
   "metadata": {},
   "outputs": [
    {
     "data": {
      "text/plain": [
       "array([[1. , 2. , 3. ],\n",
       "       [4.5, 5. , 6. ]])"
      ]
     },
     "execution_count": 32,
     "metadata": {},
     "output_type": "execute_result"
    }
   ],
   "source": [
    "a = np.array([[1,2,3], [4.5, 5, 6]], dtype=float)\n",
    "a"
   ]
  },
  {
   "cell_type": "code",
   "execution_count": 33,
   "id": "08df9c24",
   "metadata": {},
   "outputs": [
    {
     "data": {
      "text/plain": [
       "48"
      ]
     },
     "execution_count": 33,
     "metadata": {},
     "output_type": "execute_result"
    }
   ],
   "source": [
    "a.nbytes # ndarray object의 메모리 크기 반환"
   ]
  },
  {
   "cell_type": "markdown",
   "id": "e2b98cd7",
   "metadata": {},
   "source": [
    "### Handling Shape\n",
    "\n",
    "\n",
    "- reshape : array 사이즈가 동일하다는 조건하에 shape 크기 변경 가능\n",
    "    - -1 : size를 기반으로 row 개수 알아서 선정\n",
    "- flatten : 다차원 배열을 1차원 배열로 변환"
   ]
  },
  {
   "cell_type": "code",
   "execution_count": 36,
   "id": "df332f48",
   "metadata": {},
   "outputs": [
    {
     "data": {
      "text/plain": [
       "(2, 4)"
      ]
     },
     "execution_count": 36,
     "metadata": {},
     "output_type": "execute_result"
    }
   ],
   "source": [
    "a = np.array([[1,2,3,4], [1,2,5,8]])\n",
    "a.shape"
   ]
  },
  {
   "cell_type": "code",
   "execution_count": 37,
   "id": "e0713e86",
   "metadata": {},
   "outputs": [
    {
     "data": {
      "text/plain": [
       "array([1, 2, 3, 4, 1, 2, 5, 8])"
      ]
     },
     "execution_count": 37,
     "metadata": {},
     "output_type": "execute_result"
    }
   ],
   "source": [
    "a.reshape(8,) # 요소의 개수는 동일하되 배열의 shape 크기 변경"
   ]
  },
  {
   "cell_type": "code",
   "execution_count": 39,
   "id": "3e198af2",
   "metadata": {},
   "outputs": [
    {
     "data": {
      "text/plain": [
       "array([[1, 2],\n",
       "       [3, 4],\n",
       "       [1, 2],\n",
       "       [5, 8]])"
      ]
     },
     "execution_count": 39,
     "metadata": {},
     "output_type": "execute_result"
    }
   ],
   "source": [
    "a.reshape(-1, 2) # -1 : size를 기반으로 row 개수 알아서 선정"
   ]
  },
  {
   "cell_type": "code",
   "execution_count": 40,
   "id": "00f54d91",
   "metadata": {},
   "outputs": [
    {
     "data": {
      "text/plain": [
       "array([[[1, 2],\n",
       "        [3, 4]],\n",
       "\n",
       "       [[1, 2],\n",
       "        [5, 8]]])"
      ]
     },
     "execution_count": 40,
     "metadata": {},
     "output_type": "execute_result"
    }
   ],
   "source": [
    "a.reshape(2,2,2)"
   ]
  },
  {
   "cell_type": "code",
   "execution_count": 42,
   "id": "b9059efc",
   "metadata": {},
   "outputs": [
    {
     "data": {
      "text/plain": [
       "array([1, 2, 3, 4, 1, 2, 5, 8])"
      ]
     },
     "execution_count": 42,
     "metadata": {},
     "output_type": "execute_result"
    }
   ],
   "source": [
    "a.flatten() # 1차원 배열로 평평하게 변환"
   ]
  },
  {
   "cell_type": "markdown",
   "id": "d7c24039",
   "metadata": {},
   "source": [
    "### Indexing & Slicing\n",
    "\n",
    "indexing\n",
    "- list와 달리 이차원 배열에서 [0,0]과 같은 표기법 제공\n",
    "    - 앞은 row 뒤는 col을 의미\n",
    "    \n",
    "slicing\n",
    "- list와 달리 행과 열 부분을 나누어 slicing이 가능\n",
    "    - 매트릭스의 부분 집합을 추출할 때 유용"
   ]
  },
  {
   "cell_type": "markdown",
   "id": "988e9b04",
   "metadata": {},
   "source": [
    "indexing"
   ]
  },
  {
   "cell_type": "code",
   "execution_count": 45,
   "id": "8c80ceb8",
   "metadata": {},
   "outputs": [
    {
     "data": {
      "text/plain": [
       "array([[1, 2, 3],\n",
       "       [4, 6, 7]])"
      ]
     },
     "execution_count": 45,
     "metadata": {},
     "output_type": "execute_result"
    }
   ],
   "source": [
    "b = np.array([[1,2,3],[4.5,6,7]], int)\n",
    "b"
   ]
  },
  {
   "cell_type": "code",
   "execution_count": 46,
   "id": "c10df5ee",
   "metadata": {},
   "outputs": [
    {
     "data": {
      "text/plain": [
       "1"
      ]
     },
     "execution_count": 46,
     "metadata": {},
     "output_type": "execute_result"
    }
   ],
   "source": [
    "b[0][0] # 1번째 열의 1번째 행의 값"
   ]
  },
  {
   "cell_type": "code",
   "execution_count": 48,
   "id": "51b96a12",
   "metadata": {},
   "outputs": [
    {
     "data": {
      "text/plain": [
       "3"
      ]
     },
     "execution_count": 48,
     "metadata": {},
     "output_type": "execute_result"
    }
   ],
   "source": [
    "b[0,2] # 1번째 열의 3번째 행의 값"
   ]
  },
  {
   "cell_type": "code",
   "execution_count": 49,
   "id": "733a3b81",
   "metadata": {},
   "outputs": [
    {
     "data": {
      "text/plain": [
       "array([[23,  2,  3],\n",
       "       [ 4,  6,  7]])"
      ]
     },
     "execution_count": 49,
     "metadata": {},
     "output_type": "execute_result"
    }
   ],
   "source": [
    "b[0,0] = 23\n",
    "b # 값 변경 가능!"
   ]
  },
  {
   "cell_type": "code",
   "execution_count": 50,
   "id": "f9c44113",
   "metadata": {},
   "outputs": [
    {
     "data": {
      "text/plain": [
       "array([[9876,    2,    3],\n",
       "       [   4,    6,    7]])"
      ]
     },
     "execution_count": 50,
     "metadata": {},
     "output_type": "execute_result"
    }
   ],
   "source": [
    "b[0][0] = 9876\n",
    "b"
   ]
  },
  {
   "cell_type": "code",
   "execution_count": 52,
   "id": "94162d74",
   "metadata": {},
   "outputs": [
    {
     "data": {
      "text/plain": [
       "array([[1, 2, 3, 4, 5],\n",
       "       [4, 6, 7, 8, 9]])"
      ]
     },
     "execution_count": 52,
     "metadata": {},
     "output_type": "execute_result"
    }
   ],
   "source": [
    "c = np.array([[1,2,3, 4, 5],[4.5,6,7, 8, 9]], int)\n",
    "c"
   ]
  },
  {
   "cell_type": "markdown",
   "id": "cf43b958",
   "metadata": {},
   "source": [
    "slicing"
   ]
  },
  {
   "cell_type": "code",
   "execution_count": 55,
   "id": "a96a8d0c",
   "metadata": {},
   "outputs": [
    {
     "data": {
      "text/plain": [
       "array([[1, 2, 3, 4, 5],\n",
       "       [4, 6, 7, 8, 9]])"
      ]
     },
     "execution_count": 55,
     "metadata": {},
     "output_type": "execute_result"
    }
   ],
   "source": [
    "c[:2, :] # 2번째 row 이하 모든 col"
   ]
  },
  {
   "cell_type": "code",
   "execution_count": 58,
   "id": "f07028cb",
   "metadata": {},
   "outputs": [
    {
     "data": {
      "text/plain": [
       "array([[4, 6, 7, 8, 9]])"
      ]
     },
     "execution_count": 58,
     "metadata": {},
     "output_type": "execute_result"
    }
   ],
   "source": [
    "c[1:, :] # 2번째 row 이상 모든 col"
   ]
  },
  {
   "cell_type": "code",
   "execution_count": 60,
   "id": "f9e2009b",
   "metadata": {},
   "outputs": [
    {
     "data": {
      "text/plain": [
       "array([3, 7])"
      ]
     },
     "execution_count": 60,
     "metadata": {},
     "output_type": "execute_result"
    }
   ],
   "source": [
    "c[:2, 2] # 2번째 row 이하 모든 2번째 col"
   ]
  },
  {
   "cell_type": "code",
   "execution_count": 61,
   "id": "3b283dd6",
   "metadata": {},
   "outputs": [
    {
     "data": {
      "text/plain": [
       "array([[4, 6, 7, 8, 9]])"
      ]
     },
     "execution_count": 61,
     "metadata": {},
     "output_type": "execute_result"
    }
   ],
   "source": [
    "c[1:3] # 2번째 row 이상 4번째 row 미만"
   ]
  },
  {
   "cell_type": "code",
   "execution_count": 65,
   "id": "c7798847",
   "metadata": {},
   "outputs": [
    {
     "data": {
      "text/plain": [
       "array([[2, 3],\n",
       "       [6, 7]])"
      ]
     },
     "execution_count": 65,
     "metadata": {},
     "output_type": "execute_result"
    }
   ],
   "source": [
    "c[:,1:3] # 2번째 col 이상 4번째 col 미만"
   ]
  },
  {
   "cell_type": "code",
   "execution_count": 66,
   "id": "1836d6db",
   "metadata": {},
   "outputs": [
    {
     "data": {
      "text/plain": [
       "array([[ 1,  2,  3,  4,  5],\n",
       "       [ 6,  7,  8,  9, 10],\n",
       "       [11, 12, 13, 14, 15]])"
      ]
     },
     "execution_count": 66,
     "metadata": {},
     "output_type": "execute_result"
    }
   ],
   "source": [
    "d = np.array([[1,2,3,4,5],[6,7,8,9,10],[11,12,13,14,15]], int)\n",
    "d"
   ]
  },
  {
   "cell_type": "code",
   "execution_count": 67,
   "id": "cf81e8d6",
   "metadata": {},
   "outputs": [
    {
     "data": {
      "text/plain": [
       "array([[ 1,  3,  5],\n",
       "       [ 6,  8, 10],\n",
       "       [11, 13, 15]])"
      ]
     },
     "execution_count": 67,
     "metadata": {},
     "output_type": "execute_result"
    }
   ],
   "source": [
    "d[:,::2] # 모든 row 2칸씩 뛰어써 출력\n",
    "# ::2 = 시작점, 끝점, step = 2칸씩 뛴다 (사이에 1칸의 간격을 둠)"
   ]
  },
  {
   "cell_type": "code",
   "execution_count": 69,
   "id": "69027f96",
   "metadata": {},
   "outputs": [
    {
     "data": {
      "text/plain": [
       "array([[ 1,  2,  3,  4,  5],\n",
       "       [ 6,  7,  8,  9, 10],\n",
       "       [11, 12, 13, 14, 15]])"
      ]
     },
     "execution_count": 69,
     "metadata": {},
     "output_type": "execute_result"
    }
   ],
   "source": [
    "d[:,::1]"
   ]
  },
  {
   "cell_type": "markdown",
   "id": "9aa3b0f3",
   "metadata": {},
   "source": [
    "### creation function\n",
    "- 무언가를 만드는 함수\n",
    "\n",
    "arange\n",
    "- 배열의 범위를 지정하여 값의 리스트를 생성하는 명령어\n",
    "\n",
    "ones, zeros and empty\n",
    "- zeros : 0으로 가득찬 ndarray 생성\n",
    "    - np.zeros(shape, dtype, order)\n",
    "- ones: 1로 참\n",
    "- empty : shape만 주어지고 비어있는 배열\n",
    "    - 메모리를 초기화 시켜주지 않는다!\n",
    "    - zeros와 ones는 메모리를 할당받아 각 숫자들로 초기화한 후 반환하지만, empty는 메모리 할당만 받고 초기화 없이 반환\n",
    "    - 그래서 실행할 때마다 다른 값을 가지는 걸 확인! -> 해당 영역에 어떤 데이터가 있는지와는 관계 없이 주소만 지니기 때문임\n",
    "    \n",
    "something_like\n",
    "- 기존 ndarray의 shape 크기 만큼 1, 0 또는 empty array를 반환한다\n",
    "\n",
    "identity\n",
    "- 단위 행렬 (i 행렬)을 생성\n",
    "\n",
    "eye\n",
    "- 대각선이 1인 행렬\n",
    "- eye(N, M, k)\n",
    "    - N & M : n*m 행렬 결정, k : 정방단위행렬을 기준으로 1의 시작 위치를 정할 수 있다\n",
    "    \n",
    "diag\n",
    "- 대각 행렬의 값을 추출\n",
    "\n",
    "random sampling\n",
    "- 데이터 분포에 따른 샘플링으로 array를 생성할 수 있다"
   ]
  },
  {
   "cell_type": "markdown",
   "id": "a4a1528c",
   "metadata": {},
   "source": [
    "arange"
   ]
  },
  {
   "cell_type": "code",
   "execution_count": 71,
   "id": "5905940c",
   "metadata": {},
   "outputs": [
    {
     "data": {
      "text/plain": [
       "array([ 0,  1,  2,  3,  4,  5,  6,  7,  8,  9, 10, 11, 12, 13, 14, 15, 16,\n",
       "       17, 18, 19, 20, 21, 22, 23, 24, 25, 26, 27, 28, 29])"
      ]
     },
     "execution_count": 71,
     "metadata": {},
     "output_type": "execute_result"
    }
   ],
   "source": [
    "np.arange(30) # list의 range와 동일한 효과, 0부터 29까지 배열을 출력\n",
    "# 30-1까지 출력됨 유의!"
   ]
  },
  {
   "cell_type": "code",
   "execution_count": 72,
   "id": "6dd7a283",
   "metadata": {},
   "outputs": [
    {
     "data": {
      "text/plain": [
       "array([0, 1, 2, 3, 4])"
      ]
     },
     "execution_count": 72,
     "metadata": {},
     "output_type": "execute_result"
    }
   ],
   "source": [
    "np.arange(0,5,1) # 시작, 끝, step"
   ]
  },
  {
   "cell_type": "code",
   "execution_count": 73,
   "id": "40eaf96a",
   "metadata": {},
   "outputs": [
    {
     "data": {
      "text/plain": [
       "array([0. , 0.5, 1. , 1.5, 2. , 2.5, 3. , 3.5, 4. , 4.5, 5. ])"
      ]
     },
     "execution_count": 73,
     "metadata": {},
     "output_type": "execute_result"
    }
   ],
   "source": [
    "np.arange(0,5.5,0.5) # 시작, 끝, float도 표시 가능"
   ]
  },
  {
   "cell_type": "code",
   "execution_count": 74,
   "id": "677dc742",
   "metadata": {},
   "outputs": [
    {
     "data": {
      "text/plain": [
       "array([[ 0,  1,  2,  3,  4,  5],\n",
       "       [ 6,  7,  8,  9, 10, 11],\n",
       "       [12, 13, 14, 15, 16, 17],\n",
       "       [18, 19, 20, 21, 22, 23],\n",
       "       [24, 25, 26, 27, 28, 29]])"
      ]
     },
     "execution_count": 74,
     "metadata": {},
     "output_type": "execute_result"
    }
   ],
   "source": [
    "np.arange(30).reshape(5,6) # 0~29까지 가지고 있는 배열을 5 row 6 col로 표시하겠다"
   ]
  },
  {
   "cell_type": "markdown",
   "id": "a5d88870",
   "metadata": {},
   "source": [
    "ones, zeros and empty"
   ]
  },
  {
   "cell_type": "code",
   "execution_count": 78,
   "id": "d5c5b622",
   "metadata": {},
   "outputs": [
    {
     "data": {
      "text/plain": [
       "array([[0., 0., 0., 0., 0.],\n",
       "       [0., 0., 0., 0., 0.]])"
      ]
     },
     "execution_count": 78,
     "metadata": {},
     "output_type": "execute_result"
    }
   ],
   "source": [
    "np.zeros((2,5)) # shape만 정해주는 것!"
   ]
  },
  {
   "cell_type": "code",
   "execution_count": 79,
   "id": "5cbc08f8",
   "metadata": {},
   "outputs": [
    {
     "data": {
      "text/plain": [
       "array([0, 0, 0, 0, 0, 0, 0, 0, 0, 0])"
      ]
     },
     "execution_count": 79,
     "metadata": {},
     "output_type": "execute_result"
    }
   ],
   "source": [
    "np.zeros(shape=(10,), dtype=int) # shape랑 dtype 명시해서 지정!"
   ]
  },
  {
   "cell_type": "code",
   "execution_count": 81,
   "id": "0bd7aca4",
   "metadata": {},
   "outputs": [
    {
     "data": {
      "text/plain": [
       "array([[0., 0., 0.],\n",
       "       [0., 0., 0.],\n",
       "       [0., 0., 0.],\n",
       "       [0., 0., 0.],\n",
       "       [0., 0., 0.],\n",
       "       [0., 0., 0.],\n",
       "       [0., 0., 0.],\n",
       "       [0., 0., 0.],\n",
       "       [0., 0., 0.],\n",
       "       [0., 0., 0.]])"
      ]
     },
     "execution_count": 81,
     "metadata": {},
     "output_type": "execute_result"
    }
   ],
   "source": [
    "np.zeros(shape=(10,3), dtype=float) # shape랑 dtype 명시해서 지정!"
   ]
  },
  {
   "cell_type": "code",
   "execution_count": 82,
   "id": "d88ab04e",
   "metadata": {},
   "outputs": [
    {
     "data": {
      "text/plain": [
       "array([1, 1, 1, 1, 1, 1, 1, 1, 1, 1])"
      ]
     },
     "execution_count": 82,
     "metadata": {},
     "output_type": "execute_result"
    }
   ],
   "source": [
    "np.ones(shape=(10,), dtype=int) # 앞의 방식과 동일!"
   ]
  },
  {
   "cell_type": "code",
   "execution_count": 84,
   "id": "f2ea67cb",
   "metadata": {},
   "outputs": [
    {
     "data": {
      "text/plain": [
       "array([                  0,     105553123016729,     105553123017824,\n",
       "                         1, 3275354340909339414,     139639678597460,\n",
       "           140448602741256,   23157141905163276,     123145530506624,\n",
       "                4544351083])"
      ]
     },
     "execution_count": 84,
     "metadata": {},
     "output_type": "execute_result"
    }
   ],
   "source": [
    "np.empty(shape=(10,), dtype=int)"
   ]
  },
  {
   "cell_type": "code",
   "execution_count": 85,
   "id": "fd56287c",
   "metadata": {},
   "outputs": [
    {
     "data": {
      "text/plain": [
       "array([              0,    416611827716,    416611827826,    442381631598,\n",
       "          171798691941,    188978561072,    188978561077,    176093659185,\n",
       "       123145530506624,      4544351083])"
      ]
     },
     "execution_count": 85,
     "metadata": {},
     "output_type": "execute_result"
    }
   ],
   "source": [
    "np.empty(shape=(10,), dtype=int)"
   ]
  },
  {
   "cell_type": "code",
   "execution_count": 86,
   "id": "e82466a6",
   "metadata": {},
   "outputs": [
    {
     "data": {
      "text/plain": [
       "array([                  0,                2043,     105553123065856,\n",
       "                         0, 8388363798450555152,     139639678566521,\n",
       "           140448602741256,                   0,                   0,\n",
       "                         0])"
      ]
     },
     "execution_count": 86,
     "metadata": {},
     "output_type": "execute_result"
    }
   ],
   "source": [
    "np.empty(shape=(10,), dtype=int) # 값이 모두 다른 것 확인 가능"
   ]
  },
  {
   "cell_type": "markdown",
   "id": "f5f1801e",
   "metadata": {},
   "source": [
    "something_like"
   ]
  },
  {
   "cell_type": "code",
   "execution_count": 94,
   "id": "d5081088",
   "metadata": {},
   "outputs": [
    {
     "data": {
      "text/plain": [
       "array([[ 0,  1,  2,  3,  4,  5],\n",
       "       [ 6,  7,  8,  9, 10, 11],\n",
       "       [12, 13, 14, 15, 16, 17],\n",
       "       [18, 19, 20, 21, 22, 23],\n",
       "       [24, 25, 26, 27, 28, 29]])"
      ]
     },
     "execution_count": 94,
     "metadata": {},
     "output_type": "execute_result"
    }
   ],
   "source": [
    "what = np.arange(30).reshape(5,6)\n",
    "what # 크기 5 row 6 col 배열"
   ]
  },
  {
   "cell_type": "code",
   "execution_count": 108,
   "id": "8cda9d2a",
   "metadata": {},
   "outputs": [
    {
     "name": "stdout",
     "output_type": "stream",
     "text": [
      "[[1 1 1 1 1 1]\n",
      " [1 1 1 1 1 1]\n",
      " [1 1 1 1 1 1]\n",
      " [1 1 1 1 1 1]\n",
      " [1 1 1 1 1 1]]\n",
      "[[0 0 0 0 0 0]\n",
      " [0 0 0 0 0 0]\n",
      " [0 0 0 0 0 0]\n",
      " [0 0 0 0 0 0]\n",
      " [0 0 0 0 0 0]]\n"
     ]
    }
   ],
   "source": [
    "one = np.ones_like(what)\n",
    "ze = np.zeros_like(what)\n",
    "\n",
    "print(one)\n",
    "print(ze)"
   ]
  },
  {
   "cell_type": "code",
   "execution_count": 110,
   "id": "1726127f",
   "metadata": {},
   "outputs": [
    {
     "data": {
      "text/plain": [
       "array([[   0, 2043,    0,    0,    0,    0],\n",
       "       [   0,    0,    0,    0,    0,    0],\n",
       "       [   0,    0,    0,    0,    0,    0],\n",
       "       [   0,    0,    0,    0,    0,    0],\n",
       "       [   0,    0,    0,    0,    0,    0]])"
      ]
     },
     "execution_count": 110,
     "metadata": {},
     "output_type": "execute_result"
    }
   ],
   "source": [
    "np.empty_like(what) # 랜덤으로 숫자 배정되는 것도 동일함"
   ]
  },
  {
   "cell_type": "markdown",
   "id": "35ba3ed6",
   "metadata": {},
   "source": [
    "identity"
   ]
  },
  {
   "cell_type": "code",
   "execution_count": 112,
   "id": "7659cbe6",
   "metadata": {},
   "outputs": [
    {
     "data": {
      "text/plain": [
       "array([[1., 0., 0.],\n",
       "       [0., 1., 0.],\n",
       "       [0., 0., 1.]])"
      ]
     },
     "execution_count": 112,
     "metadata": {},
     "output_type": "execute_result"
    }
   ],
   "source": [
    "np.identity(n=3)"
   ]
  },
  {
   "cell_type": "code",
   "execution_count": 113,
   "id": "9a23ccc5",
   "metadata": {},
   "outputs": [
    {
     "data": {
      "text/plain": [
       "array([[1., 0., 0., 0., 0.],\n",
       "       [0., 1., 0., 0., 0.],\n",
       "       [0., 0., 1., 0., 0.],\n",
       "       [0., 0., 0., 1., 0.],\n",
       "       [0., 0., 0., 0., 1.]])"
      ]
     },
     "execution_count": 113,
     "metadata": {},
     "output_type": "execute_result"
    }
   ],
   "source": [
    "np.identity(5) # n 생략 가능"
   ]
  },
  {
   "cell_type": "markdown",
   "id": "34f7ec79",
   "metadata": {},
   "source": [
    "eye"
   ]
  },
  {
   "cell_type": "code",
   "execution_count": 114,
   "id": "d855b963",
   "metadata": {},
   "outputs": [
    {
     "data": {
      "text/plain": [
       "array([[1., 0., 0., 0., 0.],\n",
       "       [0., 1., 0., 0., 0.],\n",
       "       [0., 0., 1., 0., 0.]])"
      ]
     },
     "execution_count": 114,
     "metadata": {},
     "output_type": "execute_result"
    }
   ],
   "source": [
    "np.eye(3, 5)"
   ]
  },
  {
   "cell_type": "code",
   "execution_count": 116,
   "id": "4a0966ef",
   "metadata": {},
   "outputs": [
    {
     "data": {
      "text/plain": [
       "array([[1., 0., 0., 0., 0.],\n",
       "       [0., 1., 0., 0., 0.],\n",
       "       [0., 0., 1., 0., 0.]])"
      ]
     },
     "execution_count": 116,
     "metadata": {},
     "output_type": "execute_result"
    }
   ],
   "source": [
    "np.eye(N=3, M=5) # 소문자 안됨!"
   ]
  },
  {
   "cell_type": "code",
   "execution_count": 118,
   "id": "76e716f5",
   "metadata": {},
   "outputs": [
    {
     "data": {
      "text/plain": [
       "array([[1., 0., 0., 0., 0.],\n",
       "       [0., 1., 0., 0., 0.],\n",
       "       [0., 0., 1., 0., 0.],\n",
       "       [0., 0., 0., 1., 0.],\n",
       "       [0., 0., 0., 0., 1.]])"
      ]
     },
     "execution_count": 118,
     "metadata": {},
     "output_type": "execute_result"
    }
   ],
   "source": [
    "np.eye(5) # identity 행렬로 나옴"
   ]
  },
  {
   "cell_type": "code",
   "execution_count": 121,
   "id": "357ebc05",
   "metadata": {},
   "outputs": [
    {
     "data": {
      "text/plain": [
       "array([[0., 0., 1., 0., 0.],\n",
       "       [0., 0., 0., 1., 0.],\n",
       "       [0., 0., 0., 0., 1.],\n",
       "       [0., 0., 0., 0., 0.],\n",
       "       [0., 0., 0., 0., 0.]])"
      ]
     },
     "execution_count": 121,
     "metadata": {},
     "output_type": "execute_result"
    }
   ],
   "source": [
    "np.eye(5, k=2) # 언제부터 시작할지 시작점의 위치 정해줄 수 있음"
   ]
  },
  {
   "cell_type": "code",
   "execution_count": 123,
   "id": "946ca9ad",
   "metadata": {},
   "outputs": [
    {
     "data": {
      "text/plain": [
       "array([[0., 0., 0., 0., 0.],\n",
       "       [1., 0., 0., 0., 0.],\n",
       "       [0., 1., 0., 0., 0.],\n",
       "       [0., 0., 1., 0., 0.],\n",
       "       [0., 0., 0., 1., 0.]])"
      ]
     },
     "execution_count": 123,
     "metadata": {},
     "output_type": "execute_result"
    }
   ],
   "source": [
    "np.eye(5, k=-1) # 음수 가능"
   ]
  },
  {
   "cell_type": "markdown",
   "id": "47719969",
   "metadata": {},
   "source": [
    "diag"
   ]
  },
  {
   "cell_type": "code",
   "execution_count": 126,
   "id": "a0edfbd3",
   "metadata": {
    "scrolled": true
   },
   "outputs": [
    {
     "data": {
      "text/plain": [
       "array([[0, 1, 2],\n",
       "       [3, 4, 5],\n",
       "       [6, 7, 8]])"
      ]
     },
     "execution_count": 126,
     "metadata": {},
     "output_type": "execute_result"
    }
   ],
   "source": [
    "matrix = np.arange(9).reshape(3, 3)\n",
    "matrix"
   ]
  },
  {
   "cell_type": "code",
   "execution_count": 127,
   "id": "5b5a769d",
   "metadata": {},
   "outputs": [
    {
     "data": {
      "text/plain": [
       "array([0, 4, 8])"
      ]
     },
     "execution_count": 127,
     "metadata": {},
     "output_type": "execute_result"
    }
   ],
   "source": [
    "np.diag(matrix) # 대각선에 있는 값만 추출"
   ]
  },
  {
   "cell_type": "code",
   "execution_count": 129,
   "id": "adceaf47",
   "metadata": {},
   "outputs": [
    {
     "data": {
      "text/plain": [
       "array([1, 5])"
      ]
     },
     "execution_count": 129,
     "metadata": {},
     "output_type": "execute_result"
    }
   ],
   "source": [
    "np.diag(matrix, k = 1) # eye와 마찬가지로 대각선의 시작 위치 지정 가능"
   ]
  },
  {
   "cell_type": "code",
   "execution_count": 130,
   "id": "793de1c4",
   "metadata": {},
   "outputs": [
    {
     "data": {
      "text/plain": [
       "array([3, 7])"
      ]
     },
     "execution_count": 130,
     "metadata": {},
     "output_type": "execute_result"
    }
   ],
   "source": [
    "np.diag(matrix, k = -1) # 음수 또한 가능!"
   ]
  },
  {
   "cell_type": "markdown",
   "id": "7f46b966",
   "metadata": {},
   "source": [
    "random sampling"
   ]
  },
  {
   "cell_type": "code",
   "execution_count": 132,
   "id": "49c90735",
   "metadata": {},
   "outputs": [
    {
     "data": {
      "text/plain": [
       "array([0.22844471, 0.92380546, 0.51641884, 0.17583233, 0.82650809,\n",
       "       0.5788023 , 0.6246625 , 0.65892392, 0.14156236, 0.00642559])"
      ]
     },
     "execution_count": 132,
     "metadata": {},
     "output_type": "execute_result"
    }
   ],
   "source": [
    "np.random.uniform(0,1,10) # 0~1 범위에서 균등분포에 따라 10개 값 배열 추출"
   ]
  },
  {
   "cell_type": "code",
   "execution_count": 135,
   "id": "72d19227",
   "metadata": {},
   "outputs": [
    {
     "data": {
      "text/plain": [
       "array([[5.92797927, 2.06126337, 3.30950936, 9.17371573, 1.11518033],\n",
       "       [9.64794106, 2.06191074, 6.70574531, 8.04646555, 9.01907875]])"
      ]
     },
     "execution_count": 135,
     "metadata": {},
     "output_type": "execute_result"
    }
   ],
   "source": [
    "np.random.uniform(0,10,10).reshape(2,5)"
   ]
  },
  {
   "cell_type": "code",
   "execution_count": 138,
   "id": "b3f5426a",
   "metadata": {},
   "outputs": [
    {
     "data": {
      "text/plain": [
       "array([[ 0.75063527, -0.136569  ,  1.27212271, -1.53338513, -0.88855271],\n",
       "       [ 1.66967219,  0.57441255,  1.06998364,  0.7127417 , -0.12360419]])"
      ]
     },
     "execution_count": 138,
     "metadata": {},
     "output_type": "execute_result"
    }
   ],
   "source": [
    "np.random.normal(0,1,10).reshape(2,5) # 정규분포 N(0,1^2)에서 10개 추출"
   ]
  },
  {
   "cell_type": "markdown",
   "id": "8fb058dc",
   "metadata": {},
   "source": [
    "### operation function\n",
    "\n",
    "sum\n",
    "- 배열 안 전체 요소 총합을 구함\n",
    "\n",
    "axis\n",
    "- 모든 operation function을 실행할 때, 기준이 되는 dimension 축\n",
    "\n",
    "mean & std\n",
    "- 배열의 요소 간의 평균 또는 표준편차 반환\n",
    "\n",
    "Mathematical functions\n",
    "- 이처럼 np.something 형식을 사용하여 수학 연산자를 사용할 수 있음!\n",
    "    - exp, sqrt 등\n",
    "    \n",
    "concatenate\n",
    "- 배열을 합치는 함수\n",
    "    - vstack & hstack\n",
    "    - concatenate"
   ]
  },
  {
   "cell_type": "markdown",
   "id": "8f853c51",
   "metadata": {},
   "source": [
    "sum"
   ]
  },
  {
   "cell_type": "code",
   "execution_count": 145,
   "id": "22780f39",
   "metadata": {},
   "outputs": [
    {
     "data": {
      "text/plain": [
       "array([[0, 1, 2, 3, 4],\n",
       "       [5, 6, 7, 8, 9]])"
      ]
     },
     "execution_count": 145,
     "metadata": {},
     "output_type": "execute_result"
    }
   ],
   "source": [
    "su = np.arange(10).reshape(2,5)\n",
    "su"
   ]
  },
  {
   "cell_type": "code",
   "execution_count": 146,
   "id": "34c8488a",
   "metadata": {},
   "outputs": [
    {
     "data": {
      "text/plain": [
       "45"
      ]
     },
     "execution_count": 146,
     "metadata": {},
     "output_type": "execute_result"
    }
   ],
   "source": [
    "np.sum(su) # np.sum 형식"
   ]
  },
  {
   "cell_type": "code",
   "execution_count": 147,
   "id": "9440e29a",
   "metadata": {},
   "outputs": [
    {
     "data": {
      "text/plain": [
       "45"
      ]
     },
     "execution_count": 147,
     "metadata": {},
     "output_type": "execute_result"
    }
   ],
   "source": [
    "su.sum() # .sum()"
   ]
  },
  {
   "cell_type": "code",
   "execution_count": 149,
   "id": "5426f320",
   "metadata": {},
   "outputs": [
    {
     "data": {
      "text/plain": [
       "45.0"
      ]
     },
     "execution_count": 149,
     "metadata": {},
     "output_type": "execute_result"
    }
   ],
   "source": [
    "su.sum(dtype=float) # 형식 지정해서 총합 가능!"
   ]
  },
  {
   "cell_type": "markdown",
   "id": "41d2dc1e",
   "metadata": {},
   "source": [
    "axis"
   ]
  },
  {
   "cell_type": "code",
   "execution_count": 150,
   "id": "baf33033",
   "metadata": {},
   "outputs": [
    {
     "data": {
      "text/plain": [
       "array([[0, 1, 2, 3, 4],\n",
       "       [5, 6, 7, 8, 9]])"
      ]
     },
     "execution_count": 150,
     "metadata": {},
     "output_type": "execute_result"
    }
   ],
   "source": [
    "xis = np.arange(10).reshape(2,5)\n",
    "xis"
   ]
  },
  {
   "cell_type": "code",
   "execution_count": 151,
   "id": "b3b23399",
   "metadata": {},
   "outputs": [
    {
     "data": {
      "text/plain": [
       "array([ 5,  7,  9, 11, 13])"
      ]
     },
     "execution_count": 151,
     "metadata": {},
     "output_type": "execute_result"
    }
   ],
   "source": [
    "xis.sum(axis=0) # row를 기준으로 총합"
   ]
  },
  {
   "cell_type": "code",
   "execution_count": 152,
   "id": "01d3c998",
   "metadata": {},
   "outputs": [
    {
     "data": {
      "text/plain": [
       "array([10, 35])"
      ]
     },
     "execution_count": 152,
     "metadata": {},
     "output_type": "execute_result"
    }
   ],
   "source": [
    "xis.sum(axis=1) # col 기준으로 총합"
   ]
  },
  {
   "cell_type": "code",
   "execution_count": 155,
   "id": "c925b224",
   "metadata": {},
   "outputs": [
    {
     "data": {
      "text/plain": [
       "array([[[0, 1, 2, 3, 4],\n",
       "        [5, 6, 7, 8, 9]],\n",
       "\n",
       "       [[0, 1, 2, 3, 4],\n",
       "        [5, 6, 7, 8, 9]],\n",
       "\n",
       "       [[0, 1, 2, 3, 4],\n",
       "        [5, 6, 7, 8, 9]]])"
      ]
     },
     "execution_count": 155,
     "metadata": {},
     "output_type": "execute_result"
    }
   ],
   "source": [
    "x = np.array([xis, xis, xis])\n",
    "x"
   ]
  },
  {
   "cell_type": "code",
   "execution_count": 157,
   "id": "49a098fb",
   "metadata": {},
   "outputs": [
    {
     "data": {
      "text/plain": [
       "(3, 2, 5)"
      ]
     },
     "execution_count": 157,
     "metadata": {},
     "output_type": "execute_result"
    }
   ],
   "source": [
    "x.shape # shape의 각 위치 = axis의 0, 1, 2..."
   ]
  },
  {
   "cell_type": "code",
   "execution_count": 159,
   "id": "6d0a0d27",
   "metadata": {
    "scrolled": true
   },
   "outputs": [
    {
     "data": {
      "text/plain": [
       "array([[ 0,  3,  6,  9, 12],\n",
       "       [15, 18, 21, 24, 27]])"
      ]
     },
     "execution_count": 159,
     "metadata": {},
     "output_type": "execute_result"
    }
   ],
   "source": [
    "x.sum(axis=0) # 각 데이터의 위치에 따라서 합해짐"
   ]
  },
  {
   "cell_type": "code",
   "execution_count": 161,
   "id": "d195a122",
   "metadata": {
    "scrolled": true
   },
   "outputs": [
    {
     "data": {
      "text/plain": [
       "array([[ 5,  7,  9, 11, 13],\n",
       "       [ 5,  7,  9, 11, 13],\n",
       "       [ 5,  7,  9, 11, 13]])"
      ]
     },
     "execution_count": 161,
     "metadata": {},
     "output_type": "execute_result"
    }
   ],
   "source": [
    "x.sum(axis=1) # 각 열의 합"
   ]
  },
  {
   "cell_type": "code",
   "execution_count": 162,
   "id": "6f608558",
   "metadata": {},
   "outputs": [
    {
     "data": {
      "text/plain": [
       "array([[10, 35],\n",
       "       [10, 35],\n",
       "       [10, 35]])"
      ]
     },
     "execution_count": 162,
     "metadata": {},
     "output_type": "execute_result"
    }
   ],
   "source": [
    "x.sum(axis=2) # 각 행의 총합"
   ]
  },
  {
   "cell_type": "markdown",
   "id": "fa7785f2",
   "metadata": {},
   "source": [
    "mean & std"
   ]
  },
  {
   "cell_type": "code",
   "execution_count": 168,
   "id": "0193837e",
   "metadata": {},
   "outputs": [
    {
     "data": {
      "text/plain": [
       "array([[ 1,  2,  3],\n",
       "       [ 4,  5,  6],\n",
       "       [ 7,  8,  9],\n",
       "       [10, 11, 12]])"
      ]
     },
     "execution_count": 168,
     "metadata": {},
     "output_type": "execute_result"
    }
   ],
   "source": [
    "test = np.arange(1,13).reshape(4,3)\n",
    "test"
   ]
  },
  {
   "cell_type": "code",
   "execution_count": 169,
   "id": "19709cef",
   "metadata": {},
   "outputs": [
    {
     "data": {
      "text/plain": [
       "6.5"
      ]
     },
     "execution_count": 169,
     "metadata": {},
     "output_type": "execute_result"
    }
   ],
   "source": [
    "test.mean()"
   ]
  },
  {
   "cell_type": "code",
   "execution_count": 172,
   "id": "1f8ecb8b",
   "metadata": {},
   "outputs": [
    {
     "data": {
      "text/plain": [
       "3.452052529534663"
      ]
     },
     "execution_count": 172,
     "metadata": {},
     "output_type": "execute_result"
    }
   ],
   "source": [
    "test.std()"
   ]
  },
  {
   "cell_type": "code",
   "execution_count": 173,
   "id": "12946380",
   "metadata": {},
   "outputs": [
    {
     "data": {
      "text/plain": [
       "array([3.35410197, 3.35410197, 3.35410197])"
      ]
     },
     "execution_count": 173,
     "metadata": {},
     "output_type": "execute_result"
    }
   ],
   "source": [
    "test.std(axis = 0) # 각 열에 대해서 표준편차 계산"
   ]
  },
  {
   "cell_type": "markdown",
   "id": "aac29af8",
   "metadata": {},
   "source": [
    "Mathematical functions"
   ]
  },
  {
   "cell_type": "code",
   "execution_count": 175,
   "id": "00f2a358",
   "metadata": {},
   "outputs": [
    {
     "data": {
      "text/plain": [
       "6.5"
      ]
     },
     "execution_count": 175,
     "metadata": {},
     "output_type": "execute_result"
    }
   ],
   "source": [
    "np.mean(test) # 앞서 말한 수학 연산자 또한 np.something의 형태로 출력 가능하다!"
   ]
  },
  {
   "cell_type": "code",
   "execution_count": 176,
   "id": "61b57074",
   "metadata": {},
   "outputs": [
    {
     "data": {
      "text/plain": [
       "array([[2.71828183e+00, 7.38905610e+00, 2.00855369e+01],\n",
       "       [5.45981500e+01, 1.48413159e+02, 4.03428793e+02],\n",
       "       [1.09663316e+03, 2.98095799e+03, 8.10308393e+03],\n",
       "       [2.20264658e+04, 5.98741417e+04, 1.62754791e+05]])"
      ]
     },
     "execution_count": 176,
     "metadata": {},
     "output_type": "execute_result"
    }
   ],
   "source": [
    "np.exp(test)"
   ]
  },
  {
   "cell_type": "code",
   "execution_count": 177,
   "id": "ae1c85d2",
   "metadata": {},
   "outputs": [
    {
     "data": {
      "text/plain": [
       "array([[1.        , 1.41421356, 1.73205081],\n",
       "       [2.        , 2.23606798, 2.44948974],\n",
       "       [2.64575131, 2.82842712, 3.        ],\n",
       "       [3.16227766, 3.31662479, 3.46410162]])"
      ]
     },
     "execution_count": 177,
     "metadata": {},
     "output_type": "execute_result"
    }
   ],
   "source": [
    "np.sqrt(test)"
   ]
  },
  {
   "cell_type": "markdown",
   "id": "98cfdda9",
   "metadata": {},
   "source": [
    "concatenate"
   ]
  },
  {
   "cell_type": "code",
   "execution_count": 178,
   "id": "5dcb0f97",
   "metadata": {},
   "outputs": [
    {
     "data": {
      "text/plain": [
       "(array([1, 2, 3]), array([4, 5, 6]))"
      ]
     },
     "execution_count": 178,
     "metadata": {},
     "output_type": "execute_result"
    }
   ],
   "source": [
    "a= np.array([1,2,3])\n",
    "b= np.array([4,5,6])\n",
    "a, b"
   ]
  },
  {
   "cell_type": "code",
   "execution_count": 180,
   "id": "5d06eb58",
   "metadata": {},
   "outputs": [
    {
     "data": {
      "text/plain": [
       "array([[1, 2, 3],\n",
       "       [4, 5, 6]])"
      ]
     },
     "execution_count": 180,
     "metadata": {},
     "output_type": "execute_result"
    }
   ],
   "source": [
    "np.vstack((a, b)) # vertical 합침"
   ]
  },
  {
   "cell_type": "code",
   "execution_count": 186,
   "id": "00d9cd7d",
   "metadata": {},
   "outputs": [
    {
     "data": {
      "text/plain": [
       "(array([[1],\n",
       "        [2],\n",
       "        [3]]),\n",
       " array([[4],\n",
       "        [5],\n",
       "        [6]]))"
      ]
     },
     "execution_count": 186,
     "metadata": {},
     "output_type": "execute_result"
    }
   ],
   "source": [
    "a = np.array([[1],[2],[3]])\n",
    "b = np.array([[4],[5],[6]])\n",
    "a, b"
   ]
  },
  {
   "cell_type": "code",
   "execution_count": 187,
   "id": "33b3c730",
   "metadata": {},
   "outputs": [
    {
     "data": {
      "text/plain": [
       "array([[1, 4],\n",
       "       [2, 5],\n",
       "       [3, 6]])"
      ]
     },
     "execution_count": 187,
     "metadata": {},
     "output_type": "execute_result"
    }
   ],
   "source": [
    "np.hstack((a, b)) # horizon으로 합친다"
   ]
  },
  {
   "cell_type": "code",
   "execution_count": 193,
   "id": "bda667ad",
   "metadata": {},
   "outputs": [
    {
     "data": {
      "text/plain": [
       "array([[1, 2, 3],\n",
       "       [4, 5, 6]])"
      ]
     },
     "execution_count": 193,
     "metadata": {},
     "output_type": "execute_result"
    }
   ],
   "source": [
    "a= np.array([[1,2,3]])\n",
    "b= np.array([[4,5,6]])\n",
    "np.concatenate((a, b), axis=0) # vertical 합침"
   ]
  },
  {
   "cell_type": "code",
   "execution_count": 191,
   "id": "4e21b427",
   "metadata": {},
   "outputs": [
    {
     "data": {
      "text/plain": [
       "array([[1, 4],\n",
       "       [2, 5],\n",
       "       [3, 6]])"
      ]
     },
     "execution_count": 191,
     "metadata": {},
     "output_type": "execute_result"
    }
   ],
   "source": [
    "a = np.array([[1],[2],[3]])\n",
    "b = np.array([[4],[5],[6]])\n",
    "np.concatenate((a, b), axis=1) # horizon 합침"
   ]
  },
  {
   "cell_type": "markdown",
   "id": "7776c978",
   "metadata": {},
   "source": [
    "### array operations\n",
    "\n",
    "operations b/t arrays\n",
    "- 기본적인 사칙 연산을 지원!\n",
    "- 매트릭스내 요소들 간 같은 위치에 있는 값들끼리 연산\n",
    "\n",
    "element-wise operations\n",
    "- 배열간 shape이 같을 때 일어나는 연산\n",
    "\n",
    "dot product\n",
    "- 매트릭스의 기본 연산\n",
    "    - 첫 번째의 행과 그 다음의 열을 곱하는 것\n",
    "- dot 함수 사용\n",
    "\n",
    "transpose\n",
    "- transpose 또는 T 사용\n",
    "\n",
    "broadcasting\n",
    "- Shape이 다른 배열 간 연산을 지원하는 기능\n",
    "- Scalar vector 외에도 vector matrix 간의 연산도 지원\n",
    "    - 단, 행이나 열 중 하나는 shape이 맞아야 한다!\n"
   ]
  },
  {
   "cell_type": "markdown",
   "id": "71209763",
   "metadata": {},
   "source": [
    "operations b/t arrays + element-wise operations"
   ]
  },
  {
   "cell_type": "code",
   "execution_count": 196,
   "id": "27ab763e",
   "metadata": {
    "scrolled": true
   },
   "outputs": [
    {
     "data": {
      "text/plain": [
       "array([[1, 2, 3],\n",
       "       [4, 5, 6]])"
      ]
     },
     "execution_count": 196,
     "metadata": {},
     "output_type": "execute_result"
    }
   ],
   "source": [
    "test_a = np.array([[1,2,3],[4,5,6]])\n",
    "test_a"
   ]
  },
  {
   "cell_type": "code",
   "execution_count": 197,
   "id": "bd8acc87",
   "metadata": {},
   "outputs": [
    {
     "data": {
      "text/plain": [
       "array([[ 2,  4,  6],\n",
       "       [ 8, 10, 12]])"
      ]
     },
     "execution_count": 197,
     "metadata": {},
     "output_type": "execute_result"
    }
   ],
   "source": [
    "test_a + test_a # 더하기"
   ]
  },
  {
   "cell_type": "code",
   "execution_count": 198,
   "id": "691b93fb",
   "metadata": {},
   "outputs": [
    {
     "data": {
      "text/plain": [
       "array([[0, 0, 0],\n",
       "       [0, 0, 0]])"
      ]
     },
     "execution_count": 198,
     "metadata": {},
     "output_type": "execute_result"
    }
   ],
   "source": [
    "test_a - test_a"
   ]
  },
  {
   "cell_type": "code",
   "execution_count": 199,
   "id": "3eef0991",
   "metadata": {},
   "outputs": [
    {
     "data": {
      "text/plain": [
       "array([[ 1,  4,  9],\n",
       "       [16, 25, 36]])"
      ]
     },
     "execution_count": 199,
     "metadata": {},
     "output_type": "execute_result"
    }
   ],
   "source": [
    "test_a * test_a"
   ]
  },
  {
   "cell_type": "markdown",
   "id": "66197bd0",
   "metadata": {},
   "source": [
    "dot product"
   ]
  },
  {
   "cell_type": "code",
   "execution_count": 202,
   "id": "41f0f665",
   "metadata": {},
   "outputs": [
    {
     "data": {
      "text/plain": [
       "(array([[1, 2, 3],\n",
       "        [4, 5, 6]]),\n",
       " array([[1, 2],\n",
       "        [3, 4],\n",
       "        [5, 6]]))"
      ]
     },
     "execution_count": 202,
     "metadata": {},
     "output_type": "execute_result"
    }
   ],
   "source": [
    "test_a = np.arange(1,7).reshape(2,3)\n",
    "test_b = np.arange(1,7).reshape(3,2)\n",
    "test_a, test_b"
   ]
  },
  {
   "cell_type": "code",
   "execution_count": 203,
   "id": "300c2dd6",
   "metadata": {},
   "outputs": [
    {
     "data": {
      "text/plain": [
       "array([[22, 28],\n",
       "       [49, 64]])"
      ]
     },
     "execution_count": 203,
     "metadata": {},
     "output_type": "execute_result"
    }
   ],
   "source": [
    "test_a.dot(test_b)"
   ]
  },
  {
   "cell_type": "markdown",
   "id": "47e8aa65",
   "metadata": {},
   "source": [
    "transpose"
   ]
  },
  {
   "cell_type": "code",
   "execution_count": 204,
   "id": "6d658a30",
   "metadata": {
    "scrolled": true
   },
   "outputs": [
    {
     "data": {
      "text/plain": [
       "array([[1, 2, 3],\n",
       "       [4, 5, 6]])"
      ]
     },
     "execution_count": 204,
     "metadata": {},
     "output_type": "execute_result"
    }
   ],
   "source": [
    "test_a = np.arange(1,7).reshape(2,3)\n",
    "test_a"
   ]
  },
  {
   "cell_type": "code",
   "execution_count": 205,
   "id": "8920ea14",
   "metadata": {},
   "outputs": [
    {
     "data": {
      "text/plain": [
       "array([[1, 4],\n",
       "       [2, 5],\n",
       "       [3, 6]])"
      ]
     },
     "execution_count": 205,
     "metadata": {},
     "output_type": "execute_result"
    }
   ],
   "source": [
    "test_a.T"
   ]
  },
  {
   "cell_type": "code",
   "execution_count": 206,
   "id": "7dd1b194",
   "metadata": {},
   "outputs": [
    {
     "data": {
      "text/plain": [
       "array([[1, 4],\n",
       "       [2, 5],\n",
       "       [3, 6]])"
      ]
     },
     "execution_count": 206,
     "metadata": {},
     "output_type": "execute_result"
    }
   ],
   "source": [
    "test_a.transpose()"
   ]
  },
  {
   "cell_type": "markdown",
   "id": "e524f7f9",
   "metadata": {},
   "source": [
    "broadcasting"
   ]
  },
  {
   "cell_type": "code",
   "execution_count": 208,
   "id": "63e83daf",
   "metadata": {},
   "outputs": [
    {
     "data": {
      "text/plain": [
       "(array([[1., 2., 3.],\n",
       "        [4., 5., 6.]]),\n",
       " 3)"
      ]
     },
     "execution_count": 208,
     "metadata": {},
     "output_type": "execute_result"
    }
   ],
   "source": [
    "test_ma = np.array([[1,2,3], [4,5,6]], float)\n",
    "s = 3\n",
    "test_ma, s"
   ]
  },
  {
   "cell_type": "code",
   "execution_count": 209,
   "id": "f781db9d",
   "metadata": {},
   "outputs": [
    {
     "data": {
      "text/plain": [
       "array([[4., 5., 6.],\n",
       "       [7., 8., 9.]])"
      ]
     },
     "execution_count": 209,
     "metadata": {},
     "output_type": "execute_result"
    }
   ],
   "source": [
    "test_ma + s # 매트릭스 + 스칼라"
   ]
  },
  {
   "cell_type": "code",
   "execution_count": 211,
   "id": "cd908a5c",
   "metadata": {},
   "outputs": [
    {
     "data": {
      "text/plain": [
       "array([[-2., -1.,  0.],\n",
       "       [ 1.,  2.,  3.]])"
      ]
     },
     "execution_count": 211,
     "metadata": {},
     "output_type": "execute_result"
    }
   ],
   "source": [
    "test_ma - s # 매트릭스 - 스칼라"
   ]
  },
  {
   "cell_type": "code",
   "execution_count": 213,
   "id": "e4f5f470",
   "metadata": {},
   "outputs": [
    {
     "data": {
      "text/plain": [
       "array([[0., 0., 1.],\n",
       "       [1., 1., 2.]])"
      ]
     },
     "execution_count": 213,
     "metadata": {},
     "output_type": "execute_result"
    }
   ],
   "source": [
    "test_ma // s # 매트릭스 // 스칼라 = 몫"
   ]
  },
  {
   "cell_type": "code",
   "execution_count": 212,
   "id": "82b18d2d",
   "metadata": {},
   "outputs": [
    {
     "data": {
      "text/plain": [
       "array([[ 3.,  6.,  9.],\n",
       "       [12., 15., 18.]])"
      ]
     },
     "execution_count": 212,
     "metadata": {},
     "output_type": "execute_result"
    }
   ],
   "source": [
    "test_ma * s # 매트릭스 * 스칼라"
   ]
  },
  {
   "cell_type": "code",
   "execution_count": 214,
   "id": "eb1d7cd0",
   "metadata": {},
   "outputs": [
    {
     "data": {
      "text/plain": [
       "array([[0.33333333, 0.66666667, 1.        ],\n",
       "       [1.33333333, 1.66666667, 2.        ]])"
      ]
     },
     "execution_count": 214,
     "metadata": {},
     "output_type": "execute_result"
    }
   ],
   "source": [
    "test_ma / s # 매트릭스 / 스칼라 = 나눗셈"
   ]
  },
  {
   "cell_type": "code",
   "execution_count": 215,
   "id": "344e4bef",
   "metadata": {},
   "outputs": [
    {
     "data": {
      "text/plain": [
       "array([[  1.,   8.,  27.],\n",
       "       [ 64., 125., 216.]])"
      ]
     },
     "execution_count": 215,
     "metadata": {},
     "output_type": "execute_result"
    }
   ],
   "source": [
    "test_ma ** s # 매트릭스 ** 스칼라 = 제곱"
   ]
  },
  {
   "cell_type": "markdown",
   "id": "d819d992",
   "metadata": {},
   "source": [
    "### Numpy performance #1"
   ]
  },
  {
   "cell_type": "code",
   "execution_count": 216,
   "id": "f5b00aa4",
   "metadata": {},
   "outputs": [],
   "source": [
    "def scalar_vector(scalar, vector):\n",
    "# 입력받은 스칼라와 벡터 안 요소 값들을 곱해서 result에 추가하는 함수\n",
    "    result = []\n",
    "    for value in vector:\n",
    "        result.append(scalar * value)\n",
    "    return result"
   ]
  },
  {
   "cell_type": "code",
   "execution_count": 217,
   "id": "47a61ff8",
   "metadata": {},
   "outputs": [
    {
     "data": {
      "text/plain": [
       "(2,\n",
       " [0,\n",
       "  1,\n",
       "  2,\n",
       "  3,\n",
       "  4,\n",
       "  5,\n",
       "  6,\n",
       "  7,\n",
       "  8,\n",
       "  9,\n",
       "  10,\n",
       "  11,\n",
       "  12,\n",
       "  13,\n",
       "  14,\n",
       "  15,\n",
       "  16,\n",
       "  17,\n",
       "  18,\n",
       "  19,\n",
       "  20,\n",
       "  21,\n",
       "  22,\n",
       "  23,\n",
       "  24,\n",
       "  25,\n",
       "  26,\n",
       "  27,\n",
       "  28,\n",
       "  29,\n",
       "  30,\n",
       "  31,\n",
       "  32,\n",
       "  33,\n",
       "  34,\n",
       "  35,\n",
       "  36,\n",
       "  37,\n",
       "  38,\n",
       "  39,\n",
       "  40,\n",
       "  41,\n",
       "  42,\n",
       "  43,\n",
       "  44,\n",
       "  45,\n",
       "  46,\n",
       "  47,\n",
       "  48,\n",
       "  49,\n",
       "  50,\n",
       "  51,\n",
       "  52,\n",
       "  53,\n",
       "  54,\n",
       "  55,\n",
       "  56,\n",
       "  57,\n",
       "  58,\n",
       "  59,\n",
       "  60,\n",
       "  61,\n",
       "  62,\n",
       "  63,\n",
       "  64,\n",
       "  65,\n",
       "  66,\n",
       "  67,\n",
       "  68,\n",
       "  69,\n",
       "  70,\n",
       "  71,\n",
       "  72,\n",
       "  73,\n",
       "  74,\n",
       "  75,\n",
       "  76,\n",
       "  77,\n",
       "  78,\n",
       "  79,\n",
       "  80,\n",
       "  81,\n",
       "  82,\n",
       "  83,\n",
       "  84,\n",
       "  85,\n",
       "  86,\n",
       "  87,\n",
       "  88,\n",
       "  89,\n",
       "  90,\n",
       "  91,\n",
       "  92,\n",
       "  93,\n",
       "  94,\n",
       "  95,\n",
       "  96,\n",
       "  97,\n",
       "  98,\n",
       "  99,\n",
       "  100,\n",
       "  101,\n",
       "  102,\n",
       "  103,\n",
       "  104,\n",
       "  105,\n",
       "  106,\n",
       "  107,\n",
       "  108,\n",
       "  109,\n",
       "  110,\n",
       "  111,\n",
       "  112,\n",
       "  113,\n",
       "  114,\n",
       "  115,\n",
       "  116,\n",
       "  117,\n",
       "  118,\n",
       "  119,\n",
       "  120,\n",
       "  121,\n",
       "  122,\n",
       "  123,\n",
       "  124,\n",
       "  125,\n",
       "  126,\n",
       "  127,\n",
       "  128,\n",
       "  129,\n",
       "  130,\n",
       "  131,\n",
       "  132,\n",
       "  133,\n",
       "  134,\n",
       "  135,\n",
       "  136,\n",
       "  137,\n",
       "  138,\n",
       "  139,\n",
       "  140,\n",
       "  141,\n",
       "  142,\n",
       "  143,\n",
       "  144,\n",
       "  145,\n",
       "  146,\n",
       "  147,\n",
       "  148,\n",
       "  149,\n",
       "  150,\n",
       "  151,\n",
       "  152,\n",
       "  153,\n",
       "  154,\n",
       "  155,\n",
       "  156,\n",
       "  157,\n",
       "  158,\n",
       "  159,\n",
       "  160,\n",
       "  161,\n",
       "  162,\n",
       "  163,\n",
       "  164,\n",
       "  165,\n",
       "  166,\n",
       "  167,\n",
       "  168,\n",
       "  169,\n",
       "  170,\n",
       "  171,\n",
       "  172,\n",
       "  173,\n",
       "  174,\n",
       "  175,\n",
       "  176,\n",
       "  177,\n",
       "  178,\n",
       "  179,\n",
       "  180,\n",
       "  181,\n",
       "  182,\n",
       "  183,\n",
       "  184,\n",
       "  185,\n",
       "  186,\n",
       "  187,\n",
       "  188,\n",
       "  189,\n",
       "  190,\n",
       "  191,\n",
       "  192,\n",
       "  193,\n",
       "  194,\n",
       "  195,\n",
       "  196,\n",
       "  197,\n",
       "  198,\n",
       "  199,\n",
       "  200,\n",
       "  201,\n",
       "  202,\n",
       "  203,\n",
       "  204,\n",
       "  205,\n",
       "  206,\n",
       "  207,\n",
       "  208,\n",
       "  209,\n",
       "  210,\n",
       "  211,\n",
       "  212,\n",
       "  213,\n",
       "  214,\n",
       "  215,\n",
       "  216,\n",
       "  217,\n",
       "  218,\n",
       "  219,\n",
       "  220,\n",
       "  221,\n",
       "  222,\n",
       "  223,\n",
       "  224,\n",
       "  225,\n",
       "  226,\n",
       "  227,\n",
       "  228,\n",
       "  229,\n",
       "  230,\n",
       "  231,\n",
       "  232,\n",
       "  233,\n",
       "  234,\n",
       "  235,\n",
       "  236,\n",
       "  237,\n",
       "  238,\n",
       "  239,\n",
       "  240,\n",
       "  241,\n",
       "  242,\n",
       "  243,\n",
       "  244,\n",
       "  245,\n",
       "  246,\n",
       "  247,\n",
       "  248,\n",
       "  249,\n",
       "  250,\n",
       "  251,\n",
       "  252,\n",
       "  253,\n",
       "  254,\n",
       "  255,\n",
       "  256,\n",
       "  257,\n",
       "  258,\n",
       "  259,\n",
       "  260,\n",
       "  261,\n",
       "  262,\n",
       "  263,\n",
       "  264,\n",
       "  265,\n",
       "  266,\n",
       "  267,\n",
       "  268,\n",
       "  269,\n",
       "  270,\n",
       "  271,\n",
       "  272,\n",
       "  273,\n",
       "  274,\n",
       "  275,\n",
       "  276,\n",
       "  277,\n",
       "  278,\n",
       "  279,\n",
       "  280,\n",
       "  281,\n",
       "  282,\n",
       "  283,\n",
       "  284,\n",
       "  285,\n",
       "  286,\n",
       "  287,\n",
       "  288,\n",
       "  289,\n",
       "  290,\n",
       "  291,\n",
       "  292,\n",
       "  293,\n",
       "  294,\n",
       "  295,\n",
       "  296,\n",
       "  297,\n",
       "  298,\n",
       "  299,\n",
       "  300,\n",
       "  301,\n",
       "  302,\n",
       "  303,\n",
       "  304,\n",
       "  305,\n",
       "  306,\n",
       "  307,\n",
       "  308,\n",
       "  309,\n",
       "  310,\n",
       "  311,\n",
       "  312,\n",
       "  313,\n",
       "  314,\n",
       "  315,\n",
       "  316,\n",
       "  317,\n",
       "  318,\n",
       "  319,\n",
       "  320,\n",
       "  321,\n",
       "  322,\n",
       "  323,\n",
       "  324,\n",
       "  325,\n",
       "  326,\n",
       "  327,\n",
       "  328,\n",
       "  329,\n",
       "  330,\n",
       "  331,\n",
       "  332,\n",
       "  333,\n",
       "  334,\n",
       "  335,\n",
       "  336,\n",
       "  337,\n",
       "  338,\n",
       "  339,\n",
       "  340,\n",
       "  341,\n",
       "  342,\n",
       "  343,\n",
       "  344,\n",
       "  345,\n",
       "  346,\n",
       "  347,\n",
       "  348,\n",
       "  349,\n",
       "  350,\n",
       "  351,\n",
       "  352,\n",
       "  353,\n",
       "  354,\n",
       "  355,\n",
       "  356,\n",
       "  357,\n",
       "  358,\n",
       "  359,\n",
       "  360,\n",
       "  361,\n",
       "  362,\n",
       "  363,\n",
       "  364,\n",
       "  365,\n",
       "  366,\n",
       "  367,\n",
       "  368,\n",
       "  369,\n",
       "  370,\n",
       "  371,\n",
       "  372,\n",
       "  373,\n",
       "  374,\n",
       "  375,\n",
       "  376,\n",
       "  377,\n",
       "  378,\n",
       "  379,\n",
       "  380,\n",
       "  381,\n",
       "  382,\n",
       "  383,\n",
       "  384,\n",
       "  385,\n",
       "  386,\n",
       "  387,\n",
       "  388,\n",
       "  389,\n",
       "  390,\n",
       "  391,\n",
       "  392,\n",
       "  393,\n",
       "  394,\n",
       "  395,\n",
       "  396,\n",
       "  397,\n",
       "  398,\n",
       "  399,\n",
       "  400,\n",
       "  401,\n",
       "  402,\n",
       "  403,\n",
       "  404,\n",
       "  405,\n",
       "  406,\n",
       "  407,\n",
       "  408,\n",
       "  409,\n",
       "  410,\n",
       "  411,\n",
       "  412,\n",
       "  413,\n",
       "  414,\n",
       "  415,\n",
       "  416,\n",
       "  417,\n",
       "  418,\n",
       "  419,\n",
       "  420,\n",
       "  421,\n",
       "  422,\n",
       "  423,\n",
       "  424,\n",
       "  425,\n",
       "  426,\n",
       "  427,\n",
       "  428,\n",
       "  429,\n",
       "  430,\n",
       "  431,\n",
       "  432,\n",
       "  433,\n",
       "  434,\n",
       "  435,\n",
       "  436,\n",
       "  437,\n",
       "  438,\n",
       "  439,\n",
       "  440,\n",
       "  441,\n",
       "  442,\n",
       "  443,\n",
       "  444,\n",
       "  445,\n",
       "  446,\n",
       "  447,\n",
       "  448,\n",
       "  449,\n",
       "  450,\n",
       "  451,\n",
       "  452,\n",
       "  453,\n",
       "  454,\n",
       "  455,\n",
       "  456,\n",
       "  457,\n",
       "  458,\n",
       "  459,\n",
       "  460,\n",
       "  461,\n",
       "  462,\n",
       "  463,\n",
       "  464,\n",
       "  465,\n",
       "  466,\n",
       "  467,\n",
       "  468,\n",
       "  469,\n",
       "  470,\n",
       "  471,\n",
       "  472,\n",
       "  473,\n",
       "  474,\n",
       "  475,\n",
       "  476,\n",
       "  477,\n",
       "  478,\n",
       "  479,\n",
       "  480,\n",
       "  481,\n",
       "  482,\n",
       "  483,\n",
       "  484,\n",
       "  485,\n",
       "  486,\n",
       "  487,\n",
       "  488,\n",
       "  489,\n",
       "  490,\n",
       "  491,\n",
       "  492,\n",
       "  493,\n",
       "  494,\n",
       "  495,\n",
       "  496,\n",
       "  497,\n",
       "  498,\n",
       "  499,\n",
       "  500,\n",
       "  501,\n",
       "  502,\n",
       "  503,\n",
       "  504,\n",
       "  505,\n",
       "  506,\n",
       "  507,\n",
       "  508,\n",
       "  509,\n",
       "  510,\n",
       "  511,\n",
       "  512,\n",
       "  513,\n",
       "  514,\n",
       "  515,\n",
       "  516,\n",
       "  517,\n",
       "  518,\n",
       "  519,\n",
       "  520,\n",
       "  521,\n",
       "  522,\n",
       "  523,\n",
       "  524,\n",
       "  525,\n",
       "  526,\n",
       "  527,\n",
       "  528,\n",
       "  529,\n",
       "  530,\n",
       "  531,\n",
       "  532,\n",
       "  533,\n",
       "  534,\n",
       "  535,\n",
       "  536,\n",
       "  537,\n",
       "  538,\n",
       "  539,\n",
       "  540,\n",
       "  541,\n",
       "  542,\n",
       "  543,\n",
       "  544,\n",
       "  545,\n",
       "  546,\n",
       "  547,\n",
       "  548,\n",
       "  549,\n",
       "  550,\n",
       "  551,\n",
       "  552,\n",
       "  553,\n",
       "  554,\n",
       "  555,\n",
       "  556,\n",
       "  557,\n",
       "  558,\n",
       "  559,\n",
       "  560,\n",
       "  561,\n",
       "  562,\n",
       "  563,\n",
       "  564,\n",
       "  565,\n",
       "  566,\n",
       "  567,\n",
       "  568,\n",
       "  569,\n",
       "  570,\n",
       "  571,\n",
       "  572,\n",
       "  573,\n",
       "  574,\n",
       "  575,\n",
       "  576,\n",
       "  577,\n",
       "  578,\n",
       "  579,\n",
       "  580,\n",
       "  581,\n",
       "  582,\n",
       "  583,\n",
       "  584,\n",
       "  585,\n",
       "  586,\n",
       "  587,\n",
       "  588,\n",
       "  589,\n",
       "  590,\n",
       "  591,\n",
       "  592,\n",
       "  593,\n",
       "  594,\n",
       "  595,\n",
       "  596,\n",
       "  597,\n",
       "  598,\n",
       "  599,\n",
       "  600,\n",
       "  601,\n",
       "  602,\n",
       "  603,\n",
       "  604,\n",
       "  605,\n",
       "  606,\n",
       "  607,\n",
       "  608,\n",
       "  609,\n",
       "  610,\n",
       "  611,\n",
       "  612,\n",
       "  613,\n",
       "  614,\n",
       "  615,\n",
       "  616,\n",
       "  617,\n",
       "  618,\n",
       "  619,\n",
       "  620,\n",
       "  621,\n",
       "  622,\n",
       "  623,\n",
       "  624,\n",
       "  625,\n",
       "  626,\n",
       "  627,\n",
       "  628,\n",
       "  629,\n",
       "  630,\n",
       "  631,\n",
       "  632,\n",
       "  633,\n",
       "  634,\n",
       "  635,\n",
       "  636,\n",
       "  637,\n",
       "  638,\n",
       "  639,\n",
       "  640,\n",
       "  641,\n",
       "  642,\n",
       "  643,\n",
       "  644,\n",
       "  645,\n",
       "  646,\n",
       "  647,\n",
       "  648,\n",
       "  649,\n",
       "  650,\n",
       "  651,\n",
       "  652,\n",
       "  653,\n",
       "  654,\n",
       "  655,\n",
       "  656,\n",
       "  657,\n",
       "  658,\n",
       "  659,\n",
       "  660,\n",
       "  661,\n",
       "  662,\n",
       "  663,\n",
       "  664,\n",
       "  665,\n",
       "  666,\n",
       "  667,\n",
       "  668,\n",
       "  669,\n",
       "  670,\n",
       "  671,\n",
       "  672,\n",
       "  673,\n",
       "  674,\n",
       "  675,\n",
       "  676,\n",
       "  677,\n",
       "  678,\n",
       "  679,\n",
       "  680,\n",
       "  681,\n",
       "  682,\n",
       "  683,\n",
       "  684,\n",
       "  685,\n",
       "  686,\n",
       "  687,\n",
       "  688,\n",
       "  689,\n",
       "  690,\n",
       "  691,\n",
       "  692,\n",
       "  693,\n",
       "  694,\n",
       "  695,\n",
       "  696,\n",
       "  697,\n",
       "  698,\n",
       "  699,\n",
       "  700,\n",
       "  701,\n",
       "  702,\n",
       "  703,\n",
       "  704,\n",
       "  705,\n",
       "  706,\n",
       "  707,\n",
       "  708,\n",
       "  709,\n",
       "  710,\n",
       "  711,\n",
       "  712,\n",
       "  713,\n",
       "  714,\n",
       "  715,\n",
       "  716,\n",
       "  717,\n",
       "  718,\n",
       "  719,\n",
       "  720,\n",
       "  721,\n",
       "  722,\n",
       "  723,\n",
       "  724,\n",
       "  725,\n",
       "  726,\n",
       "  727,\n",
       "  728,\n",
       "  729,\n",
       "  730,\n",
       "  731,\n",
       "  732,\n",
       "  733,\n",
       "  734,\n",
       "  735,\n",
       "  736,\n",
       "  737,\n",
       "  738,\n",
       "  739,\n",
       "  740,\n",
       "  741,\n",
       "  742,\n",
       "  743,\n",
       "  744,\n",
       "  745,\n",
       "  746,\n",
       "  747,\n",
       "  748,\n",
       "  749,\n",
       "  750,\n",
       "  751,\n",
       "  752,\n",
       "  753,\n",
       "  754,\n",
       "  755,\n",
       "  756,\n",
       "  757,\n",
       "  758,\n",
       "  759,\n",
       "  760,\n",
       "  761,\n",
       "  762,\n",
       "  763,\n",
       "  764,\n",
       "  765,\n",
       "  766,\n",
       "  767,\n",
       "  768,\n",
       "  769,\n",
       "  770,\n",
       "  771,\n",
       "  772,\n",
       "  773,\n",
       "  774,\n",
       "  775,\n",
       "  776,\n",
       "  777,\n",
       "  778,\n",
       "  779,\n",
       "  780,\n",
       "  781,\n",
       "  782,\n",
       "  783,\n",
       "  784,\n",
       "  785,\n",
       "  786,\n",
       "  787,\n",
       "  788,\n",
       "  789,\n",
       "  790,\n",
       "  791,\n",
       "  792,\n",
       "  793,\n",
       "  794,\n",
       "  795,\n",
       "  796,\n",
       "  797,\n",
       "  798,\n",
       "  799,\n",
       "  800,\n",
       "  801,\n",
       "  802,\n",
       "  803,\n",
       "  804,\n",
       "  805,\n",
       "  806,\n",
       "  807,\n",
       "  808,\n",
       "  809,\n",
       "  810,\n",
       "  811,\n",
       "  812,\n",
       "  813,\n",
       "  814,\n",
       "  815,\n",
       "  816,\n",
       "  817,\n",
       "  818,\n",
       "  819,\n",
       "  820,\n",
       "  821,\n",
       "  822,\n",
       "  823,\n",
       "  824,\n",
       "  825,\n",
       "  826,\n",
       "  827,\n",
       "  828,\n",
       "  829,\n",
       "  830,\n",
       "  831,\n",
       "  832,\n",
       "  833,\n",
       "  834,\n",
       "  835,\n",
       "  836,\n",
       "  837,\n",
       "  838,\n",
       "  839,\n",
       "  840,\n",
       "  841,\n",
       "  842,\n",
       "  843,\n",
       "  844,\n",
       "  845,\n",
       "  846,\n",
       "  847,\n",
       "  848,\n",
       "  849,\n",
       "  850,\n",
       "  851,\n",
       "  852,\n",
       "  853,\n",
       "  854,\n",
       "  855,\n",
       "  856,\n",
       "  857,\n",
       "  858,\n",
       "  859,\n",
       "  860,\n",
       "  861,\n",
       "  862,\n",
       "  863,\n",
       "  864,\n",
       "  865,\n",
       "  866,\n",
       "  867,\n",
       "  868,\n",
       "  869,\n",
       "  870,\n",
       "  871,\n",
       "  872,\n",
       "  873,\n",
       "  874,\n",
       "  875,\n",
       "  876,\n",
       "  877,\n",
       "  878,\n",
       "  879,\n",
       "  880,\n",
       "  881,\n",
       "  882,\n",
       "  883,\n",
       "  884,\n",
       "  885,\n",
       "  886,\n",
       "  887,\n",
       "  888,\n",
       "  889,\n",
       "  890,\n",
       "  891,\n",
       "  892,\n",
       "  893,\n",
       "  894,\n",
       "  895,\n",
       "  896,\n",
       "  897,\n",
       "  898,\n",
       "  899,\n",
       "  900,\n",
       "  901,\n",
       "  902,\n",
       "  903,\n",
       "  904,\n",
       "  905,\n",
       "  906,\n",
       "  907,\n",
       "  908,\n",
       "  909,\n",
       "  910,\n",
       "  911,\n",
       "  912,\n",
       "  913,\n",
       "  914,\n",
       "  915,\n",
       "  916,\n",
       "  917,\n",
       "  918,\n",
       "  919,\n",
       "  920,\n",
       "  921,\n",
       "  922,\n",
       "  923,\n",
       "  924,\n",
       "  925,\n",
       "  926,\n",
       "  927,\n",
       "  928,\n",
       "  929,\n",
       "  930,\n",
       "  931,\n",
       "  932,\n",
       "  933,\n",
       "  934,\n",
       "  935,\n",
       "  936,\n",
       "  937,\n",
       "  938,\n",
       "  939,\n",
       "  940,\n",
       "  941,\n",
       "  942,\n",
       "  943,\n",
       "  944,\n",
       "  945,\n",
       "  946,\n",
       "  947,\n",
       "  948,\n",
       "  949,\n",
       "  950,\n",
       "  951,\n",
       "  952,\n",
       "  953,\n",
       "  954,\n",
       "  955,\n",
       "  956,\n",
       "  957,\n",
       "  958,\n",
       "  959,\n",
       "  960,\n",
       "  961,\n",
       "  962,\n",
       "  963,\n",
       "  964,\n",
       "  965,\n",
       "  966,\n",
       "  967,\n",
       "  968,\n",
       "  969,\n",
       "  970,\n",
       "  971,\n",
       "  972,\n",
       "  973,\n",
       "  974,\n",
       "  975,\n",
       "  976,\n",
       "  977,\n",
       "  978,\n",
       "  979,\n",
       "  980,\n",
       "  981,\n",
       "  982,\n",
       "  983,\n",
       "  984,\n",
       "  985,\n",
       "  986,\n",
       "  987,\n",
       "  988,\n",
       "  989,\n",
       "  990,\n",
       "  991,\n",
       "  992,\n",
       "  993,\n",
       "  994,\n",
       "  995,\n",
       "  996,\n",
       "  997,\n",
       "  998,\n",
       "  999,\n",
       "  ...])"
      ]
     },
     "execution_count": 217,
     "metadata": {},
     "output_type": "execute_result"
    }
   ],
   "source": [
    "iternation_max = 100000000\n",
    "\n",
    "vector = list(range(iternation_max))\n",
    "scalar = 2\n",
    "\n",
    "scalar, vector"
   ]
  },
  {
   "cell_type": "code",
   "execution_count": 218,
   "id": "50243227",
   "metadata": {},
   "outputs": [
    {
     "name": "stdout",
     "output_type": "stream",
     "text": [
      "10.6 s ± 700 ms per loop (mean ± std. dev. of 7 runs, 1 loop each)\n"
     ]
    }
   ],
   "source": [
    "%timeit scalar_vector(scalar, vector) # for loop을 이용한 성능\n",
    "# %timeit : 시간이 얼마나 걸리는지 확인하는 용도"
   ]
  },
  {
   "cell_type": "code",
   "execution_count": 220,
   "id": "14cf385f",
   "metadata": {},
   "outputs": [
    {
     "name": "stdout",
     "output_type": "stream",
     "text": [
      "8.93 s ± 261 ms per loop (mean ± std. dev. of 7 runs, 1 loop each)\n"
     ]
    }
   ],
   "source": [
    "%timeit [scalar * value for value in range(iternation_max)] # list comprehersion"
   ]
  },
  {
   "cell_type": "code",
   "execution_count": 219,
   "id": "f6bf9a64",
   "metadata": {},
   "outputs": [
    {
     "name": "stdout",
     "output_type": "stream",
     "text": [
      "469 ms ± 10.6 ms per loop (mean ± std. dev. of 7 runs, 1 loop each)\n"
     ]
    }
   ],
   "source": [
    "%timeit np.arange(iternation_max) * scalar # numpy"
   ]
  },
  {
   "cell_type": "markdown",
   "id": "2c7ebd62",
   "metadata": {},
   "source": [
    "- 일반적으로 속도는 아래 순 for loop < list comprehension < numpy\n",
    "    - list comprehension : 반복되거나 특정 조건을 만족하는 리스트를 보다 쉽게 만들어 내기 위한 방법\n",
    "    - 리스트 값들은 주소를 참조하기 때문에 각 주소를 찾아주면서 해서 시간이 오래 걸리지만, numpy는 서로 연결되어 있어서 비교적 시간이 적게 걸린다\n",
    "- 100,000,000 번의 loop이 돌 때 약 약 4배 이상의 성능 차이를 보임\n",
    "    - Numpy는 성능을 확보하는 대신 dynamic typing을 포기했다는 점을 볼 수 있음\n",
    "- 대용량 계산에서는 가장 흔히 사용됨\n",
    "- Concatenate처럼 계산이 아닌, 할당에서는 연산 속도의 이점이 없음"
   ]
  },
  {
   "cell_type": "code",
   "execution_count": 222,
   "id": "0eb5917d",
   "metadata": {},
   "outputs": [
    {
     "data": {
      "text/plain": [
       "[0, 1, 2, 3, 4, 5, 6, 7, 8, 9]"
      ]
     },
     "execution_count": 222,
     "metadata": {},
     "output_type": "execute_result"
    }
   ],
   "source": [
    "[i for i in range(10)] # list comprehersion!!"
   ]
  },
  {
   "cell_type": "markdown",
   "id": "9513db05",
   "metadata": {},
   "source": [
    "### comparisons\n",
    "\n",
    "All & Any\n",
    "- Array의 데이터 전부(and = all) 또는 일부(or = any)가 조건에 만족 여부 반환\n",
    "\n",
    "np.where\n",
    "- np.where(condition, TRUE, FALSE)\n",
    "\n",
    "argmax & argmin\n",
    "- array내 최대값 또는 최소값의 index를 반환함\n",
    "- axis 기반의 반환 가능"
   ]
  },
  {
   "cell_type": "markdown",
   "id": "77c419e1",
   "metadata": {},
   "source": [
    "All & Any"
   ]
  },
  {
   "cell_type": "code",
   "execution_count": 234,
   "id": "c40c0c23",
   "metadata": {
    "scrolled": true
   },
   "outputs": [],
   "source": [
    "a = np.arange(10)"
   ]
  },
  {
   "cell_type": "code",
   "execution_count": 235,
   "id": "52540f09",
   "metadata": {},
   "outputs": [
    {
     "data": {
      "text/plain": [
       "array([False, False, False, False, False, False,  True,  True,  True,\n",
       "        True])"
      ]
     },
     "execution_count": 235,
     "metadata": {},
     "output_type": "execute_result"
    }
   ],
   "source": [
    "a>5 # 각 요소에 대해서 true, false 반환"
   ]
  },
  {
   "cell_type": "code",
   "execution_count": 237,
   "id": "8692b53a",
   "metadata": {},
   "outputs": [
    {
     "data": {
      "text/plain": [
       "4"
      ]
     },
     "execution_count": 237,
     "metadata": {},
     "output_type": "execute_result"
    }
   ],
   "source": [
    "sum(a>5) # 메소드 안 비교 연산 가능"
   ]
  },
  {
   "cell_type": "code",
   "execution_count": 228,
   "id": "d3ab5047",
   "metadata": {},
   "outputs": [
    {
     "data": {
      "text/plain": [
       "(True, True)"
      ]
     },
     "execution_count": 228,
     "metadata": {},
     "output_type": "execute_result"
    }
   ],
   "source": [
    "np.any(a>5), np.any(a<5) # a 안의 요소 하나라도 해당 조건을 만족할 경우, true 어떠한 것도 만족하지 않을 경우, false 반환"
   ]
  },
  {
   "cell_type": "code",
   "execution_count": 230,
   "id": "21a7fa19",
   "metadata": {},
   "outputs": [
    {
     "data": {
      "text/plain": [
       "False"
      ]
     },
     "execution_count": 230,
     "metadata": {},
     "output_type": "execute_result"
    }
   ],
   "source": [
    "np.any(a>50)"
   ]
  },
  {
   "cell_type": "code",
   "execution_count": 231,
   "id": "5ea205d8",
   "metadata": {},
   "outputs": [
    {
     "data": {
      "text/plain": [
       "(False, False)"
      ]
     },
     "execution_count": 231,
     "metadata": {},
     "output_type": "execute_result"
    }
   ],
   "source": [
    "np.all(a>5), np.all(a<5) # a 안의 모든 요소가 만족할 경우에만 true, 하나라도 만족하지 않는게 존재할 경우 false 반환"
   ]
  },
  {
   "cell_type": "code",
   "execution_count": 233,
   "id": "9909d0bd",
   "metadata": {
    "scrolled": true
   },
   "outputs": [
    {
     "data": {
      "text/plain": [
       "(False, True)"
      ]
     },
     "execution_count": 233,
     "metadata": {},
     "output_type": "execute_result"
    }
   ],
   "source": [
    "np.all(a>50), np.all(a<50)"
   ]
  },
  {
   "cell_type": "markdown",
   "id": "1a81fa6b",
   "metadata": {},
   "source": [
    "comparison operation"
   ]
  },
  {
   "cell_type": "code",
   "execution_count": 241,
   "id": "94e90838",
   "metadata": {},
   "outputs": [
    {
     "data": {
      "text/plain": [
       "(array([0, 1, 2, 3, 4, 5, 6, 7, 8, 9]),\n",
       " array([ 2,  3,  4,  5,  6,  7,  8,  9, 10, 11]))"
      ]
     },
     "execution_count": 241,
     "metadata": {},
     "output_type": "execute_result"
    }
   ],
   "source": [
    "a = np.arange(10)\n",
    "b = np.arange(2,12)\n",
    "a,b"
   ]
  },
  {
   "cell_type": "code",
   "execution_count": 244,
   "id": "2e00d2d1",
   "metadata": {},
   "outputs": [
    {
     "data": {
      "text/plain": [
       "array([False, False, False, False, False, False, False, False, False,\n",
       "       False])"
      ]
     },
     "execution_count": 244,
     "metadata": {},
     "output_type": "execute_result"
    }
   ],
   "source": [
    "a > b # 배열의 크기가 동일할 때, 비교 가능!"
   ]
  },
  {
   "cell_type": "code",
   "execution_count": 246,
   "id": "a66a5cb6",
   "metadata": {},
   "outputs": [
    {
     "data": {
      "text/plain": [
       "True"
      ]
     },
     "execution_count": 246,
     "metadata": {},
     "output_type": "execute_result"
    }
   ],
   "source": [
    "(a < b).any() # 하나라도 true면 true"
   ]
  },
  {
   "cell_type": "code",
   "execution_count": 249,
   "id": "8663d80e",
   "metadata": {},
   "outputs": [
    {
     "data": {
      "text/plain": [
       "array([False,  True,  True, False, False, False, False, False, False,\n",
       "       False])"
      ]
     },
     "execution_count": 249,
     "metadata": {},
     "output_type": "execute_result"
    }
   ],
   "source": [
    "np.logical_and(a > 0, a<3) # 해당 두 조건을 and로 묶었을 때의 bool값"
   ]
  },
  {
   "cell_type": "code",
   "execution_count": 252,
   "id": "40fea7c9",
   "metadata": {
    "scrolled": true
   },
   "outputs": [
    {
     "data": {
      "text/plain": [
       "array([ True, False, False, False, False, False, False, False, False,\n",
       "       False])"
      ]
     },
     "execution_count": 252,
     "metadata": {},
     "output_type": "execute_result"
    }
   ],
   "source": [
    "np.logical_not(a > 0)"
   ]
  },
  {
   "cell_type": "code",
   "execution_count": 256,
   "id": "09280252",
   "metadata": {},
   "outputs": [
    {
     "data": {
      "text/plain": [
       "array([ True, False, False, False, False, False, False, False, False,\n",
       "       False])"
      ]
     },
     "execution_count": 256,
     "metadata": {},
     "output_type": "execute_result"
    }
   ],
   "source": [
    "b = np.array([ True, False, False, False, False, False, False, False, False,False])\n",
    "b"
   ]
  },
  {
   "cell_type": "code",
   "execution_count": 257,
   "id": "692e4675",
   "metadata": {},
   "outputs": [
    {
     "data": {
      "text/plain": [
       "array([False,  True,  True,  True,  True,  True,  True,  True,  True,\n",
       "        True])"
      ]
     },
     "execution_count": 257,
     "metadata": {},
     "output_type": "execute_result"
    }
   ],
   "source": [
    "np.logical_not(b)"
   ]
  },
  {
   "cell_type": "code",
   "execution_count": 258,
   "id": "624169b6",
   "metadata": {},
   "outputs": [
    {
     "data": {
      "text/plain": [
       "array([ True,  True,  True,  True,  True,  True,  True,  True,  True,\n",
       "        True])"
      ]
     },
     "execution_count": 258,
     "metadata": {},
     "output_type": "execute_result"
    }
   ],
   "source": [
    "np.logical_or(a > 0, a<3)"
   ]
  },
  {
   "cell_type": "markdown",
   "id": "3cd9d4ec",
   "metadata": {},
   "source": [
    "np.where"
   ]
  },
  {
   "cell_type": "code",
   "execution_count": 260,
   "id": "54449aeb",
   "metadata": {},
   "outputs": [],
   "source": [
    "a = np.arange(10)"
   ]
  },
  {
   "cell_type": "code",
   "execution_count": 261,
   "id": "404e9783",
   "metadata": {},
   "outputs": [
    {
     "data": {
      "text/plain": [
       "array([2, 3, 3, 3, 3, 3, 3, 3, 3, 3])"
      ]
     },
     "execution_count": 261,
     "metadata": {},
     "output_type": "execute_result"
    }
   ],
   "source": [
    "np.where(a>0,3,2) # condition (a>0)을 만족할 때, 3을 출력 아닐 경우, 2를 출력"
   ]
  },
  {
   "cell_type": "code",
   "execution_count": 263,
   "id": "15797b01",
   "metadata": {},
   "outputs": [
    {
     "data": {
      "text/plain": [
       "array([ 5, 30, 30, 30, 30, 30, 30, 30, 30, 30])"
      ]
     },
     "execution_count": 263,
     "metadata": {},
     "output_type": "execute_result"
    }
   ],
   "source": [
    "np.where(a>0,30,5)"
   ]
  },
  {
   "cell_type": "code",
   "execution_count": 265,
   "id": "6638b8ae",
   "metadata": {},
   "outputs": [
    {
     "data": {
      "text/plain": [
       "array([False,  True,  True,  True,  True,  True,  True,  True,  True,\n",
       "        True])"
      ]
     },
     "execution_count": 265,
     "metadata": {},
     "output_type": "execute_result"
    }
   ],
   "source": [
    "a>0"
   ]
  },
  {
   "cell_type": "code",
   "execution_count": 266,
   "id": "b60f96cf",
   "metadata": {},
   "outputs": [
    {
     "data": {
      "text/plain": [
       "(array([1, 2, 3, 4, 5, 6, 7, 8, 9]),)"
      ]
     },
     "execution_count": 266,
     "metadata": {},
     "output_type": "execute_result"
    }
   ],
   "source": [
    "np.where(a>0) # true인 경우의 인덱스를 반환한다}"
   ]
  },
  {
   "cell_type": "code",
   "execution_count": 267,
   "id": "d85fa562",
   "metadata": {},
   "outputs": [
    {
     "data": {
      "text/plain": [
       "array([3.3, nan, inf])"
      ]
     },
     "execution_count": 267,
     "metadata": {},
     "output_type": "execute_result"
    }
   ],
   "source": [
    "a = np.array([3.3, np.NaN, np.Inf]) # np.Inf : infinite 값\n",
    "a"
   ]
  },
  {
   "cell_type": "code",
   "execution_count": 268,
   "id": "805a5293",
   "metadata": {},
   "outputs": [
    {
     "data": {
      "text/plain": [
       "array([False,  True, False])"
      ]
     },
     "execution_count": 268,
     "metadata": {},
     "output_type": "execute_result"
    }
   ],
   "source": [
    "np.isnan(a) # 결측치가 존재하는지 확인"
   ]
  },
  {
   "cell_type": "code",
   "execution_count": 270,
   "id": "7df3a323",
   "metadata": {},
   "outputs": [
    {
     "data": {
      "text/plain": [
       "array([ True, False, False])"
      ]
     },
     "execution_count": 270,
     "metadata": {},
     "output_type": "execute_result"
    }
   ],
   "source": [
    "np.isfinite(a) # 유한한 경우 출력"
   ]
  },
  {
   "cell_type": "markdown",
   "id": "fb26b325",
   "metadata": {},
   "source": [
    "argmax & argmin"
   ]
  },
  {
   "cell_type": "code",
   "execution_count": 272,
   "id": "3ac495c7",
   "metadata": {},
   "outputs": [
    {
     "data": {
      "text/plain": [
       "array([ 1,  2,  3,  4, 65,  5,  6,  7, 31])"
      ]
     },
     "execution_count": 272,
     "metadata": {},
     "output_type": "execute_result"
    }
   ],
   "source": [
    "a = np.array([1,2,3,4,65,5,6,7,31])\n",
    "a"
   ]
  },
  {
   "cell_type": "code",
   "execution_count": 273,
   "id": "2496396c",
   "metadata": {},
   "outputs": [
    {
     "data": {
      "text/plain": [
       "(4, 0)"
      ]
     },
     "execution_count": 273,
     "metadata": {},
     "output_type": "execute_result"
    }
   ],
   "source": [
    "np.argmax(a), np.argmin(a) # a 배열의 최대값과 최소값의 인덱스를 반환!!"
   ]
  },
  {
   "cell_type": "code",
   "execution_count": 277,
   "id": "60561398",
   "metadata": {},
   "outputs": [
    {
     "data": {
      "text/plain": [
       "array([[ 1,  2,  4,  7],\n",
       "       [ 3,  4,  5, 62]])"
      ]
     },
     "execution_count": 277,
     "metadata": {},
     "output_type": "execute_result"
    }
   ],
   "source": [
    "b = np.array([[1,2,4,7],[3,4,5,62]])\n",
    "b"
   ]
  },
  {
   "cell_type": "code",
   "execution_count": 278,
   "id": "e3aef6a6",
   "metadata": {},
   "outputs": [
    {
     "data": {
      "text/plain": [
       "array([3, 3])"
      ]
     },
     "execution_count": 278,
     "metadata": {},
     "output_type": "execute_result"
    }
   ],
   "source": [
    "np.argmax(b, axis = 1) # 각 행 내에서 최대값 출력"
   ]
  },
  {
   "cell_type": "code",
   "execution_count": 279,
   "id": "961b8392",
   "metadata": {},
   "outputs": [
    {
     "data": {
      "text/plain": [
       "array([0, 0])"
      ]
     },
     "execution_count": 279,
     "metadata": {},
     "output_type": "execute_result"
    }
   ],
   "source": [
    "np.argmin(b, axis = 0) # 각 열 내에서 최소값 출력"
   ]
  },
  {
   "cell_type": "markdown",
   "id": "bd6133e3",
   "metadata": {},
   "source": [
    "### boolean & fancy index\n",
    "\n",
    "boolean index\n",
    "- 특정 조건에 따른 값을 배열 형태로 추출 할 수 있음\n",
    "- Comparison operation 함수들도 모두 사용가능\n",
    "\n",
    "fancy index\n",
    "- int 배열을 index value로 사용해서 값을 추출하는 방법\n",
    "- Matrix 형태의 데이터도 가능\n",
    "- take!"
   ]
  },
  {
   "cell_type": "code",
   "execution_count": 281,
   "id": "1e3450b9",
   "metadata": {},
   "outputs": [
    {
     "data": {
      "text/plain": [
       "array([False,  True, False, False,  True,  True,  True])"
      ]
     },
     "execution_count": 281,
     "metadata": {},
     "output_type": "execute_result"
    }
   ],
   "source": [
    "a = np.array([1,4,0,2,8,9,7], float)\n",
    "condition = a > 3 # comparison operation을 만족하는 컨디션\n",
    "condition"
   ]
  },
  {
   "cell_type": "code",
   "execution_count": 282,
   "id": "8a51937e",
   "metadata": {},
   "outputs": [
    {
     "data": {
      "text/plain": [
       "array([4., 8., 9., 7.])"
      ]
     },
     "execution_count": 282,
     "metadata": {},
     "output_type": "execute_result"
    }
   ],
   "source": [
    "a[condition] # 기존 배열에 컨디션을 만족하는 기존의 값을 가져올 수 있음 -> condition에서 true인 경우만 가져오게 된다!"
   ]
  },
  {
   "cell_type": "code",
   "execution_count": 284,
   "id": "5c826dd9",
   "metadata": {},
   "outputs": [
    {
     "data": {
      "text/plain": [
       "array([0, 1, 0, 0, 1, 1, 1])"
      ]
     },
     "execution_count": 284,
     "metadata": {},
     "output_type": "execute_result"
    }
   ],
   "source": [
    "condition.astype(int) # bool타입을 지니는 컨디션을 int로 변환시킬 경우, 0과 1로 변환시켜줌"
   ]
  },
  {
   "cell_type": "code",
   "execution_count": 286,
   "id": "68017c38",
   "metadata": {},
   "outputs": [
    {
     "data": {
      "text/plain": [
       "array([2., 2., 4., 8., 6., 4.])"
      ]
     },
     "execution_count": 286,
     "metadata": {},
     "output_type": "execute_result"
    }
   ],
   "source": [
    "a = np.array([2,4,6,8], float)\n",
    "b = np.array([0,0,1,3,2,1], int) # 반드시 int로 선언 필요!\n",
    "\n",
    "a[b] # 각 인덱스에 해당하는 값들 반환"
   ]
  },
  {
   "cell_type": "code",
   "execution_count": 288,
   "id": "26850556",
   "metadata": {},
   "outputs": [
    {
     "data": {
      "text/plain": [
       "array([2., 2., 4., 8., 6., 4.])"
      ]
     },
     "execution_count": 288,
     "metadata": {},
     "output_type": "execute_result"
    }
   ],
   "source": [
    "a.take(b) # take : fancy index와 동일한 효과 -> 이 방법 권장!"
   ]
  },
  {
   "cell_type": "code",
   "execution_count": 292,
   "id": "dfa7deeb",
   "metadata": {},
   "outputs": [
    {
     "data": {
      "text/plain": [
       "array([1, 4, 2, 3])"
      ]
     },
     "execution_count": 292,
     "metadata": {},
     "output_type": "execute_result"
    }
   ],
   "source": [
    "a =np.array([[1,4], [2,3]])\n",
    "b = np.array([0,0,1,1],int) # row\n",
    "c = np.array([0,1,0,1],int) # col\n",
    "\n",
    "a[b,c] # (0,0), (0,1), (1,0), (1,1)의 값 출력"
   ]
  },
  {
   "cell_type": "code",
   "execution_count": 293,
   "id": "4d3e0583",
   "metadata": {},
   "outputs": [
    {
     "data": {
      "text/plain": [
       "array([[1, 4],\n",
       "       [1, 4],\n",
       "       [2, 3],\n",
       "       [2, 3]])"
      ]
     },
     "execution_count": 293,
     "metadata": {},
     "output_type": "execute_result"
    }
   ],
   "source": [
    "a[b] # row를 기준으로 출력"
   ]
  },
  {
   "cell_type": "markdown",
   "id": "b63350b8",
   "metadata": {},
   "source": [
    "### numpy data i/o\n",
    "\n",
    "loadtxt & savetxt\n",
    "- Text type의 데이터를 읽고, 저장하는 기능\n",
    "\n",
    "numpy object - npy\n",
    "- Numpy object (pickle) 형태로 데이터를 저장하고 불러옴\n",
    "- Binary 파일 형태로 저장함"
   ]
  },
  {
   "cell_type": "code",
   "execution_count": null,
   "id": "7d286cff",
   "metadata": {
    "scrolled": true
   },
   "outputs": [],
   "source": [
    "a = np.loadtxt(\"./populations.txt\") # ./populations.txt 경로의 txt 파일 불러옴\n",
    "# dtype 등 지정 가능하다! = astype과 동일\n",
    "a[:10]"
   ]
  },
  {
   "cell_type": "code",
   "execution_count": null,
   "id": "0dfedf3a",
   "metadata": {},
   "outputs": [],
   "source": [
    "a.astype(int) # astype 변경 가능"
   ]
  },
  {
   "cell_type": "code",
   "execution_count": null,
   "id": "fa64840b",
   "metadata": {},
   "outputs": [],
   "source": [
    "np.savetxt('data_csv', a_int, delimiter=\",\") # 구분자는 ,으로 해서 data_csv 파일명으로 a_int를 저장 (csv 파일 형식)\n",
    "# 부동소수형 타입으로 저장됨! fmt='%d' 와 같이 포맷팅을 지정해서 부동소수형 외에 타입으로 저장 가능함!"
   ]
  },
  {
   "cell_type": "code",
   "execution_count": 296,
   "id": "bf4c5fb4",
   "metadata": {},
   "outputs": [
    {
     "data": {
      "text/plain": [
       "array([1, 2, 3, 4, 5])"
      ]
     },
     "execution_count": 296,
     "metadata": {},
     "output_type": "execute_result"
    }
   ],
   "source": [
    "a = np.array([1,2,3,4,5])\n",
    "a"
   ]
  },
  {
   "cell_type": "code",
   "execution_count": 301,
   "id": "80175836",
   "metadata": {},
   "outputs": [],
   "source": [
    "np.save(\"npy_test\", arr=a) # array가 npy_test.npy로 주피터 노트북에 저장되는 것 볼 수 있다"
   ]
  },
  {
   "cell_type": "code",
   "execution_count": 299,
   "id": "081b2e91",
   "metadata": {},
   "outputs": [
    {
     "data": {
      "text/plain": [
       "array([1, 2, 3, 4, 5])"
      ]
     },
     "execution_count": 299,
     "metadata": {},
     "output_type": "execute_result"
    }
   ],
   "source": [
    "npy_array = np.load(file=\"npy_test.npy\") # 저장된 파일 로드 가능\n",
    "npy_array"
   ]
  }
 ],
 "metadata": {
  "kernelspec": {
   "display_name": "Python 3 (ipykernel)",
   "language": "python",
   "name": "python3"
  },
  "language_info": {
   "codemirror_mode": {
    "name": "ipython",
    "version": 3
   },
   "file_extension": ".py",
   "mimetype": "text/x-python",
   "name": "python",
   "nbconvert_exporter": "python",
   "pygments_lexer": "ipython3",
   "version": "3.10.4"
  }
 },
 "nbformat": 4,
 "nbformat_minor": 5
}
