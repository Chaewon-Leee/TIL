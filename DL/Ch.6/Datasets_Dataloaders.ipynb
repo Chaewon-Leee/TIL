{
 "cells": [
  {
   "cell_type": "markdown",
   "metadata": {
    "id": "7988f75f"
   },
   "source": [
    "## Dataset\n",
    "\n",
    "[![Open In Colab](https://colab.research.google.com/assets/colab-badge.svg)](https://colab.research.google.com/github/BoostcampAITech/lecture-note-python-basics-for-ai/blob/main/codes/pytorch/07_torch-study/dataset/Datasets_Dataloaders.ipynb)"
   ]
  },
  {
   "cell_type": "code",
   "execution_count": null,
   "metadata": {
    "executionInfo": {
     "elapsed": 278,
     "status": "ok",
     "timestamp": 1628376199897,
     "user": {
      "displayName": "최성철/산업경영공학과",
      "photoUrl": "",
      "userId": "03123322103118209211"
     },
     "user_tz": -540
    },
    "id": "9bed250f"
   },
   "outputs": [],
   "source": [
    "import torch\n",
    "from torch.utils.data import Dataset, DataLoader\n",
    "\n",
    "class CustomDataset(Dataset):\n",
    "    def __init__(self, text, labels):\n",
    "            self.labels = labels\n",
    "            self.data = text\n",
    "\n",
    "    def __len__(self):\n",
    "            return len(self.labels)\n",
    "\n",
    "    def __getitem__(self, idx):\n",
    "            label = self.labels[idx]\n",
    "            text = self.data[idx]\n",
    "            sample = {\"Text\": text, \"Class\": label}\n",
    "            return sample"
   ]
  },
  {
   "cell_type": "code",
   "execution_count": null,
   "metadata": {
    "executionInfo": {
     "elapsed": 2,
     "status": "ok",
     "timestamp": 1628376201249,
     "user": {
      "displayName": "최성철/산업경영공학과",
      "photoUrl": "",
      "userId": "03123322103118209211"
     },
     "user_tz": -540
    },
    "id": "c62d4f40"
   },
   "outputs": [],
   "source": [
    "text = ['Happy', 'Amazing', 'Sad', 'Unhapy', 'Glum']\n",
    "labels = ['Positive', 'Positive', 'Negative', 'Negative', 'Negative']\n",
    "MyDataset = CustomDataset(text, labels)"
   ]
  },
  {
   "cell_type": "code",
   "execution_count": null,
   "metadata": {
    "colab": {
     "base_uri": "https://localhost:8080/"
    },
    "executionInfo": {
     "elapsed": 2,
     "status": "ok",
     "timestamp": 1628376201932,
     "user": {
      "displayName": "최성철/산업경영공학과",
      "photoUrl": "",
      "userId": "03123322103118209211"
     },
     "user_tz": -540
    },
    "id": "dK0hrFexyFRO",
    "outputId": "54acbbf6-353c-4489-da6e-f2d434d71cd0"
   },
   "outputs": [],
   "source": [
    "type(MyDataset)"
   ]
  },
  {
   "cell_type": "code",
   "execution_count": null,
   "metadata": {
    "colab": {
     "base_uri": "https://localhost:8080/"
    },
    "executionInfo": {
     "elapsed": 270,
     "status": "ok",
     "timestamp": 1628376229042,
     "user": {
      "displayName": "최성철/산업경영공학과",
      "photoUrl": "",
      "userId": "03123322103118209211"
     },
     "user_tz": -540
    },
    "id": "18d07534",
    "outputId": "6e2b5039-dcb7-465c-a976-d801847e7ee9"
   },
   "outputs": [],
   "source": [
    "MyDataLoader = DataLoader(MyDataset, batch_size=2, shuffle=True)\n",
    "next(iter(MyDataLoader))"
   ]
  },
  {
   "cell_type": "code",
   "execution_count": null,
   "metadata": {
    "colab": {
     "base_uri": "https://localhost:8080/"
    },
    "executionInfo": {
     "elapsed": 271,
     "status": "ok",
     "timestamp": 1628376254456,
     "user": {
      "displayName": "최성철/산업경영공학과",
      "photoUrl": "",
      "userId": "03123322103118209211"
     },
     "user_tz": -540
    },
    "id": "a17b9074",
    "outputId": "895a1e36-be73-41e6-f40a-e0576f7bf879"
   },
   "outputs": [],
   "source": [
    "MyDataLoader = DataLoader(MyDataset, batch_size=3, shuffle=True)\n",
    "for dataset in MyDataLoader:\n",
    "    print(dataset)"
   ]
  },
  {
   "cell_type": "markdown",
   "metadata": {
    "id": "ef2c7f42"
   },
   "source": [
    "## Custom Dataset"
   ]
  },
  {
   "cell_type": "code",
   "execution_count": null,
   "metadata": {
    "executionInfo": {
     "elapsed": 1143,
     "status": "ok",
     "timestamp": 1628376676603,
     "user": {
      "displayName": "최성철/산업경영공학과",
      "photoUrl": "",
      "userId": "03123322103118209211"
     },
     "user_tz": -540
    },
    "id": "8ec02d1e"
   },
   "outputs": [],
   "source": [
    "from torchvision.datasets import VisionDataset\n",
    "from typing import Any, Callable, Dict, List, Optional, Tuple\n",
    "import os\n",
    "\n",
    "from tqdm import tqdm\n",
    "import os\n",
    "import sys\n",
    "from pathlib import Path\n",
    "import requests\n",
    "\n",
    "from skimage import io, transform\n",
    "import matplotlib.pyplot as plt\n"
   ]
  },
  {
   "cell_type": "code",
   "execution_count": null,
   "metadata": {
    "executionInfo": {
     "elapsed": 293,
     "status": "ok",
     "timestamp": 1628376883091,
     "user": {
      "displayName": "최성철/산업경영공학과",
      "photoUrl": "",
      "userId": "03123322103118209211"
     },
     "user_tz": -540
    },
    "id": "1a741cb0"
   },
   "outputs": [],
   "source": [
    "\n",
    "import tarfile\n",
    "\n",
    "    \n",
    "class NotMNIST(VisionDataset):\n",
    "    resource_url = 'http://yaroslavvb.com/upload/notMNIST/notMNIST_large.tar.gz'\n",
    "    \n",
    "    def __init__(\n",
    "            self,\n",
    "            root: str,\n",
    "            train: bool = True,\n",
    "            transform: Optional[Callable] = None,\n",
    "            target_transform: Optional[Callable] = None,\n",
    "            download: bool = False,\n",
    "    ) -> None:\n",
    "        super(NotMNIST, self).__init__(root, transform=transform,\n",
    "                                    target_transform=target_transform)\n",
    "\n",
    "        if not self._check_exists() or download:\n",
    "            self.download()\n",
    "            \n",
    "        self.data, self.targets = self._load_data()\n",
    "        \n",
    "\n",
    "    def __len__(self):\n",
    "        return len(self.data)\n",
    "\n",
    "    \n",
    "    def __getitem__(self, index):\n",
    "        image_name = self.data[index]\n",
    "        image = io.imread(image_name)\n",
    "        label = self.targets[index]\n",
    "        if self.transform:\n",
    "            image = self.transform(image)\n",
    "        return image, label\n",
    "\n",
    "    def _load_data(self):\n",
    "        filepath = self.image_folder\n",
    "        data = []\n",
    "        targets = []\n",
    "        \n",
    "        for target in os.listdir(filepath): # root 파일 밑, 폴더들이 존재하는데 해당 폴더명들이 label이 되어 label들을 target에 저장하게 된다\n",
    "            filenames = [os.path.abspath(\n",
    "                os.path.join(filepath, target, x)) for x in os.listdir(\n",
    "                os.path.join(filepath, target))]\n",
    "            \n",
    "            targets.extend([target] * len(filenames)) # extend(iterable)는 리스트 끝에 가장 바깥쪽 iterable의 모든 항목을 넣는다\n",
    "            data.extend(filenames)\n",
    "        return data, targets\n",
    "\n",
    "    @property\n",
    "    def raw_folder(self) -> str:\n",
    "        return os.path.join(self.root, self.__class__.__name__, 'raw')\n",
    "\n",
    "    @property\n",
    "    def image_folder(self) -> str:\n",
    "        return os.path.join(self.root, 'notMNIST_large')\n",
    "\n",
    "\n",
    "    def download(self) -> None:\n",
    "        os.makedirs(self.raw_folder, exist_ok=True)\n",
    "        fname = self.resource_url.split(\"/\")[-1]\n",
    "        chunk_size = 1024\n",
    "        \n",
    "        filesize = int(requests.head(self.resource_url).headers[\"Content-Length\"])\n",
    "        \n",
    "        with requests.get(self.resource_url, stream=True) as r, open(\n",
    "            os.path.join(self.raw_folder, fname), \"wb\") as f, tqdm(\n",
    "            unit=\"B\",  # unit string to be displayed.\n",
    "            unit_scale=True,  # let tqdm to determine the scale in kilo, mega..etc.\n",
    "            unit_divisor=1024,  # is used when unit_scale is true\n",
    "            total=filesize,  # the total iteration.\n",
    "            file=sys.stdout,  # default goes to stderr, this is the display on console.\n",
    "            desc=fname  # prefix to be displayed on progress bar.\n",
    "        ) as progress:\n",
    "            for chunk in r.iter_content(chunk_size=chunk_size):\n",
    "                # download the file chunk by chunk\n",
    "                datasize = f.write(chunk)\n",
    "                # on each chunk update the progress bar.\n",
    "                progress.update(datasize)\n",
    "        \n",
    "        self._extract_file(os.path.join(self.raw_folder, fname), target_path=self.root)\n",
    "        \n",
    "    def _extract_file(self, fname, target_path) -> None:\n",
    "        if fname.endswith(\"tar.gz\"):\n",
    "            tag = \"r:gz\"\n",
    "        elif fname.endswith(\"tar\"):\n",
    "            tag = \"r:\"\n",
    "        tar = tarfile.open(fname, tag)\n",
    "        tar.extractall(path=target_path)\n",
    "        tar.close()\n",
    "    \n",
    "    def _check_exists(self) -> bool:\n",
    "        return os.path.exists(self.raw_folder)\n",
    "        "
   ]
  },
  {
   "cell_type": "code",
   "execution_count": null,
   "metadata": {
    "colab": {
     "base_uri": "https://localhost:8080/"
    },
    "executionInfo": {
     "elapsed": 390045,
     "status": "ok",
     "timestamp": 1628377280412,
     "user": {
      "displayName": "최성철/산업경영공학과",
      "photoUrl": "",
      "userId": "03123322103118209211"
     },
     "user_tz": -540
    },
    "id": "1ab4b550",
    "outputId": "da0bc852-6b9b-4b45-844d-3448e899f9d4"
   },
   "outputs": [],
   "source": [
    "dataset = NotMNIST(\"data\", download=True)"
   ]
  },
  {
   "cell_type": "code",
   "execution_count": null,
   "metadata": {
    "colab": {
     "base_uri": "https://localhost:8080/",
     "height": 122
    },
    "executionInfo": {
     "elapsed": 893,
     "status": "ok",
     "timestamp": 1628377293949,
     "user": {
      "displayName": "최성철/산업경영공학과",
      "photoUrl": "",
      "userId": "03123322103118209211"
     },
     "user_tz": -540
    },
    "id": "a1ae9eeb",
    "outputId": "26f79ed1-fb51-4d16-bc10-333d75e93e25"
   },
   "outputs": [],
   "source": [
    "fig = plt.figure()\n",
    "\n",
    "for i in range(8):\n",
    "    sample = dataset[i]\n",
    "\n",
    "    ax = plt.subplot(1, 4, i + 1)\n",
    "    plt.tight_layout()\n",
    "    ax.set_title('Sample #{}'.format(i))\n",
    "    ax.axis('off')\n",
    "    plt.imshow(sample[0])\n",
    "\n",
    "    if i == 3:\n",
    "        plt.show()\n",
    "        break"
   ]
  },
  {
   "cell_type": "code",
   "execution_count": null,
   "metadata": {
    "id": "f68a1b18"
   },
   "outputs": [],
   "source": [
    "import torch\n",
    "from torchvision import transforms, datasets\n",
    "\n",
    "data_transform = transforms.Compose([\n",
    "        transforms.RandomSizedCrop(224),\n",
    "        transforms.RandomHorizontalFlip(),\n",
    "        transforms.ToTensor(), # Pytorch애서 처리할 수 있는 Tensor로 변환\n",
    "        transforms.Normalize(mean=[0.485, 0.456, 0.406],\n",
    "                             std=[0.229, 0.224, 0.225])\n",
    "    ])\n",
    "\n",
    "dataset = NotMNIST(\"data\", download=False)"
   ]
  },
  {
   "cell_type": "code",
   "execution_count": null,
   "metadata": {
    "executionInfo": {
     "elapsed": 302,
     "status": "ok",
     "timestamp": 1628377492527,
     "user": {
      "displayName": "최성철/산업경영공학과",
      "photoUrl": "",
      "userId": "03123322103118209211"
     },
     "user_tz": -540
    },
    "id": "JRi2zjaE3E2_"
   },
   "outputs": [],
   "source": [
    "dataset_loader = torch.utils.data.DataLoader(dataset,\n",
    "                                             batch_size=128, shuffle=True)"
   ]
  },
  {
   "cell_type": "code",
   "execution_count": null,
   "metadata": {
    "executionInfo": {
     "elapsed": 298,
     "status": "ok",
     "timestamp": 1628377501416,
     "user": {
      "displayName": "최성철/산업경영공학과",
      "photoUrl": "",
      "userId": "03123322103118209211"
     },
     "user_tz": -540
    },
    "id": "fcf54368"
   },
   "outputs": [],
   "source": [
    "train_features, train_labels = next(iter(dataset_loader))\n"
   ]
  },
  {
   "cell_type": "code",
   "execution_count": null,
   "metadata": {
    "colab": {
     "base_uri": "https://localhost:8080/"
    },
    "executionInfo": {
     "elapsed": 273,
     "status": "ok",
     "timestamp": 1628377524960,
     "user": {
      "displayName": "최성철/산업경영공학과",
      "photoUrl": "",
      "userId": "03123322103118209211"
     },
     "user_tz": -540
    },
    "id": "b1xgC5oa3MwW",
    "outputId": "b33397b6-a28d-4aa5-ece1-ce263895e1f5"
   },
   "outputs": [],
   "source": [
    "train_features.shape"
   ]
  },
  {
   "cell_type": "code",
   "execution_count": null,
   "metadata": {
    "colab": {
     "base_uri": "https://localhost:8080/"
    },
    "executionInfo": {
     "elapsed": 270,
     "status": "ok",
     "timestamp": 1628377568590,
     "user": {
      "displayName": "최성철/산업경영공학과",
      "photoUrl": "",
      "userId": "03123322103118209211"
     },
     "user_tz": -540
    },
    "id": "IxZbSQQK3Sgz",
    "outputId": "94e653c6-d58f-44bf-f340-4a0e93fd2b22"
   },
   "outputs": [],
   "source": [
    "train_labels"
   ]
  },
  {
   "cell_type": "code",
   "execution_count": null,
   "metadata": {
    "id": "333911a4",
    "outputId": "7375276c-a4b4-4a65-d4f0-bfc98d36f25c"
   },
   "outputs": [],
   "source": [
    "train_features.shape"
   ]
  }
 ],
 "metadata": {
  "colab": {
   "collapsed_sections": [],
   "name": "Datasets_Dataloaders.ipynb",
   "provenance": []
  },
  "kernelspec": {
   "display_name": "DL",
   "language": "python",
   "name": "python3"
  },
  "language_info": {
   "codemirror_mode": {
    "name": "ipython",
    "version": 3
   },
   "file_extension": ".py",
   "mimetype": "text/x-python",
   "name": "python",
   "nbconvert_exporter": "python",
   "pygments_lexer": "ipython3",
   "version": "3.8.15"
  },
  "vscode": {
   "interpreter": {
    "hash": "c6bda3511ced0b294abc79a4ddf63a34d3fd878babe321749fb3d1ff55e21abf"
   }
  }
 },
 "nbformat": 4,
 "nbformat_minor": 5
}
