{
 "cells": [
  {
   "cell_type": "code",
   "execution_count": 97,
   "metadata": {},
   "outputs": [
    {
     "name": "stdout",
     "output_type": "stream",
     "text": [
      "cpu\n"
     ]
    }
   ],
   "source": [
    "from multiclass_functions1 import * # my module import\n",
    "import torch\n",
    "from torch import nn, optim\n",
    "import torch.nn.functional as F\n",
    "import matplotlib.pyplot as plt\n",
    "DEVICE = \"cuda\" if torch.cuda.is_available() else \"cpu\"\n",
    "print(DEVICE)"
   ]
  },
  {
   "cell_type": "code",
   "execution_count": 98,
   "metadata": {},
   "outputs": [],
   "source": [
    "BATCH_SIZE = 32\n",
    "LR = 1e-2\n",
    "EPOCH = 100\n",
    "criterion = nn.MSELoss() # MSE loss 사용\n",
    "# loss = nn.MSELoss()(y_hat, y)\n",
    "new_model_train = True\n",
    "# save_model_path = model save path"
   ]
  },
  {
   "cell_type": "code",
   "execution_count": 99,
   "metadata": {},
   "outputs": [],
   "source": [
    "def Test(model,X_test,Y_test):\n",
    "    model.eval()\n",
    "    with torch.no_grad():\n",
    "        X_test = X_test.to(DEVICE)\n",
    "        Y_test = Y_test.to(DEVICE)\n",
    "        # inference\n",
    "        y_hat = model(X_test)\n",
    "        # loss\n",
    "        loss = F.mse_loss(y_hat, Y_test)\n",
    "        # loss = criterion(y_hat, Y_test) # 가능\n",
    "\n",
    "    # test result visualization\n",
    "    plt.plot(X_test,Y_test,'b:',label=\"true_curve\")\n",
    "    plt.plot(X_test,y_hat,'r',label=\"test\")\n",
    "    plt.xlabel(\"x\",fontsize=20)\n",
    "    plt.ylabel(\"y\",fontsize=20)\n",
    "    plt.grid()\n",
    "    plt.legend(fontsize=20)\n",
    "    plt.xticks(fontsize=20)\n",
    "    plt.yticks(fontsize=20)\n",
    "    plt.savefig('image/test_test.png')\n",
    "    print(f\"Test loss: {loss.item()}\")\n",
    "\n",
    "# Dataset\n",
    "class Custom_Dataset(torch.utils.data.Dataset):\n",
    "    def __init__(self, X, Y, transform=None):\n",
    "        self.X = X\n",
    "        self.Y = Y\n",
    "        self.transform = transform\n",
    "\n",
    "    def __len__(self):\n",
    "        return self.X.shape[0]\n",
    "\n",
    "    def __getitem__(self, idx):\n",
    "        x = self.X[idx]\n",
    "        if self.transform:\n",
    "            x = self.transform(x)\n",
    "        y = self.Y[idx]\n",
    "        return x, y"
   ]
  },
  {
   "cell_type": "code",
   "execution_count": 100,
   "metadata": {},
   "outputs": [],
   "source": [
    "# Fully-connected layers\n",
    "class MLP(nn.Module):\n",
    "    def __init__(self):\n",
    "        super().__init__()\n",
    "\n",
    "        # case 1\n",
    "        self.fcs = nn.Sequential(nn.Linear(1, 3),\n",
    "                                 nn.ReLU(), # RELU로 한다\n",
    "                                 nn.Linear(3, 1))\n",
    "\n",
    "    def forward(self,x):\n",
    "        x = torch.flatten(x, start_dim=1) # 평평하게 피는 것\n",
    "        # torch.flatten(data, start_dim, end_dim) > start_dim~end_dim까지 차원 펴주기\n",
    "        # start_dim=1;\n",
    "        x = self.fcs(x)\n",
    "        return x"
   ]
  },
  {
   "cell_type": "code",
   "execution_count": 101,
   "metadata": {},
   "outputs": [],
   "source": [
    "X=torch.linspace(-10,10,1000).reshape(-1,1)\n",
    "# X.shape = ([1000,1])\n",
    "Y=X**2 # -10~10까지 학습\n",
    "X_test=torch.linspace(-15,15,1000).reshape(-1,1) # 테스트는 -15에서 15까지!\n",
    "# -10~10까지는 잘 될것이고, -15부터 15까지는 잘 테스트를 못할 것\n",
    "Y_test=X_test**2"
   ]
  },
  {
   "cell_type": "code",
   "execution_count": 102,
   "metadata": {},
   "outputs": [],
   "source": [
    "train_DS = Custom_Dataset(X, Y)\n",
    "train_DL = torch.utils.data.DataLoader(train_DS, batch_size = BATCH_SIZE, shuffle = True)\n",
    "# 32개씩 섞어서"
   ]
  },
  {
   "cell_type": "code",
   "execution_count": 103,
   "metadata": {},
   "outputs": [
    {
     "name": "stdout",
     "output_type": "stream",
     "text": [
      "MLP(\n",
      "  (fcs): Sequential(\n",
      "    (0): Linear(in_features=1, out_features=10, bias=True)\n",
      "    (1): ReLU()\n",
      "    (2): Linear(in_features=10, out_features=10, bias=True)\n",
      "    (3): ReLU()\n",
      "    (4): Linear(in_features=10, out_features=10, bias=True)\n",
      "    (5): ReLU()\n",
      "    (6): Linear(in_features=10, out_features=10, bias=True)\n",
      "    (7): ReLU()\n",
      "    (8): Linear(in_features=10, out_features=10, bias=True)\n",
      "    (9): ReLU()\n",
      "    (10): Linear(in_features=10, out_features=1, bias=True)\n",
      "  )\n",
      ")\n",
      "torch.Size([32, 1])\n"
     ]
    }
   ],
   "source": [
    "model=MLP().to(DEVICE)\n",
    "print(model)\n",
    "x_batch, _ = next(iter(train_DL))\n",
    "# batch size 단위로 데이터 출력\n",
    "print(model(x_batch.to(DEVICE)).shape) # 예측값 : 32개씩 1개의 채널 데이터"
   ]
  },
  {
   "cell_type": "code",
   "execution_count": 104,
   "metadata": {},
   "outputs": [
    {
     "name": "stdout",
     "output_type": "stream",
     "text": [
      "Epoch: 1 train loss: 1771.243\n",
      "--------------------\n",
      "Epoch: 2 train loss: 293.065\n",
      "--------------------\n",
      "Epoch: 3 train loss: 172.0\n",
      "--------------------\n",
      "Epoch: 4 train loss: 120.79\n",
      "--------------------\n",
      "Epoch: 5 train loss: 77.825\n",
      "--------------------\n",
      "Epoch: 6 train loss: 41.235\n",
      "--------------------\n",
      "Epoch: 7 train loss: 22.868\n",
      "--------------------\n",
      "Epoch: 8 train loss: 15.032\n",
      "--------------------\n",
      "Epoch: 9 train loss: 12.716\n",
      "--------------------\n",
      "Epoch: 10 train loss: 12.061\n",
      "--------------------\n",
      "Epoch: 11 train loss: 9.461\n",
      "--------------------\n",
      "Epoch: 12 train loss: 8.242\n",
      "--------------------\n",
      "Epoch: 13 train loss: 4.11\n",
      "--------------------\n",
      "Epoch: 14 train loss: 2.497\n",
      "--------------------\n",
      "Epoch: 15 train loss: 2.744\n",
      "--------------------\n",
      "Epoch: 16 train loss: 1.062\n",
      "--------------------\n",
      "Epoch: 17 train loss: 1.028\n",
      "--------------------\n",
      "Epoch: 18 train loss: 1.03\n",
      "--------------------\n",
      "Epoch: 19 train loss: 0.708\n",
      "--------------------\n",
      "Epoch: 20 train loss: 0.55\n",
      "--------------------\n",
      "Epoch: 21 train loss: 0.748\n",
      "--------------------\n",
      "Epoch: 22 train loss: 0.513\n",
      "--------------------\n",
      "Epoch: 23 train loss: 0.374\n",
      "--------------------\n",
      "Epoch: 24 train loss: 0.528\n",
      "--------------------\n",
      "Epoch: 25 train loss: 0.298\n",
      "--------------------\n",
      "Epoch: 26 train loss: 0.245\n",
      "--------------------\n",
      "Epoch: 27 train loss: 0.17\n",
      "--------------------\n",
      "Epoch: 28 train loss: 0.215\n",
      "--------------------\n",
      "Epoch: 29 train loss: 0.482\n",
      "--------------------\n",
      "Epoch: 30 train loss: 0.275\n",
      "--------------------\n",
      "Epoch: 31 train loss: 0.163\n",
      "--------------------\n",
      "Epoch: 32 train loss: 0.307\n",
      "--------------------\n",
      "Epoch: 33 train loss: 0.333\n",
      "--------------------\n",
      "Epoch: 34 train loss: 0.149\n",
      "--------------------\n",
      "Epoch: 35 train loss: 0.155\n",
      "--------------------\n",
      "Epoch: 36 train loss: 0.441\n",
      "--------------------\n",
      "Epoch: 37 train loss: 0.106\n",
      "--------------------\n",
      "Epoch: 38 train loss: 0.08\n",
      "--------------------\n",
      "Epoch: 39 train loss: 0.118\n",
      "--------------------\n",
      "Epoch: 40 train loss: 0.083\n",
      "--------------------\n",
      "Epoch: 41 train loss: 0.121\n",
      "--------------------\n",
      "Epoch: 42 train loss: 0.207\n",
      "--------------------\n",
      "Epoch: 43 train loss: 0.428\n",
      "--------------------\n",
      "Epoch: 44 train loss: 0.921\n",
      "--------------------\n",
      "Epoch: 45 train loss: 1.407\n",
      "--------------------\n",
      "Epoch: 46 train loss: 2.445\n",
      "--------------------\n",
      "Epoch: 47 train loss: 1.487\n",
      "--------------------\n",
      "Epoch: 48 train loss: 0.115\n",
      "--------------------\n",
      "Epoch: 49 train loss: 0.226\n",
      "--------------------\n",
      "Epoch: 50 train loss: 0.119\n",
      "--------------------\n",
      "Epoch: 51 train loss: 0.136\n",
      "--------------------\n",
      "Epoch: 52 train loss: 0.119\n",
      "--------------------\n",
      "Epoch: 53 train loss: 0.068\n",
      "--------------------\n",
      "Epoch: 54 train loss: 0.106\n",
      "--------------------\n",
      "Epoch: 55 train loss: 0.151\n",
      "--------------------\n",
      "Epoch: 56 train loss: 0.509\n",
      "--------------------\n",
      "Epoch: 57 train loss: 0.136\n",
      "--------------------\n",
      "Epoch: 58 train loss: 0.145\n",
      "--------------------\n",
      "Epoch: 59 train loss: 0.095\n",
      "--------------------\n",
      "Epoch: 60 train loss: 0.102\n",
      "--------------------\n",
      "Epoch: 61 train loss: 0.242\n",
      "--------------------\n",
      "Epoch: 62 train loss: 0.129\n",
      "--------------------\n",
      "Epoch: 63 train loss: 0.087\n",
      "--------------------\n",
      "Epoch: 64 train loss: 0.096\n",
      "--------------------\n",
      "Epoch: 65 train loss: 0.089\n",
      "--------------------\n",
      "Epoch: 66 train loss: 0.053\n",
      "--------------------\n",
      "Epoch: 67 train loss: 0.072\n",
      "--------------------\n",
      "Epoch: 68 train loss: 0.186\n",
      "--------------------\n",
      "Epoch: 69 train loss: 0.065\n",
      "--------------------\n",
      "Epoch: 70 train loss: 0.064\n",
      "--------------------\n",
      "Epoch: 71 train loss: 0.053\n",
      "--------------------\n",
      "Epoch: 72 train loss: 0.065\n",
      "--------------------\n",
      "Epoch: 73 train loss: 0.07\n",
      "--------------------\n",
      "Epoch: 74 train loss: 0.34\n",
      "--------------------\n",
      "Epoch: 75 train loss: 2.198\n",
      "--------------------\n",
      "Epoch: 76 train loss: 2.754\n",
      "--------------------\n",
      "Epoch: 77 train loss: 2.408\n",
      "--------------------\n",
      "Epoch: 78 train loss: 0.732\n",
      "--------------------\n",
      "Epoch: 79 train loss: 1.589\n",
      "--------------------\n",
      "Epoch: 80 train loss: 1.362\n",
      "--------------------\n",
      "Epoch: 81 train loss: 0.255\n",
      "--------------------\n",
      "Epoch: 82 train loss: 0.162\n",
      "--------------------\n",
      "Epoch: 83 train loss: 0.073\n",
      "--------------------\n",
      "Epoch: 84 train loss: 0.345\n",
      "--------------------\n",
      "Epoch: 85 train loss: 2.121\n",
      "--------------------\n",
      "Epoch: 86 train loss: 0.781\n",
      "--------------------\n",
      "Epoch: 87 train loss: 0.566\n",
      "--------------------\n",
      "Epoch: 88 train loss: 0.134\n",
      "--------------------\n",
      "Epoch: 89 train loss: 0.09\n",
      "--------------------\n",
      "Epoch: 90 train loss: 0.121\n",
      "--------------------\n",
      "Epoch: 91 train loss: 0.055\n",
      "--------------------\n",
      "Epoch: 92 train loss: 0.084\n",
      "--------------------\n",
      "Epoch: 93 train loss: 0.106\n",
      "--------------------\n",
      "Epoch: 94 train loss: 0.359\n",
      "--------------------\n",
      "Epoch: 95 train loss: 0.557\n",
      "--------------------\n",
      "Epoch: 96 train loss: 0.566\n",
      "--------------------\n",
      "Epoch: 97 train loss: 1.068\n",
      "--------------------\n",
      "Epoch: 98 train loss: 1.201\n",
      "--------------------\n",
      "Epoch: 99 train loss: 0.232\n",
      "--------------------\n",
      "Epoch: 100 train loss: 0.061\n",
      "--------------------\n"
     ]
    },
    {
     "data": {
      "image/png": "[encoded data removed]",
      "text/plain": [
       "<Figure size 640x480 with 1 Axes>"
      ]
     },
     "metadata": {},
     "output_type": "display_data"
    }
   ],
   "source": [
    "if new_model_train: # model train 여부 따라\n",
    "    optimizer = optim.Adam(model.parameters(), lr = LR)\n",
    "    loss_history = Train(model, train_DL, criterion, optimizer, LR=LR, EPOCH=EPOCH)\n",
    "\n",
    "    # torch.save(model, save_model_path)\n",
    "\n",
    "    plt.figure()\n",
    "    plt.plot(range(1,EPOCH+1),loss_history)\n",
    "    plt.xlabel(\"Epochs\")\n",
    "    plt.ylabel(\"Loss\")\n",
    "    plt.title(\"Train Loss\")\n",
    "    plt.grid()\n",
    "    plt.savefig('image/test.png')"
   ]
  },
  {
   "cell_type": "code",
   "execution_count": 105,
   "metadata": {},
   "outputs": [
    {
     "name": "stdout",
     "output_type": "stream",
     "text": [
      "Test loss: 100.26212310791016\n"
     ]
    },
    {
     "data": {
      "image/png": "[encoded data removed]",
      "text/plain": [
       "<Figure size 1500x900 with 1 Axes>"
      ]
     },
     "metadata": {},
     "output_type": "display_data"
    }
   ],
   "source": [
    "# load_model = torch.load(save_model_path, map_location=DEVICE)\n",
    "\n",
    "plt.figure(figsize=[15,9])\n",
    "# Test(load_model, X_test, Y_test)\n",
    "Test(model, X_test, Y_test)\n",
    "# print(count_params(load_model))"
   ]
  },
  {
   "cell_type": "markdown",
   "metadata": {},
   "source": [
    "파란색이 실제 정답값 !\n",
    "- 빨간색이 예측값"
   ]
  },
  {
   "cell_type": "code",
   "execution_count": 106,
   "metadata": {},
   "outputs": [
    {
     "name": "stdout",
     "output_type": "stream",
     "text": [
      "Parameter containing:\n",
      "tensor([[-0.3197],\n",
      "        [-0.5370],\n",
      "        [-0.5232],\n",
      "        [-0.0166],\n",
      "        [ 1.2480],\n",
      "        [-0.8258],\n",
      "        [ 0.4327],\n",
      "        [-1.0727],\n",
      "        [ 0.2258],\n",
      "        [ 0.1848]], requires_grad=True)\n",
      "Parameter containing:\n",
      "tensor([ 0.1381, -0.1398,  0.8862, -1.1444, -0.4388, -2.2861, -1.5185, -1.4790,\n",
      "         0.2471, -1.5461], requires_grad=True)\n",
      "Parameter containing:\n",
      "tensor([[ 0.0609, -0.3192,  0.0079,  0.1241,  0.0129, -0.2667, -0.3614, -0.1790,\n",
      "         -0.0504, -0.1221],\n",
      "        [ 0.1177,  0.3622,  0.3957, -0.2175,  0.0394, -0.0729, -0.0426,  0.1656,\n",
      "          0.0558,  0.2230],\n",
      "        [ 0.0931,  0.2002, -0.3965,  0.0916,  0.4479,  0.8782,  0.4332,  0.4759,\n",
      "          0.2055,  0.6288],\n",
      "        [-0.1904, -0.3124, -0.1313,  0.1940, -0.1699, -0.1070, -0.2161,  0.0098,\n",
      "         -0.0084,  0.3125],\n",
      "        [-0.0056, -0.0311, -0.0249, -0.2307, -0.0730, -0.1385, -0.5435, -0.1217,\n",
      "         -0.0254, -0.4070],\n",
      "        [ 0.0727, -0.2755, -0.2823, -0.0874, -0.2711, -0.1024, -0.0570, -0.0814,\n",
      "          0.1965, -0.2501],\n",
      "        [-0.5942, -0.7823, -0.7683,  0.1706,  0.7177,  0.1516,  0.4167, -0.4193,\n",
      "          0.1384,  0.6934],\n",
      "        [-0.0135,  0.3605,  0.3391, -0.0627,  0.0068,  0.8212,  0.2528,  0.6179,\n",
      "         -0.2654,  0.3785],\n",
      "        [-0.1816, -0.0562, -0.2108,  0.2700, -0.0079,  0.7717, -0.0759,  0.3584,\n",
      "         -0.3701, -0.1290],\n",
      "        [-0.2677, -0.5897, -0.4115, -0.1155,  0.1454, -0.2359,  0.3694, -0.3194,\n",
      "         -0.3093,  0.9294]], requires_grad=True)\n",
      "Parameter containing:\n",
      "tensor([-0.0137, -0.1347, -1.0359, -0.0901, -0.3818, -0.2089, -0.2309, -0.3607,\n",
      "        -1.7284, -1.1987], requires_grad=True)\n"
     ]
    }
   ],
   "source": [
    "# 보여드린 증명 방식대로 훈련되는 것은 아니라는 것 확인!\n",
    "print(model.fcs[0].weight)\n",
    "print(model.fcs[0].bias)\n",
    "print(model.fcs[2].weight)\n",
    "print(model.fcs[2].bias)"
   ]
  },
  {
   "cell_type": "markdown",
   "metadata": {},
   "source": [
    "증명방식은 네모낳게 여러개가 쌓여있는 것이었는데, 실제로는 아니라는 것을 확인!"
   ]
  },
  {
   "cell_type": "markdown",
   "metadata": {},
   "source": [
    "## Case 비교"
   ]
  },
  {
   "cell_type": "code",
   "execution_count": 107,
   "metadata": {},
   "outputs": [],
   "source": [
    "# Fully-connected layers\n",
    "class MLP(nn.Module):\n",
    "    def __init__(self):\n",
    "        super().__init__()\n",
    "\n",
    "        ### 요기 부분\n",
    "\n",
    "    def forward(self,x):\n",
    "        x = torch.flatten(x, start_dim=1) # 평평하게 피는 것\n",
    "        # torch.flatten(data, start_dim, end_dim) > start_dim~end_dim까지 차원 펴주기\n",
    "        # start_dim=1;\n",
    "        x = self.fcs(x)\n",
    "        return x"
   ]
  },
  {
   "cell_type": "markdown",
   "metadata": {},
   "source": [
    "### case 1"
   ]
  },
  {
   "cell_type": "code",
   "execution_count": null,
   "metadata": {},
   "outputs": [],
   "source": [
    "# case 1: hidden layer 하나여도 괜찮게 된다! (심지어 노드 3개)\n",
    "self.fcs = nn.Sequential(nn.Linear(1, 3),\n",
    "                          nn.ReLU(), # RELU로 한다\n",
    "                          nn.Linear(3, 1))"
   ]
  },
  {
   "cell_type": "markdown",
   "metadata": {},
   "source": [
    "<img src=\"image/case1.png\" width=\"300\">\n",
    "<img src=\"image/case1_test.png\" width=\"350\">"
   ]
  },
  {
   "cell_type": "markdown",
   "metadata": {},
   "source": [
    "### case 2"
   ]
  },
  {
   "cell_type": "code",
   "execution_count": null,
   "metadata": {},
   "outputs": [],
   "source": [
    "# case 2: 물론 노드를 늘리면 더 잘한다\n",
    "self.fcs = nn.Sequential(nn.Linear(1, 10),\n",
    "                          nn.ReLU(),\n",
    "                          nn.Linear(10, 1))"
   ]
  },
  {
   "cell_type": "markdown",
   "metadata": {},
   "source": [
    "<img src=\"image/case2.png\" width=\"300\">\n",
    "<img src=\"image/case2_test.png\" width=\"350\">"
   ]
  },
  {
   "cell_type": "markdown",
   "metadata": {},
   "source": [
    "### case 3"
   ]
  },
  {
   "cell_type": "code",
   "execution_count": null,
   "metadata": {},
   "outputs": [],
   "source": [
    " # case 3: 늘릴수록 좀더 부드러워짐\n",
    "self.fcs = nn.Sequential(nn.Linear(1, 100),\n",
    "                          nn.ReLU(),\n",
    "                          nn.Linear(100, 1))"
   ]
  },
  {
   "cell_type": "markdown",
   "metadata": {},
   "source": [
    "<img src=\"image/case3.png\" width=\"300\">\n",
    "<img src=\"image/case3_test.png\" width=\"350\">"
   ]
  },
  {
   "cell_type": "markdown",
   "metadata": {},
   "source": [
    "### case 4"
   ]
  },
  {
   "cell_type": "code",
   "execution_count": null,
   "metadata": {},
   "outputs": [],
   "source": [
    "# case 4: 천개로 늘리면..? 잘되지만 안보여준 data에 대해선 여전히 잘 못함 (overfitting)\n",
    "self.fcs = nn.Sequential(nn.Linear(1, 1000),\n",
    "                          nn.ReLU(),\n",
    "                          nn.Linear(1000, 1))"
   ]
  },
  {
   "cell_type": "markdown",
   "metadata": {},
   "source": [
    "<img src=\"image/case4.png\" width=\"300\">\n",
    "<img src=\"image/case4_test.png\" width=\"350\">"
   ]
  },
  {
   "cell_type": "markdown",
   "metadata": {},
   "source": [
    "### case 5"
   ]
  },
  {
   "cell_type": "code",
   "execution_count": null,
   "metadata": {},
   "outputs": [],
   "source": [
    "# case 5: 깊이를 늘려도 노드 수가 너무 적으면 안된다 > 오히려 한개층&노드가 3개일때가 더 낫다\n",
    "self.fcs = nn.Sequential(nn.Linear(1, 3),\n",
    "                          nn.ReLU(),\n",
    "                          nn.Linear(3, 3),\n",
    "                          nn.ReLU(),\n",
    "                          nn.Linear(3, 3),\n",
    "                          nn.ReLU(),\n",
    "                          nn.Linear(3, 3),\n",
    "                          nn.ReLU(),\n",
    "                          nn.Linear(3, 3),\n",
    "                          nn.ReLU(),\n",
    "                          nn.Linear(3, 1))"
   ]
  },
  {
   "cell_type": "markdown",
   "metadata": {},
   "source": [
    "<img src=\"image/case5.png\" width=\"300\">\n",
    "<img src=\"image/case5_test.png\" width=\"350\">"
   ]
  },
  {
   "cell_type": "markdown",
   "metadata": {},
   "source": [
    "## case 6"
   ]
  },
  {
   "cell_type": "code",
   "execution_count": null,
   "metadata": {},
   "outputs": [],
   "source": [
    "# case 6-1: 노드 수를 적당히 키우고 깊이를 늘림 (부드럽다!)\n",
    "self.fcs = nn.Sequential(nn.Linear(1, 10),\n",
    "                          nn.ReLU(),\n",
    "                          nn.Linear(10, 10),\n",
    "                          nn.ReLU(),\n",
    "                          nn.Linear(10, 10),\n",
    "                          nn.ReLU(),\n",
    "                          nn.Linear(10, 10),\n",
    "                          nn.ReLU(),\n",
    "                          nn.Linear(10, 10),\n",
    "                          nn.ReLU(),\n",
    "                          nn.Linear(10, 1))"
   ]
  },
  {
   "cell_type": "markdown",
   "metadata": {},
   "source": [
    "<img src=\"image/case6.png\" width=\"300\">\n",
    "<img src=\"image/case6_test.png\" width=\"350\">"
   ]
  },
  {
   "cell_type": "markdown",
   "metadata": {},
   "source": [
    "case 1과 case 6 비교\n",
    "- => 노드가 많으면 좀더 사이사이가 좁아져서 디테일을 잘 표현 > 네모가 좁게 좁게 채워주는 느낌\n",
    "- 깊이가 깊으면 nonlinearity가 좀더 커진다고 해석 가능 > 각각의 곡선이 부드러워진다 > non-linear해진다?"
   ]
  },
  {
   "cell_type": "markdown",
   "metadata": {},
   "source": [
    "<img src=\"image/case1_test.png\" width=\"500\">\n",
    "<img src=\"image/case6_test.png\" width=\"500\">"
   ]
  }
 ],
 "metadata": {
  "kernelspec": {
   "display_name": "DL",
   "language": "python",
   "name": "python3"
  },
  "language_info": {
   "codemirror_mode": {
    "name": "ipython",
    "version": 3
   },
   "file_extension": ".py",
   "mimetype": "text/x-python",
   "name": "python",
   "nbconvert_exporter": "python",
   "pygments_lexer": "ipython3",
   "version": "3.8.15"
  }
 },
 "nbformat": 4,
 "nbformat_minor": 2
}
