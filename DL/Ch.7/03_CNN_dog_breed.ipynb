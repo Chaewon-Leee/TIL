{
 "cells": [
  {
   "cell_type": "markdown",
   "metadata": {},
   "source": [
    "<table class=\"tfo-notebook-buttons\" align=\"left\">\n",
    "  <td>\n",
    "    <a target=\"_blank\" href=\"https://colab.research.google.com/github/jjerry-k/tc_practice/blob/main/03_CNN.ipynb\"><img src=\"https://www.tensorflow.org/images/colab_logo_32px.png\" />Run in Google Colab</a>\n",
    "  </td>\n",
    "  <td>\n",
    "    <a target=\"_blank\" href=\"https://github.com/jjerry-k/tc_practice/blob/main/03_CNN.ipynb\"><img src=\"https://www.tensorflow.org/images/GitHub-Mark-32px.png\" />View source on GitHub</a>\n",
    "  </td>\n",
    "</table>"
   ]
  },
  {
   "cell_type": "markdown",
   "metadata": {},
   "source": [
    "# Convolutional Neural Network"
   ]
  },
  {
   "cell_type": "code",
   "execution_count": null,
   "metadata": {
    "tags": [],
    "vscode": {
     "languageId": "python"
    }
   },
   "outputs": [],
   "source": [
    "import numpy as np\n",
    "import torch\n",
    "import os\n",
    "from torch import nn, optim\n",
    "from torch.nn import functional as F\n",
    "from torchvision import datasets, transforms\n",
    "import matplotlib.pyplot as plt\n",
    "%matplotlib inline  \n",
    "%config InlineBackend.figure_format='retina'\n",
    "print (\"PyTorch version:[%s].\"%(torch.__version__))\n",
    "\n",
    "# Device Configuration\n",
    "device = torch.device('cuda:0' if torch.cuda.is_available() else 'cpu')\n",
    "print (\"This notebook use [%s].\"%(device))"
   ]
  },
  {
   "cell_type": "markdown",
   "metadata": {},
   "source": [
    "# Set hyper-parameter"
   ]
  },
  {
   "cell_type": "code",
   "execution_count": null,
   "metadata": {
    "vscode": {
     "languageId": "python"
    }
   },
   "outputs": [],
   "source": [
    "EPOCHS = 10\n",
    "BATCH_SIZE=16\n",
    "LEARNING_RATE=0.001"
   ]
  },
  {
   "cell_type": "markdown",
   "metadata": {},
   "source": [
    "# Prepare dataset"
   ]
  },
  {
   "cell_type": "code",
   "execution_count": null,
   "metadata": {
    "tags": [],
    "vscode": {
     "languageId": "python"
    }
   },
   "outputs": [],
   "source": [
    "# MNIST dataset\n",
    "from torchvision import datasets, transforms, models\n",
    "\n",
    "# TODO: Define transforms for the training data and testing data\n",
    "train_transforms = transforms.Compose([transforms.RandomRotation(30),\n",
    "                                       transforms.RandomResizedCrop(224),\n",
    "                                       transforms.RandomHorizontalFlip(),\n",
    "                                       transforms.ToTensor(),\n",
    "                                       transforms.Normalize([0.485, 0.456, 0.406],\n",
    "                                                            [0.229, 0.224, 0.225])])\n",
    "\n",
    "test_transforms = transforms.Compose([transforms.Resize(255),\n",
    "                                      transforms.CenterCrop(224),\n",
    "                                      transforms.ToTensor(),\n",
    "                                      transforms.Normalize([0.485, 0.456, 0.406],\n",
    "                                                           [0.229, 0.224, 0.225])])\n",
    "\n",
    "DATASET_PATH = \"dataset\"\n",
    "# Pass transforms in here, then run the next cell to see how the transforms look\n",
    "train_data = datasets.ImageFolder(DATASET_PATH + '/train', transform=train_transforms)\n",
    "test_data = datasets.ImageFolder(DATASET_PATH + '/test', transform=test_transforms)\n",
    "\n",
    "train_iter = torch.utils.data.DataLoader(train_data, batch_size=BATCH_SIZE, shuffle=True, num_workers=1)\n",
    "test_iter = torch.utils.data.DataLoader(train_data, batch_size=BATCH_SIZE, shuffle=True, num_workers=1)\n",
    "\n",
    "print(\"Preparing dataset done!\")"
   ]
  },
  {
   "cell_type": "markdown",
   "metadata": {},
   "source": [
    "# Define Model"
   ]
  },
  {
   "cell_type": "code",
   "execution_count": null,
   "metadata": {
    "vscode": {
     "languageId": "python"
    }
   },
   "outputs": [],
   "source": [
    "# our model\n",
    "class Model(nn.Module):\n",
    "    def __init__(self, input_size = [3, 224, 224],\n",
    "                 hidden_size=[32,64], \n",
    "                 num_classes=119, init_weight=\"he\", init_bias=\"zero\"):\n",
    "        super(Model, self).__init__()\n",
    "\n",
    "        self.init_weight = init_weight\n",
    "        self.init_bias = init_bias\n",
    "\n",
    "        layer_list = []\n",
    "        prev_channel = input_size[0]\n",
    "        \n",
    "        for idx in range(len(hidden_size)):\n",
    "            layer_list.append(nn.Conv2d(prev_channel, hidden_size[idx], kernel_size=3, stride=1, padding=1))\n",
    "            layer_list.append(nn.BatchNorm2d(hidden_size[idx]))\n",
    "            layer_list.append(nn.ReLU(True))\n",
    "            layer_list.append(nn.MaxPool2d(kernel_size=2, stride=2))\n",
    "            prev_channel = hidden_size[idx]\n",
    "        \n",
    "        layer_list.append(nn.Flatten())\n",
    "        feature_size = int(input_size[1]/ 2**len(hidden_size))\n",
    "        layer_list.append(nn.Linear(feature_size*feature_size*prev_channel, 119))\n",
    "        \n",
    "        self.net = nn.Sequential(*layer_list)\n",
    "\n",
    "        self.init_params()\n",
    "\n",
    "    def init_params(self):\n",
    "        \n",
    "        init_weight_method = {\n",
    "        \"he\": nn.init.kaiming_normal_, \n",
    "        \"xavier\": nn.init.xavier_normal_\n",
    "        }\n",
    "        assert self.init_weight in init_weight_method.keys(), f'Select the weight initialization method in {list(init_weight_method.keys())}'\n",
    "        \n",
    "        init_bias_method = {\n",
    "            \"zero\": nn.init.zeros_, \n",
    "            \"uniform\": nn.init.uniform_\n",
    "        }\n",
    "        assert self.init_bias in init_bias_method.keys(), f'Select the bias initialization method in {list(init_bias_method.keys())}'\n",
    "\n",
    "        for m in self.modules():\n",
    "            if isinstance(m, nn.Conv2d):\n",
    "                init_weight_method[self.init_weight](m.weight)\n",
    "                init_bias_method[self.init_bias](m.bias)\n",
    "            elif isinstance(m, nn.BatchNorm2d):\n",
    "                nn.init.constant_(m.weight, 1)\n",
    "                nn.init.constant_(m.bias, 0)\n",
    "                \n",
    "    def forward(self, X):\n",
    "        return self.net(X)"
   ]
  },
  {
   "cell_type": "markdown",
   "metadata": {},
   "source": [
    "# Calculate Parameters"
   ]
  },
  {
   "cell_type": "code",
   "execution_count": null,
   "metadata": {
    "tags": [],
    "vscode": {
     "languageId": "python"
    }
   },
   "outputs": [],
   "source": [
    "total_params = 0\n",
    "for param_name, param in model.named_parameters():\n",
    "    if param.requires_grad:\n",
    "        total_params += len(param.reshape(-1))\n",
    "print(f\"Number of Total Parameters: {total_params:,d}\")"
   ]
  },
  {
   "cell_type": "markdown",
   "metadata": {},
   "source": [
    "# Define help function"
   ]
  },
  {
   "cell_type": "code",
   "execution_count": null,
   "metadata": {
    "vscode": {
     "languageId": "python"
    }
   },
   "outputs": [],
   "source": [
    "def test_eval(model, data_iter, batch_size):\n",
    "    with torch.no_grad():\n",
    "        test_loss = 0\n",
    "        total = 0\n",
    "        correct = 0\n",
    "        model.eval()\n",
    "        for batch_img, batch_lab in data_iter:\n",
    "            X = batch_img.view(-1, 3, 224, 224).to(device)\n",
    "            Y = batch_lab.to(device)\n",
    "            y_pred = model(X)\n",
    "            _, predicted = torch.max(y_pred.data, 1)\n",
    "            correct += (predicted == Y).sum().item()\n",
    "            total += batch_img.size(0)\n",
    "        val_acc = (100 * correct / total)\n",
    "        model.train()\n",
    "    return val_acc"
   ]
  },
  {
   "cell_type": "markdown",
   "metadata": {},
   "source": [
    "# Train model "
   ]
  },
  {
   "cell_type": "code",
   "execution_count": null,
   "metadata": {
    "tags": [],
    "vscode": {
     "languageId": "python"
    }
   },
   "outputs": [],
   "source": [
    "# Training Phase\n",
    "print_every = 1\n",
    "best_accuracy = 0\n",
    "print(\"Start training !\")\n",
    "checkpoint_dir = \"weights\"\n",
    "\n",
    "if os.path.exists(checkpoint_dir):\n",
    "    model = torch.load( f'{checkpoint_dir}/model.pt') \n",
    "    model.load_state_dict(\n",
    "        torch.load( f'{checkpoint_dir}/model_state_dict.pt')) \n",
    "    checkpoint = torch.load(f'{checkpoint_dir}/all.tar')  \n",
    "#     model.load_state_dict(checkpoint['model'])\n",
    "    optimizer.load_state_dict(checkpoint['optimizer'])\n",
    "    \n",
    "else:\n",
    "    model = Model(hidden_size=[64, 32, 64]).to(device)\n",
    "    criterion = nn.CrossEntropyLoss()\n",
    "    optimizer = optim.Adam(model.parameters(), lr=LEARNING_RATE)\n",
    "\n",
    "\n",
    "# Training loop\n",
    "for epoch in range(EPOCHS):\n",
    "    loss_val_sum = 0\n",
    "    for batch_img, batch_lab in train_iter:\n",
    "\n",
    "        X = batch_img.view(-1, 3, 224, 224).to(device)\n",
    "        Y = batch_lab.to(device)\n",
    "        \n",
    "        # Inference & Calculate los\n",
    "        y_pred = model.forward(X)\n",
    "        loss = criterion(y_pred, Y)\n",
    "        \n",
    "        optimizer.zero_grad()\n",
    "        loss.backward()\n",
    "        optimizer.step()\n",
    "        \n",
    "        loss_val_sum += loss\n",
    "        \n",
    "    if ((epoch%print_every)==0) or (epoch==(EPOCHS-1)):\n",
    "        # accr_val = M.test(x_test, y_test, batch_size)\n",
    "        loss_val_avg = loss_val_sum / len(train_iter)\n",
    "        accr_val = test_eval(model, test_iter, BATCH_SIZE)\n",
    "        print(f\"epoch:[{epoch+1}/{EPOCHS}] cost:[{loss_val_avg:.3f}] test_accuracy:[{accr_val:.3f}]\")\n",
    "\n",
    "    if accr_val > best_accuracy:\n",
    "        if not os.path.exists(checkpoint_dir):\n",
    "            os.mkdir(checkpoint_dir)\n",
    "        print(f\"Model saved : acc - {accr_val}\")\n",
    "\n",
    "        torch.save(model, f'{checkpoint_dir}/model.pt')  \n",
    "        torch.save(model.state_dict(), \n",
    "                   f'{checkpoint_dir}/model_state_dict.pt')  \n",
    "        torch.save({\n",
    "                'model': model.state_dict(),\n",
    "                'optimizer': optimizer.state_dict()\n",
    "            }, f'{checkpoint_dir}/all.tar')  \n",
    "\n",
    "print(\"Training Done !\")\n"
   ]
  },
  {
   "cell_type": "markdown",
   "metadata": {},
   "source": [
    "# Test model"
   ]
  },
  {
   "cell_type": "code",
   "execution_count": null,
   "metadata": {
    "vscode": {
     "languageId": "python"
    }
   },
   "outputs": [],
   "source": [
    "test_iter = torch.utils.data.DataLoader(train_data, batch_size=BATCH_SIZE, shuffle=True, num_workers=1)\n",
    "data_iter = iter(test_iter)\n",
    "images, labels = next(data_iter)"
   ]
  },
  {
   "cell_type": "code",
   "execution_count": null,
   "metadata": {
    "vscode": {
     "languageId": "python"
    }
   },
   "outputs": [],
   "source": [
    "def imshow(image, ax=None, title=None, normalize=True):\n",
    "    \"\"\"Imshow for Tensor.\"\"\"\n",
    "    if ax is None:\n",
    "        fig, ax = plt.subplots()\n",
    "    image = image.numpy().transpose((1, 2, 0))\n",
    "\n",
    "    if normalize:\n",
    "        mean = np.array([0.485, 0.456, 0.406])\n",
    "        std = np.array([0.229, 0.224, 0.225])\n",
    "        image = std * image + mean\n",
    "        image = np.clip(image, 0, 1)\n",
    "\n",
    "    ax.imshow(image)\n",
    "    ax.spines['top'].set_visible(False)\n",
    "    ax.spines['right'].set_visible(False)\n",
    "    ax.spines['left'].set_visible(False)\n",
    "    ax.spines['bottom'].set_visible(False)\n",
    "    ax.tick_params(axis='both', length=0)\n",
    "    ax.set_xticklabels('')\n",
    "    ax.set_yticklabels('')\n",
    "    ax.set_title(title)\n",
    "    return ax"
   ]
  },
  {
   "cell_type": "code",
   "execution_count": null,
   "metadata": {
    "vscode": {
     "languageId": "python"
    }
   },
   "outputs": [],
   "source": [
    "n_sample = 16\n",
    "# sample_indices = np.random.choice(len(mnist_test.targets), n_sample, replace=False)\n",
    "test_x = images[:n_sample]\n",
    "test_y = labels[:n_sample]\n",
    "\n",
    "with torch.no_grad():\n",
    "    model.eval()\n",
    "    y_pred = model.forward(test_x.view(-1, 3, 224, 224).type(torch.float).to(device))\n",
    "    model.train()\n",
    "    \n",
    "y_pred = y_pred.argmax(axis=1)\n",
    "\n",
    "plt.figure(figsize=(20, 20))\n",
    "\n",
    "for idx in range(n_sample):\n",
    "    ax = plt.subplot(4, 4, idx+1)\n",
    "    title = f\"Predict: {y_pred[idx]}, Label: {test_y[idx]}\"\n",
    "    imshow(test_x[idx], ax, title)\n",
    "\n",
    "plt.show()"
   ]
  }
 ],
 "metadata": {
  "kernelspec": {
   "display_name": "corn",
   "language": "python",
   "name": "corn"
  }
 },
 "nbformat": 4,
 "nbformat_minor": 2
}
