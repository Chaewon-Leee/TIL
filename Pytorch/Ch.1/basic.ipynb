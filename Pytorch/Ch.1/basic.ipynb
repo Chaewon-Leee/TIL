{
 "cells": [
  {
   "cell_type": "markdown",
   "metadata": {},
   "source": [
    "# Pytorch Basic"
   ]
  },
  {
   "cell_type": "code",
   "execution_count": 1,
   "metadata": {},
   "outputs": [],
   "source": [
    "import torch\n",
    "import numpy as np"
   ]
  },
  {
   "cell_type": "markdown",
   "metadata": {},
   "source": [
    "## Tensor Basic"
   ]
  },
  {
   "cell_type": "code",
   "execution_count": 12,
   "metadata": {},
   "outputs": [
    {
     "name": "stdout",
     "output_type": "stream",
     "text": [
      "tensor([1, 2, 3, 4])\n",
      "[1 2 3 4]\n",
      "\n",
      "\n",
      "type : <class 'torch.Tensor'>\n",
      "data type : torch.int64\n",
      "shape : torch.Size([4])\n"
     ]
    }
   ],
   "source": [
    "a = torch.tensor([1,2,3,4])\n",
    "a_np = np.array([1,2,3,4])\n",
    "\n",
    "print(a)\n",
    "print(a_np)\n",
    "print(\"\\n\")\n",
    "\n",
    "print(f\"type : {type(a)}\")\n",
    "print(f\"data type : {a.dtype}\")\n",
    "print(f\"shape : {a.shape}\") # == a.size()"
   ]
  },
  {
   "cell_type": "code",
   "execution_count": 13,
   "metadata": {},
   "outputs": [
    {
     "name": "stdout",
     "output_type": "stream",
     "text": [
      "torch.float32\n",
      "tensor([1.0000, 2.0000, 3.1000, 4.0000])\n"
     ]
    }
   ],
   "source": [
    "b = torch.tensor([1,2,3.1    ,4])\n",
    "print(b.dtype) # 실수가 하나라도 들어갈 경우, 자동으로 실수 타입으로 변환\n",
    "print(b) # 다른 int 또한 실수 타입으로 변환"
   ]
  },
  {
   "cell_type": "code",
   "execution_count": 20,
   "metadata": {},
   "outputs": [
    {
     "name": "stdout",
     "output_type": "stream",
     "text": [
      "tensor([[1, 2],\n",
      "        [3, 4]])\n",
      "\n",
      "\n",
      "shape : torch.Size([2, 2])\n",
      "차원 수 : 2\n",
      "전체 성분 수 : 4\n"
     ]
    }
   ],
   "source": [
    "A = torch.tensor([[1,2], [3,4]])\n",
    "print(A)\n",
    "### 행렬이기 때문에 각 행에 해당하는 숫자의 개수 일치 필요\n",
    "# A = torch.tensor([[1,2], [3,4, 5, 6]])\n",
    "print(\"\\n\")\n",
    "\n",
    "print(f\"shape : {A.shape}\") # 2x2\n",
    "print(f\"차원 수 : {A.ndim}\") # 2차원\n",
    "print(f\"전체 성분 수 : {A.numel()}\") # = np.size"
   ]
  },
  {
   "cell_type": "code",
   "execution_count": 30,
   "metadata": {},
   "outputs": [
    {
     "name": "stdout",
     "output_type": "stream",
     "text": [
      "tensor([[[ 1,  2,  3],\n",
      "         [ 4,  5,  6],\n",
      "         [ 7,  8,  9]],\n",
      "\n",
      "        [[10, 11, 12],\n",
      "         [14, 15, 16],\n",
      "         [17, 18, 19]]])\n",
      "A.shape : torch.Size([2, 3, 3])\n",
      "a.shape : torch.Size([1, 1, 4])\n"
     ]
    }
   ],
   "source": [
    "A = torch.tensor([ [[1,2,3],[4,5,6],[7,8,9]],\n",
    "                  [[10,11,12],[14,15,16],[17,18,19]]])\n",
    "print(A)\n",
    "print(f\"A shape : {A.shape}\")\n",
    "\n",
    "a = torch.tensor([[[1,2,3,4]]])\n",
    "print(f\"a shape : {a.shape}\")"
   ]
  },
  {
   "cell_type": "markdown",
   "metadata": {},
   "source": [
    "- shape 표기법 : 채널 개수, 행, 열\n",
    "- [] (차원) 가 하나씩 추가될 때마다, 이에 대한 개수가 왼쪽부터 추가가 된다\n",
    "\n",
    "- 만약 4차원일 경우, >> 개수, 개수, 행, 열"
   ]
  },
  {
   "cell_type": "code",
   "execution_count": 21,
   "metadata": {},
   "outputs": [
    {
     "name": "stdout",
     "output_type": "stream",
     "text": [
      "tensor([0., 0., 0., 0., 0.])\n",
      "tensor([[0, 0],\n",
      "        [0, 0]])\n",
      "tensor([[0., 0., 0.],\n",
      "        [0., 0., 0.],\n",
      "        [0., 0., 0.]])\n",
      "\n",
      "\n",
      "tensor([1., 1., 1., 1., 1.])\n",
      "\n",
      "\n",
      "tensor([3, 5, 7, 9])\n",
      "tensor([0.0000, 0.1000, 0.2000, 0.3000, 0.4000, 0.5000, 0.6000, 0.7000, 0.8000,\n",
      "        0.9000])\n",
      "\n",
      "\n",
      "tensor([0.0000, 0.1111, 0.2222, 0.3333, 0.4444, 0.5556, 0.6667, 0.7778, 0.8889,\n",
      "        1.0000])\n",
      "tensor([0.0000, 0.2222, 0.4444, 0.6667, 0.8889, 1.1111, 1.3333, 1.5556, 1.7778,\n",
      "        2.0000])\n"
     ]
    }
   ],
   "source": [
    "print(torch.zeros(5)) # 5개의 zeors tensor\n",
    "print(torch.zeros_like(A)) # A와 동일한 shape의 zeros\n",
    "print(torch.zeros(3,3)) # 3x3 tensor zero로 생성\n",
    "# print(torch.zeros( (3,3)) ) # 튜플을 입력으로 넣어도 된다\n",
    "print(\"\\n\")\n",
    "\n",
    "print(torch.ones(5)) # 5개의 ones tensor\n",
    "print(\"\\n\")\n",
    "\n",
    "print(torch.arange(3,10,2)) # range랑 동일하게 tensor 만듦\n",
    "print(torch.arange(0,1,0.1)) # 소수점도 가능\n",
    "print(\"\\n\")\n",
    "\n",
    "print(torch.linspace(0,1,10)) # 시작점 : 0, 끝 점 : 1, 개수 : 10개로 간격 맞춰 생성\n",
    "print(torch.linspace(0,2,10)) # 시작점 : 0, 끝 점 : 2, 개수 : 10개로 간격 맞춰 생성"
   ]
  },
  {
   "cell_type": "markdown",
   "metadata": {},
   "source": [
    "arange vs linxpace\n",
    "\n",
    "- arange : (x,y,z) 중 z 간격을 기준으로 생성\n",
    "- linxpace : (x,y,z) 중 z개를 생성"
   ]
  },
  {
   "cell_type": "markdown",
   "metadata": {},
   "source": [
    "## Tensor간의 연산"
   ]
  },
  {
   "cell_type": "code",
   "execution_count": 24,
   "metadata": {},
   "outputs": [
    {
     "name": "stdout",
     "output_type": "stream",
     "text": [
      "tensor([ 6,  8, 10, 12])\n",
      "\n",
      "\n",
      "tensor([[4, 6],\n",
      "        [4, 6]])\n",
      "tensor([[-2, -2],\n",
      "        [-2, -2]])\n"
     ]
    }
   ],
   "source": [
    "a = torch.tensor([1,2,3,4])\n",
    "b = torch.tensor([5,6,7,8])\n",
    "print(a+b)\n",
    "print(\"\\n\")\n",
    "\n",
    "A = torch.tensor([[1,2], [1,2]])\n",
    "B = torch.tensor([[3,4], [3,4]])\n",
    "print(A+B)\n",
    "print(A-B)"
   ]
  },
  {
   "cell_type": "code",
   "execution_count": 23,
   "metadata": {},
   "outputs": [
    {
     "name": "stdout",
     "output_type": "stream",
     "text": [
      "tensor([[3, 8],\n",
      "        [3, 8]])\n",
      "tensor([[0.3333, 0.5000],\n",
      "        [0.3333, 0.5000]])\n"
     ]
    }
   ],
   "source": [
    "print(A*B) # Hadamard Product\n",
    "print(A/B)\n",
    "print(B**2)"
   ]
  },
  {
   "cell_type": "markdown",
   "metadata": {},
   "source": [
    "곱셈, 나눗셈, 제곱 > 각 성분에 대해서 해준다\n",
    "\n",
    "- Hadamard 계산이기 때문에 동일한 shape를 가진 tensor에 적용"
   ]
  },
  {
   "cell_type": "code",
   "execution_count": 25,
   "metadata": {},
   "outputs": [
    {
     "name": "stdout",
     "output_type": "stream",
     "text": [
      "tensor([[ 9, 12],\n",
      "        [ 9, 12]])\n"
     ]
    }
   ],
   "source": [
    "print(A@B) # element-wise 곱셈"
   ]
  },
  {
   "cell_type": "markdown",
   "metadata": {},
   "source": [
    "element-wise\n",
    "\n",
    "- (x,y)@(a,b) > y = a가 맞아야 성립"
   ]
  },
  {
   "cell_type": "markdown",
   "metadata": {},
   "source": [
    "# Tensor 인덱싱"
   ]
  },
  {
   "cell_type": "markdown",
   "metadata": {},
   "source": [
    "## Boolean으로 인덱싱"
   ]
  },
  {
   "cell_type": "code",
   "execution_count": 31,
   "metadata": {},
   "outputs": [
    {
     "name": "stdout",
     "output_type": "stream",
     "text": [
      "False\n",
      "\n",
      "\n",
      "tensor([[False, False,  True, False],\n",
      "        [False,  True, False,  True]])\n",
      "tensor([3, 3, 3])\n"
     ]
    }
   ],
   "source": [
    "a = [1,2,3,5,4,6,3,3]\n",
    "print(a==3) # 리스트 =/= 3이므로, False\n",
    "print(\"\\n\")\n",
    "\n",
    "A = torch.tensor([[1,2,3,4],[5,3,7,3]])\n",
    "print(A==3) # 각 성분에 대해 해당 값과 동일한지 비교해주게 된다\n",
    "print(A[A==3]) # 성분가 3과 동일한 값들로 인덱싱"
   ]
  },
  {
   "cell_type": "code",
   "execution_count": 35,
   "metadata": {},
   "outputs": [
    {
     "name": "stdout",
     "output_type": "stream",
     "text": [
      "tensor([[1, 2],\n",
      "        [7, 8]])\n",
      "tensor([1, 4])\n"
     ]
    }
   ],
   "source": [
    "A=torch.tensor([[1,2],[3,4],[5,6],[7,8]])\n",
    "B=torch.tensor([True,False,False,True]) # 그냥 리스트여도 가능하다! tensor type 맞춰줄 필요 없다\n",
    "print(A[B,:])\n",
    "# 행 자리에 boolean tensor를 넣어주어 해당 boolean에 따라서 True인 행에 대해서 출력\n",
    "\n",
    "b=torch.tensor([1,2,3,4])\n",
    "print(b[[True,False,False,True]])"
   ]
  },
  {
   "cell_type": "code",
   "execution_count": 36,
   "metadata": {},
   "outputs": [
    {
     "ename": "TypeError",
     "evalue": "list indices must be integers or slices, not list",
     "output_type": "error",
     "traceback": [
      "\u001b[0;31m---------------------------------------------------------------------------\u001b[0m",
      "\u001b[0;31mTypeError\u001b[0m                                 Traceback (most recent call last)",
      "\u001b[1;32m/Users/lee/Desktop/workspace/git/TIL/Pytorch/Ch.1/basic.ipynb 셀 20\u001b[0m line \u001b[0;36m2\n\u001b[1;32m      <a href='vscode-notebook-cell:/Users/lee/Desktop/workspace/git/TIL/Pytorch/Ch.1/basic.ipynb#X30sZmlsZQ%3D%3D?line=0'>1</a>\u001b[0m c\u001b[39m=\u001b[39m[\u001b[39m1\u001b[39m,\u001b[39m2\u001b[39m,\u001b[39m3\u001b[39m,\u001b[39m4\u001b[39m]\n\u001b[0;32m----> <a href='vscode-notebook-cell:/Users/lee/Desktop/workspace/git/TIL/Pytorch/Ch.1/basic.ipynb#X30sZmlsZQ%3D%3D?line=1'>2</a>\u001b[0m c[[\u001b[39mTrue\u001b[39;49;00m,\u001b[39mFalse\u001b[39;49;00m,\u001b[39mFalse\u001b[39;49;00m,\u001b[39mTrue\u001b[39;49;00m]]\n",
      "\u001b[0;31mTypeError\u001b[0m: list indices must be integers or slices, not list"
     ]
    }
   ],
   "source": [
    "c=[1,2,3,4]\n",
    "c[[True,False,False,True]]"
   ]
  },
  {
   "cell_type": "markdown",
   "metadata": {},
   "source": [
    "- tensor은 가능하지만, list는 불가능하다"
   ]
  },
  {
   "cell_type": "markdown",
   "metadata": {},
   "source": [
    "## Tensor로 인덱싱"
   ]
  },
  {
   "cell_type": "code",
   "execution_count": 44,
   "metadata": {},
   "outputs": [
    {
     "name": "stdout",
     "output_type": "stream",
     "text": [
      "tensor(3)\n",
      "tensor(3)\n",
      "\n",
      "tensor([3, 4, 5])\n",
      "tensor([[3, 3, 3],\n",
      "        [4, 4, 4]])\n"
     ]
    }
   ],
   "source": [
    "a=torch.tensor([1,2,3,4,5])\n",
    "print(a[2])\n",
    "print( a[torch.tensor(2)] ) # tensor로도 접근 가능\n",
    "print()\n",
    "print( a[torch.tensor([2,3,4])] )\n",
    "print( a[torch.tensor([[2,2,2],[3,3,3]])] )\n",
    "# 각 인덱싱에 부합하는 값으로, tensor shape에 맞춰 tensor 반환!"
   ]
  },
  {
   "cell_type": "code",
   "execution_count": 41,
   "metadata": {},
   "outputs": [
    {
     "name": "stdout",
     "output_type": "stream",
     "text": [
      "tensor([[[1, 2, 3],\n",
      "         [4, 5, 6]],\n",
      "\n",
      "        [[4, 5, 6],\n",
      "         [4, 5, 6]]])\n",
      "torch.Size([2, 2, 3])\n"
     ]
    }
   ],
   "source": [
    "a=torch.tensor([[1,2,3],[4,5,6]])\n",
    "\n",
    "print( a[torch.tensor([[0,1],[1,1]])] )\n",
    "# a[0] = [1,2,3] 이므로, 앞과 마찬가지로 인덱싱 값에 따라 각 위치에 맞게 tensor 반환\n",
    "print( a[torch.tensor([[0,1],[1,1]])].shape )"
   ]
  },
  {
   "cell_type": "markdown",
   "metadata": {},
   "source": [
    "segmentation 결과 그림 보여줄 때, tensor 인덱싱을 활용!\n",
    "- 만약 고양이 그림 (5)을 주황색으로 칠한다고 하자\n",
    "- 해당 5번째 인덱스를 가진 그림에 대해 3개의 값인 RGB값을 부여해야 하므로, 이때 활용한다"
   ]
  },
  {
   "cell_type": "markdown",
   "metadata": {},
   "source": [
    "## 인덱싱 종류 정리"
   ]
  },
  {
   "cell_type": "code",
   "execution_count": 45,
   "metadata": {},
   "outputs": [
    {
     "ename": "SyntaxError",
     "evalue": "invalid syntax (4233472302.py, line 11)",
     "output_type": "error",
     "traceback": [
      "\u001b[0;36m  Cell \u001b[0;32mIn[45], line 11\u001b[0;36m\u001b[0m\n\u001b[0;31m    print(A[ torch. ])\u001b[0m\n\u001b[0m                    ^\u001b[0m\n\u001b[0;31mSyntaxError\u001b[0m\u001b[0;31m:\u001b[0m invalid syntax\n"
     ]
    }
   ],
   "source": [
    "A = torch.Tensor([[1,2],[3,4],[5,6],[7,8]])\n",
    "\n",
    "# 1.\n",
    "print(A[0,1])\n",
    "# 2.\n",
    "print(A[ torch.tensor([[False,True],[False,False],[True,True],[False,True]]) ])\n",
    "print(A[A==2])\n",
    "# 3.\n",
    "print(A[ [True,False,False,False],[False,True] ])\n",
    "# 4.\n",
    "print(A[ torch.tensor([1,2,2,1,2]) ])"
   ]
  },
  {
   "cell_type": "code",
   "execution_count": null,
   "metadata": {},
   "outputs": [],
   "source": [
    "T"
   ]
  }
 ],
 "metadata": {
  "kernelspec": {
   "display_name": "DL",
   "language": "python",
   "name": "python3"
  },
  "language_info": {
   "codemirror_mode": {
    "name": "ipython",
    "version": 3
   },
   "file_extension": ".py",
   "mimetype": "text/x-python",
   "name": "python",
   "nbconvert_exporter": "python",
   "pygments_lexer": "ipython3",
   "version": "3.8.15"
  }
 },
 "nbformat": 4,
 "nbformat_minor": 2
}
