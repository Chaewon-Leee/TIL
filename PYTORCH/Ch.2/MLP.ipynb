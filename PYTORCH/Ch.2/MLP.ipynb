{
 "cells": [
  {
   "cell_type": "code",
   "execution_count": 1,
   "metadata": {},
   "outputs": [],
   "source": [
    "import torch\n",
    "from torch import nn"
   ]
  },
  {
   "cell_type": "markdown",
   "metadata": {},
   "source": [
    "# 인공신경망 만들기"
   ]
  },
  {
   "cell_type": "code",
   "execution_count": 3,
   "metadata": {},
   "outputs": [
    {
     "name": "stdout",
     "output_type": "stream",
     "text": [
      "Parameter containing:\n",
      "tensor([[0.5586]], requires_grad=True)\n",
      "Parameter containing:\n",
      "tensor([-0.9019], requires_grad=True)\n",
      "\n",
      "tensor([-0.3434], grad_fn=<AddBackward0>)\n"
     ]
    }
   ],
   "source": [
    "x = torch.tensor([1.])\n",
    "model = nn.Linear(1,1) # 입력 node 한 개, 출력 node 한 개인 layer 만든다\n",
    "\n",
    "print(model.weight) # 만들면서 initilaize 해준다\n",
    "print(model.bias)\n",
    "print()\n",
    "\n",
    "y = model(x)\n",
    "print(y)"
   ]
  },
  {
   "cell_type": "markdown",
   "metadata": {},
   "source": [
    "실제 수식으로 비교해보자"
   ]
  },
  {
   "cell_type": "code",
   "execution_count": 4,
   "metadata": {},
   "outputs": [
    {
     "name": "stdout",
     "output_type": "stream",
     "text": [
      "tensor([-0.3434], grad_fn=<AddBackward0>)\n"
     ]
    }
   ],
   "source": [
    "y = x @ model.weight + model.bias\n",
    "print(y)"
   ]
  },
  {
   "cell_type": "markdown",
   "metadata": {},
   "source": [
    "동일한 값인 것을 볼 수 있다"
   ]
  },
  {
   "cell_type": "code",
   "execution_count": 7,
   "metadata": {},
   "outputs": [
    {
     "name": "stdout",
     "output_type": "stream",
     "text": [
      "----- fc1 -----\n",
      "Parameter containing:\n",
      "tensor([[-0.3988],\n",
      "        [ 0.1842],\n",
      "        [-0.1550]], requires_grad=True)\n",
      "Parameter containing:\n",
      "tensor([-0.1147,  0.6470,  0.3014], requires_grad=True)\n",
      "----- fc2 -----\n",
      "Parameter containing:\n",
      "tensor([[-0.1379,  0.2214,  0.0785]], requires_grad=True)\n",
      "Parameter containing:\n",
      "tensor([0.3519], requires_grad=True)\n",
      "\n",
      "tensor([-0.5135,  0.8312,  0.1464], grad_fn=<AddBackward0>)\n",
      "tensor([0.6183], grad_fn=<AddBackward0>)\n"
     ]
    }
   ],
   "source": [
    "x = torch.tensor([1.])\n",
    "\n",
    "fc1 = nn.Linear(1,3) # input : 1, output : 3인 node로 구성 = fully-connected\n",
    "fc2 = nn.Linear(3,1)\n",
    "\n",
    "print(\"----- fc1 -----\")\n",
    "print(fc1.weight)\n",
    "print(fc1.bias)\n",
    "print(\"----- fc2 -----\")\n",
    "print(fc2.weight)\n",
    "print(fc2.bias)\n",
    "print()\n",
    "\n",
    "x1 = fc1(x)\n",
    "x2 = fc2(x1)\n",
    "print(x1)\n",
    "print(x2)"
   ]
  },
  {
   "cell_type": "markdown",
   "metadata": {},
   "source": [
    "마찬가지로 수식으로!"
   ]
  },
  {
   "cell_type": "code",
   "execution_count": 8,
   "metadata": {},
   "outputs": [
    {
     "ename": "RuntimeError",
     "evalue": "mat1 and mat2 shapes cannot be multiplied (1x1 and 3x1)",
     "output_type": "error",
     "traceback": [
      "\u001b[0;31m---------------------------------------------------------------------------\u001b[0m",
      "\u001b[0;31mRuntimeError\u001b[0m                              Traceback (most recent call last)",
      "\u001b[1;32m/Users/lee/Desktop/workspace/git/TIL/PYTORCH/Ch.2/MLP.ipynb 셀 9\u001b[0m line \u001b[0;36m1\n\u001b[0;32m----> <a href='vscode-notebook-cell:/Users/lee/Desktop/workspace/git/TIL/PYTORCH/Ch.2/MLP.ipynb#X11sZmlsZQ%3D%3D?line=0'>1</a>\u001b[0m y \u001b[39m=\u001b[39m (x\u001b[39m@fc1\u001b[39;49m\u001b[39m.\u001b[39;49mweight \u001b[39m+\u001b[39m fc1\u001b[39m.\u001b[39mbias)\u001b[39m@fc2\u001b[39m\u001b[39m.\u001b[39mweight \u001b[39m+\u001b[39m fc2\u001b[39m.\u001b[39mbias\n\u001b[1;32m      <a href='vscode-notebook-cell:/Users/lee/Desktop/workspace/git/TIL/PYTORCH/Ch.2/MLP.ipynb#X11sZmlsZQ%3D%3D?line=1'>2</a>\u001b[0m \u001b[39m## (1x1 @ 1x3 + 1x3)@ 3x1 + 1x1) \u001b[39;00m\n",
      "\u001b[0;31mRuntimeError\u001b[0m: mat1 and mat2 shapes cannot be multiplied (1x1 and 3x1)"
     ]
    }
   ],
   "source": [
    "y = (x@fc1.weight + fc1.bias)@fc2.weight + fc2.bias\n",
    "## (1x1 @ 1x3 + 1x3)@ 3x1 + 1x1)"
   ]
  },
  {
   "cell_type": "markdown",
   "metadata": {},
   "source": [
    "에러가 난다 !\n",
    "\n",
    "<img src=\"image/nn_linear.png\" width=\"150\">"
   ]
  },
  {
   "cell_type": "code",
   "execution_count": null,
   "metadata": {},
   "outputs": [],
   "source": []
  }
 ],
 "metadata": {
  "kernelspec": {
   "display_name": "DL",
   "language": "python",
   "name": "python3"
  },
  "language_info": {
   "codemirror_mode": {
    "name": "ipython",
    "version": 3
   },
   "file_extension": ".py",
   "mimetype": "text/x-python",
   "name": "python",
   "nbconvert_exporter": "python",
   "pygments_lexer": "ipython3",
   "version": "3.8.15"
  }
 },
 "nbformat": 4,
 "nbformat_minor": 2
}
