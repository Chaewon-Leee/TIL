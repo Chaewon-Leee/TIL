{
  "cells": [
    {
      "cell_type": "code",
      "execution_count": 42,
      "metadata": {
        "id": "K4XPqjRTHf54"
      },
      "outputs": [],
      "source": [
        "import torch\n",
        "from torchvision import transforms\n",
        "import numpy as np"
      ]
    },
    {
      "cell_type": "code",
      "execution_count": 43,
      "metadata": {
        "id": "qRcnrgq3HsLc"
      },
      "outputs": [],
      "source": [
        "## 기본 틀\n",
        "class Custom_Dataset(torch.utils.data.Dataset):\n",
        "    def __init__(self, X, Y, transform=None):\n",
        "        self.X = X\n",
        "        self.Y = Y\n",
        "        self.transform = transform\n",
        "\n",
        "    def __len__(self):\n",
        "        return self.X.shape[0] # 개x?x?x?를 줘야하므로\n",
        "\n",
        "    def __getitem__(self, idx):\n",
        "        x = self.X[idx]\n",
        "        if self.transform is not None: # 만약 transform이 있다면, 적용해서 줘야하므로\n",
        "            x = self.transform(x)\n",
        "        y = self.Y[idx]\n",
        "        return x, y"
      ]
    },
    {
      "cell_type": "markdown",
      "metadata": {},
      "source": [
        "# 데이터 테스트"
      ]
    },
    {
      "cell_type": "code",
      "execution_count": 44,
      "metadata": {
        "id": "973GNPNUI7Cr"
      },
      "outputs": [],
      "source": [
        "X_data = np.arange(-10,10).reshape(-1,1) # shape : (20) > (20,1)\n",
        "Y_data = X_data**2\n",
        "\n",
        "transform = lambda x:x+1"
      ]
    },
    {
      "cell_type": "code",
      "execution_count": 45,
      "metadata": {},
      "outputs": [],
      "source": [
        "custom_DS = Custom_Dataset(X_data, Y_data, transform=transform)\n",
        "# custom_DS는 데이터 전체를 다 가지고 있게 됨"
      ]
    },
    {
      "cell_type": "markdown",
      "metadata": {},
      "source": [
        "## train, val, test data split"
      ]
    },
    {
      "cell_type": "code",
      "execution_count": 46,
      "metadata": {},
      "outputs": [
        {
          "name": "stdout",
          "output_type": "stream",
          "text": [
            "10\n",
            "5\n",
            "5\n"
          ]
        }
      ],
      "source": [
        "train_DS, val_DS, test_DS = torch.utils.data.random_split(custom_DS, [10,5,5]) # custom DS를 넣고, train 10개 val 5개 test 5개로 나누어주는 것\n",
        "\n",
        "print(len(train_DS))\n",
        "print(len(val_DS))\n",
        "print(len(test_DS))"
      ]
    },
    {
      "cell_type": "markdown",
      "metadata": {},
      "source": [
        "## train ratio"
      ]
    },
    {
      "cell_type": "code",
      "execution_count": 47,
      "metadata": {},
      "outputs": [],
      "source": [
        "TRAIN_RATIO = 0.8"
      ]
    },
    {
      "cell_type": "code",
      "execution_count": 48,
      "metadata": {
        "id": "CXR1bi_mJR4K"
      },
      "outputs": [
        {
          "name": "stdout",
          "output_type": "stream",
          "text": [
            "16\n",
            "2\n",
            "2\n"
          ]
        }
      ],
      "source": [
        "NoT = int(len(custom_DS)*TRAIN_RATIO)\n",
        "NoV = int(len(custom_DS)*0.1) # val 개수\n",
        "NoTes = len(custom_DS) - NoT - NoV # NoTes = 10%\n",
        "\n",
        "train_DS, val_DS, test_DS = torch.utils.data.random_split(custom_DS, [NoT, NoV, NoTes]) # 0.8, 0.1, 0.1의 비율 개수 전달\n",
        "\n",
        "print(len(train_DS))\n",
        "print(len(val_DS))\n",
        "print(len(test_DS))"
      ]
    },
    {
      "cell_type": "markdown",
      "metadata": {},
      "source": [
        "## 데이터로더"
      ]
    },
    {
      "cell_type": "code",
      "execution_count": 55,
      "metadata": {},
      "outputs": [],
      "source": [
        "BATCH_SIZE = 8"
      ]
    },
    {
      "cell_type": "code",
      "execution_count": 56,
      "metadata": {},
      "outputs": [],
      "source": [
        "train_DL = torch.utils.data.DataLoader(train_DS, batch_size=BATCH_SIZE, shuffle=True)\n",
        "val_DL = torch.utils.data.DataLoader(val_DS, batch_size=BATCH_SIZE, shuffle=True)\n",
        "test_DL = torch.utils.data.DataLoader(test_DS, batch_size=BATCH_SIZE, shuffle=True)"
      ]
    },
    {
      "cell_type": "code",
      "execution_count": 57,
      "metadata": {
        "colab": {
          "base_uri": "https://localhost:8080/"
        },
        "id": "juSQbjDZKdbk",
        "outputId": "66c88c89-1eec-4b15-a669-55ecc9ec99f3"
      },
      "outputs": [
        {
          "name": "stdout",
          "output_type": "stream",
          "text": [
            "x_batch = tensor([ 5,  8,  1,  6, -6,  2, -9, -3]), \n",
            "y_batch = tensor([ 16,  49,   0,  25,  49,   1, 100,  16])\n",
            "x_batch = tensor([-2,  7, 10,  4,  0, -7, -4, -1]), \n",
            "y_batch = tensor([ 9, 36, 81,  9,  1, 64, 25,  4])\n",
            "--------------------------------------------------\n",
            "x_batch = tensor([-5,  3]), \n",
            "y_batch = tensor([36,  4])\n",
            "--------------------------------------------------\n",
            "x_batch = tensor([-8,  9]), \n",
            "y_batch = tensor([81, 64])\n"
          ]
        }
      ],
      "source": [
        "for x_batch, y_batch in train_DL:\n",
        "    print(f\"x_batch = {x_batch.reshape(-1)}, \\n\"\n",
        "          f\"y_batch = {y_batch.reshape(-1)}\")\n",
        "    # transform이 +1이었으니, x는 이미 transform이 적용된 것이고 y는 원래의 x (x-1)을 기준으로 **2 값\n",
        "print(\"-\"*50)\n",
        "for x_batch, y_batch in val_DL:\n",
        "    print(f\"x_batch = {x_batch.reshape(-1)}, \\n\"\n",
        "          f\"y_batch = {y_batch.reshape(-1)}\")\n",
        "print(\"-\"*50)\n",
        "for x_batch, y_batch in test_DL:\n",
        "    print(f\"x_batch = {x_batch.reshape(-1)}, \\n\"\n",
        "          f\"y_batch = {y_batch.reshape(-1)}\")"
      ]
    }
  ],
  "metadata": {
    "colab": {
      "provenance": []
    },
    "kernelspec": {
      "display_name": "Python 3",
      "name": "python3"
    },
    "language_info": {
      "codemirror_mode": {
        "name": "ipython",
        "version": 3
      },
      "file_extension": ".py",
      "mimetype": "text/x-python",
      "name": "python",
      "nbconvert_exporter": "python",
      "pygments_lexer": "ipython3",
      "version": "3.8.15"
    }
  },
  "nbformat": 4,
  "nbformat_minor": 0
}
