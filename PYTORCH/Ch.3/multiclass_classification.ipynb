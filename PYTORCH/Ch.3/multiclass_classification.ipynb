{
 "cells": [
  {
   "cell_type": "code",
   "execution_count": 1,
   "metadata": {},
   "outputs": [],
   "source": [
    "import torch\n",
    "from torchvision import datasets, transforms\n",
    "import matplotlib.pyplot as plt"
   ]
  },
  {
   "cell_type": "code",
   "execution_count": 2,
   "metadata": {},
   "outputs": [],
   "source": [
    "transform = transforms.ToTensor()\n",
    "train_DS = datasets.MNIST(root = '../data', train=True, download=True, transform=transform) # torchivision transform\n",
    "test_DS = datasets.MNIST(root = '../data', train=False, download=True, transform=transform)"
   ]
  },
  {
   "cell_type": "code",
   "execution_count": 39,
   "metadata": {},
   "outputs": [
    {
     "name": "stdout",
     "output_type": "stream",
     "text": [
      "cpu\n"
     ]
    }
   ],
   "source": [
    "DEVICE = \"cuda\" if torch.cuda.is_available() else \"cpu\"\n",
    "print(DEVICE)"
   ]
  },
  {
   "cell_type": "markdown",
   "metadata": {},
   "source": [
    "# Data EDA"
   ]
  },
  {
   "cell_type": "code",
   "execution_count": 3,
   "metadata": {},
   "outputs": [
    {
     "name": "stdout",
     "output_type": "stream",
     "text": [
      "Dataset MNIST\n",
      "    Number of datapoints: 60000\n",
      "    Split: train\n",
      "    Root Location: ../data\n",
      "    Transforms (if any): ToTensor()\n",
      "    Target Transforms (if any): None\n",
      "60000\n"
     ]
    }
   ],
   "source": [
    "print(train_DS)\n",
    "print(len(train_DS))"
   ]
  },
  {
   "cell_type": "code",
   "execution_count": 4,
   "metadata": {},
   "outputs": [
    {
     "name": "stdout",
     "output_type": "stream",
     "text": [
      "Dataset MNIST\n",
      "    Number of datapoints: 10000\n",
      "    Split: test\n",
      "    Root Location: ../data\n",
      "    Transforms (if any): ToTensor()\n",
      "    Target Transforms (if any): None\n",
      "10000\n"
     ]
    }
   ],
   "source": [
    "print(test_DS)\n",
    "print(len(test_DS))"
   ]
  },
  {
   "cell_type": "code",
   "execution_count": 5,
   "metadata": {},
   "outputs": [
    {
     "data": {
      "text/plain": [
       "['0 - zero',\n",
       " '1 - one',\n",
       " '2 - two',\n",
       " '3 - three',\n",
       " '4 - four',\n",
       " '5 - five',\n",
       " '6 - six',\n",
       " '7 - seven',\n",
       " '8 - eight',\n",
       " '9 - nine']"
      ]
     },
     "execution_count": 5,
     "metadata": {},
     "output_type": "execute_result"
    }
   ],
   "source": [
    "train_DS.classes"
   ]
  },
  {
   "cell_type": "code",
   "execution_count": 6,
   "metadata": {},
   "outputs": [
    {
     "data": {
      "text/plain": [
       "{'0 - zero': 0,\n",
       " '1 - one': 1,\n",
       " '2 - two': 2,\n",
       " '3 - three': 3,\n",
       " '4 - four': 4,\n",
       " '5 - five': 5,\n",
       " '6 - six': 6,\n",
       " '7 - seven': 7,\n",
       " '8 - eight': 8,\n",
       " '9 - nine': 9}"
      ]
     },
     "execution_count": 6,
     "metadata": {},
     "output_type": "execute_result"
    }
   ],
   "source": [
    "train_DS.class_to_idx"
   ]
  },
  {
   "cell_type": "code",
   "execution_count": 7,
   "metadata": {},
   "outputs": [
    {
     "data": {
      "text/plain": [
       "torch.Size([60000, 28, 28])"
      ]
     },
     "execution_count": 7,
     "metadata": {},
     "output_type": "execute_result"
    }
   ],
   "source": [
    "train_DS.data.shape"
   ]
  },
  {
   "cell_type": "code",
   "execution_count": 8,
   "metadata": {},
   "outputs": [
    {
     "data": {
      "text/plain": [
       "tensor([[  0,   0,   0,   0,   0,   0,   0,   0,   0,   0,   0,   0,   0,   0,\n",
       "           0,   0,   0,   0,   0,   0,   0,   0,   0,   0,   0,   0,   0,   0],\n",
       "        [  0,   0,   0,   0,   0,   0,   0,   0,   0,   0,   0,   0,   0,   0,\n",
       "           0,   0,   0,   0,   0,   0,   0,   0,   0,   0,   0,   0,   0,   0],\n",
       "        [  0,   0,   0,   0,   0,   0,   0,   0,   0,   0,   0,   0,   0,   0,\n",
       "           0,   0,   0,   0,   0,   0,   0,   0,   0,   0,   0,   0,   0,   0],\n",
       "        [  0,   0,   0,   0,   0,   0,   0,   0,   0,   0,   0,   0,   0,   0,\n",
       "           0,   0,   0,   0,   0,   0,   0,   0,   0,   0,   0,   0,   0,   0],\n",
       "        [  0,   0,   0,   0,   0,   0,   0,   0,   0,   0,   0,   0,   0,   0,\n",
       "           0,   0,   0,   0,   0,   0,   0,   0,   0,   0,   0,   0,   0,   0],\n",
       "        [  0,   0,   0,   0,   0,   0,   0,   0,   0,   0,   0,   0,   3,  18,\n",
       "          18,  18, 126, 136, 175,  26, 166, 255, 247, 127,   0,   0,   0,   0],\n",
       "        [  0,   0,   0,   0,   0,   0,   0,   0,  30,  36,  94, 154, 170, 253,\n",
       "         253, 253, 253, 253, 225, 172, 253, 242, 195,  64,   0,   0,   0,   0],\n",
       "        [  0,   0,   0,   0,   0,   0,   0,  49, 238, 253, 253, 253, 253, 253,\n",
       "         253, 253, 253, 251,  93,  82,  82,  56,  39,   0,   0,   0,   0,   0],\n",
       "        [  0,   0,   0,   0,   0,   0,   0,  18, 219, 253, 253, 253, 253, 253,\n",
       "         198, 182, 247, 241,   0,   0,   0,   0,   0,   0,   0,   0,   0,   0],\n",
       "        [  0,   0,   0,   0,   0,   0,   0,   0,  80, 156, 107, 253, 253, 205,\n",
       "          11,   0,  43, 154,   0,   0,   0,   0,   0,   0,   0,   0,   0,   0],\n",
       "        [  0,   0,   0,   0,   0,   0,   0,   0,   0,  14,   1, 154, 253,  90,\n",
       "           0,   0,   0,   0,   0,   0,   0,   0,   0,   0,   0,   0,   0,   0],\n",
       "        [  0,   0,   0,   0,   0,   0,   0,   0,   0,   0,   0, 139, 253, 190,\n",
       "           2,   0,   0,   0,   0,   0,   0,   0,   0,   0,   0,   0,   0,   0],\n",
       "        [  0,   0,   0,   0,   0,   0,   0,   0,   0,   0,   0,  11, 190, 253,\n",
       "          70,   0,   0,   0,   0,   0,   0,   0,   0,   0,   0,   0,   0,   0],\n",
       "        [  0,   0,   0,   0,   0,   0,   0,   0,   0,   0,   0,   0,  35, 241,\n",
       "         225, 160, 108,   1,   0,   0,   0,   0,   0,   0,   0,   0,   0,   0],\n",
       "        [  0,   0,   0,   0,   0,   0,   0,   0,   0,   0,   0,   0,   0,  81,\n",
       "         240, 253, 253, 119,  25,   0,   0,   0,   0,   0,   0,   0,   0,   0],\n",
       "        [  0,   0,   0,   0,   0,   0,   0,   0,   0,   0,   0,   0,   0,   0,\n",
       "          45, 186, 253, 253, 150,  27,   0,   0,   0,   0,   0,   0,   0,   0],\n",
       "        [  0,   0,   0,   0,   0,   0,   0,   0,   0,   0,   0,   0,   0,   0,\n",
       "           0,  16,  93, 252, 253, 187,   0,   0,   0,   0,   0,   0,   0,   0],\n",
       "        [  0,   0,   0,   0,   0,   0,   0,   0,   0,   0,   0,   0,   0,   0,\n",
       "           0,   0,   0, 249, 253, 249,  64,   0,   0,   0,   0,   0,   0,   0],\n",
       "        [  0,   0,   0,   0,   0,   0,   0,   0,   0,   0,   0,   0,   0,   0,\n",
       "          46, 130, 183, 253, 253, 207,   2,   0,   0,   0,   0,   0,   0,   0],\n",
       "        [  0,   0,   0,   0,   0,   0,   0,   0,   0,   0,   0,   0,  39, 148,\n",
       "         229, 253, 253, 253, 250, 182,   0,   0,   0,   0,   0,   0,   0,   0],\n",
       "        [  0,   0,   0,   0,   0,   0,   0,   0,   0,   0,  24, 114, 221, 253,\n",
       "         253, 253, 253, 201,  78,   0,   0,   0,   0,   0,   0,   0,   0,   0],\n",
       "        [  0,   0,   0,   0,   0,   0,   0,   0,  23,  66, 213, 253, 253, 253,\n",
       "         253, 198,  81,   2,   0,   0,   0,   0,   0,   0,   0,   0,   0,   0],\n",
       "        [  0,   0,   0,   0,   0,   0,  18, 171, 219, 253, 253, 253, 253, 195,\n",
       "          80,   9,   0,   0,   0,   0,   0,   0,   0,   0,   0,   0,   0,   0],\n",
       "        [  0,   0,   0,   0,  55, 172, 226, 253, 253, 253, 253, 244, 133,  11,\n",
       "           0,   0,   0,   0,   0,   0,   0,   0,   0,   0,   0,   0,   0,   0],\n",
       "        [  0,   0,   0,   0, 136, 253, 253, 253, 212, 135, 132,  16,   0,   0,\n",
       "           0,   0,   0,   0,   0,   0,   0,   0,   0,   0,   0,   0,   0,   0],\n",
       "        [  0,   0,   0,   0,   0,   0,   0,   0,   0,   0,   0,   0,   0,   0,\n",
       "           0,   0,   0,   0,   0,   0,   0,   0,   0,   0,   0,   0,   0,   0],\n",
       "        [  0,   0,   0,   0,   0,   0,   0,   0,   0,   0,   0,   0,   0,   0,\n",
       "           0,   0,   0,   0,   0,   0,   0,   0,   0,   0,   0,   0,   0,   0],\n",
       "        [  0,   0,   0,   0,   0,   0,   0,   0,   0,   0,   0,   0,   0,   0,\n",
       "           0,   0,   0,   0,   0,   0,   0,   0,   0,   0,   0,   0,   0,   0]],\n",
       "       dtype=torch.uint8)"
      ]
     },
     "execution_count": 8,
     "metadata": {},
     "output_type": "execute_result"
    }
   ],
   "source": [
    "train_DS.data[0]"
   ]
  },
  {
   "cell_type": "code",
   "execution_count": 9,
   "metadata": {},
   "outputs": [
    {
     "name": "stdout",
     "output_type": "stream",
     "text": [
      "tensor([5, 0, 4,  ..., 5, 6, 8])\n",
      "torch.Size([60000])\n"
     ]
    }
   ],
   "source": [
    "print(train_DS.targets)\n",
    "print(train_DS.targets.shape)"
   ]
  },
  {
   "cell_type": "markdown",
   "metadata": {},
   "source": [
    "## 데이터 시각화"
   ]
  },
  {
   "cell_type": "code",
   "execution_count": 10,
   "metadata": {},
   "outputs": [
    {
     "data": {
      "text/plain": [
       "<matplotlib.colorbar.Colorbar at 0x7ff1d83b0e20>"
      ]
     },
     "execution_count": 10,
     "metadata": {},
     "output_type": "execute_result"
    },
    {
     "data": {
      "image/png": "[encoded data removed]",
      "text/plain": [
       "<Figure size 640x480 with 2 Axes>"
      ]
     },
     "metadata": {},
     "output_type": "display_data"
    }
   ],
   "source": [
    "plt.imshow(train_DS.data[5], cmap=\"gray\")\n",
    "plt.colorbar()"
   ]
  },
  {
   "cell_type": "code",
   "execution_count": 11,
   "metadata": {},
   "outputs": [
    {
     "name": "stdout",
     "output_type": "stream",
     "text": [
      "tensor(2)\n"
     ]
    }
   ],
   "source": [
    "print(train_DS.targets[5])"
   ]
  },
  {
   "cell_type": "markdown",
   "metadata": {},
   "source": [
    "# Dataloader 확인"
   ]
  },
  {
   "cell_type": "code",
   "execution_count": 12,
   "metadata": {},
   "outputs": [],
   "source": [
    "BATCH_SIZE = 32\n",
    "train_DL = torch.utils.data.DataLoader(train_DS, batch_size=BATCH_SIZE, shuffle=True)\n",
    "# shuffle=False, 데이터가 들어가있는 순서대로 준다\n",
    "test_DL = torch.utils.data.DataLoader(test_DS, batch_size=BATCH_SIZE, shuffle=True)"
   ]
  },
  {
   "cell_type": "code",
   "execution_count": 13,
   "metadata": {},
   "outputs": [
    {
     "name": "stdout",
     "output_type": "stream",
     "text": [
      "1875\n",
      "1875.0\n",
      "\n",
      "60000\n"
     ]
    }
   ],
   "source": [
    "print(len(train_DL)) # 배치 수\n",
    "print(len(train_DS)/BATCH_SIZE)\n",
    "print()\n",
    "print(len(train_DL.dataset)) # len(train_DS)와 동일"
   ]
  },
  {
   "cell_type": "markdown",
   "metadata": {},
   "source": [
    "- train_DS.data : 직접 데이터 접근\n",
    "- train_DL.dataset : dataset에 대한 정보를 담음 > 직접 접근 X"
   ]
  },
  {
   "cell_type": "code",
   "execution_count": 14,
   "metadata": {},
   "outputs": [
    {
     "name": "stdout",
     "output_type": "stream",
     "text": [
      "<class 'torch.Tensor'>\n",
      "<class 'torch.Tensor'>\n",
      "\n",
      "torch.Size([32, 1, 28, 28])\n",
      "torch.Size([32])\n"
     ]
    }
   ],
   "source": [
    "x, y = next(iter(train_DL))\n",
    "print(type(train_DS.data))\n",
    "print(type(x))\n",
    "print()\n",
    "print(x.shape) # 28x28 채널 1개가 32개 있다 > 흑백 사진 (채널=1), 컬러사진 (채널=3)\n",
    "print(y.shape) # 해당 32개 데이터에 대한 정답 label"
   ]
  },
  {
   "cell_type": "markdown",
   "metadata": {},
   "source": [
    "현재는 type이 동일하지만, Dataloader는 dataset에서 정의되었던 transform을 통과시켜서 준다\n",
    "- 이후에 type 확인"
   ]
  },
  {
   "cell_type": "code",
   "execution_count": 15,
   "metadata": {},
   "outputs": [
    {
     "data": {
      "text/plain": [
       "<matplotlib.colorbar.Colorbar at 0x7ff1d8459340>"
      ]
     },
     "execution_count": 15,
     "metadata": {},
     "output_type": "execute_result"
    },
    {
     "data": {
      "image/png": "[encoded data removed]",
      "text/plain": [
       "<Figure size 640x480 with 2 Axes>"
      ]
     },
     "metadata": {},
     "output_type": "display_data"
    }
   ],
   "source": [
    "plt.imshow(x[0].squeeze(), cmap=\"gray\")\n",
    "# x[0].squeeze() 현재는 shape이 (1x28x28)이므로, squeeze를 통해 1 없앰\n",
    "plt.colorbar()"
   ]
  },
  {
   "cell_type": "markdown",
   "metadata": {},
   "source": [
    "colorbar가 0~256 > 0.0~1.0으로 바뀜\n",
    "- ToTensor()가 자동으로 바꾸어준 것"
   ]
  },
  {
   "cell_type": "markdown",
   "metadata": {},
   "source": [
    "ToTensor() 역할\n",
    "1. tensor 로 변환\n",
    "2. 개채행열\n",
    "- (?, 28, 28) > (?, 1, 28, 28) >> 채널 추가한 shape로 변화\n",
    "3. 0~1 사이로 변환 (int -> float)"
   ]
  },
  {
   "cell_type": "code",
   "execution_count": 16,
   "metadata": {},
   "outputs": [
    {
     "name": "stdout",
     "output_type": "stream",
     "text": [
      "tensor([  0,   0,   0,   0,   0,   0,   0,   0,   0,   0,   0,   0,   3,  18,\n",
      "         18,  18, 126, 136, 175,  26, 166, 255, 247, 127,   0,   0,   0,   0],\n",
      "       dtype=torch.uint8)\n",
      "tensor([0.0000, 0.0000, 0.0000, 0.0000, 0.0000, 0.0000, 0.0000, 0.0000, 0.0000,\n",
      "        0.0000, 0.0000, 0.0000, 0.0000, 0.0000, 0.3098, 0.9922, 0.9922, 0.9922,\n",
      "        0.5882, 0.0000, 0.0000, 0.0000, 0.0000, 0.0000, 0.0000, 0.0000, 0.0000,\n",
      "        0.0000])\n"
     ]
    }
   ],
   "source": [
    "print(train_DS.data[0][5])\n",
    "print(x.data[0][0][7]) # 채널 dim이 하나 더 추가되었으므로 index 더 추가"
   ]
  },
  {
   "cell_type": "markdown",
   "metadata": {},
   "source": [
    "# Model"
   ]
  },
  {
   "cell_type": "code",
   "execution_count": 17,
   "metadata": {},
   "outputs": [],
   "source": [
    "from torch import nn\n",
    "\n",
    "class MLP(nn.Module):\n",
    "  def __init__(self):\n",
    "      super().__init__()\n",
    "\n",
    "      self.linear = nn.Sequential(nn.Linear(28*28, 100), # 28*28 pixel을 가진 이미지를, 하나의 pixel을 feature로 본다\n",
    "                                  # 즉, 28*28 feature를 매칭할 28*28 노드 수가 있는 것\n",
    "                                  nn.ReLU(),\n",
    "                                  nn.Linear(100,10)) # 10개로 분류할 것이므로\n",
    "\n",
    "  def forward(self, x):\n",
    "      x = torch.flatten(x, start_dim=1)\n",
    "      x = self.linear(x)\n",
    "      return x"
   ]
  },
  {
   "cell_type": "code",
   "execution_count": 18,
   "metadata": {},
   "outputs": [
    {
     "data": {
      "text/plain": [
       "torch.Size([32, 10])"
      ]
     },
     "execution_count": 18,
     "metadata": {},
     "output_type": "execute_result"
    }
   ],
   "source": [
    "model = MLP()\n",
    "x, _ = next(iter(train_DL))\n",
    "\n",
    "model(x).shape # 엥. 에러가 떠야하는디."
   ]
  },
  {
   "cell_type": "markdown",
   "metadata": {},
   "source": [
    "원래는 nn.Linear(28*28, 10)(torch.Tensor(28*28))가 되어야하는데,\n",
    "나는 된다."
   ]
  },
  {
   "cell_type": "code",
   "execution_count": 19,
   "metadata": {},
   "outputs": [
    {
     "name": "stdout",
     "output_type": "stream",
     "text": [
      "torch.Size([32, 784])\n"
     ]
    }
   ],
   "source": [
    "x = torch.flatten(x, start_dim=1)\n",
    "print(x.shape) # index=1 부터 시작해서 끝까지 펴준다\n",
    "# 32x1x28x28 > 32x(1*28*28) > 32x784"
   ]
  },
  {
   "cell_type": "markdown",
   "metadata": {},
   "source": [
    "## Model Train"
   ]
  },
  {
   "cell_type": "code",
   "execution_count": 44,
   "metadata": {},
   "outputs": [],
   "source": [
    "from torch import optim\n",
    "\n",
    "lr = 1e-3\n",
    "epoch = 10\n",
    "criterion = nn.CrossEntropyLoss()\n",
    "optimizer = optim.Adam(model.parameters(), lr=lr)\n",
    "\n",
    "def Train(model, train_DL, criterion, optimizer):\n",
    "  NoT = len(train_DL.dataset)\n",
    "  loss_hist = []\n",
    "\n",
    "  for ep in range(epoch):\n",
    "    tloss = 0\n",
    "    for x, y in train_DL:\n",
    "      x = x.to(DEVICE)\n",
    "      y = y.to(DEVICE)\n",
    "      y_hat = model(x)\n",
    "      loss = criterion(y_hat, y)\n",
    "\n",
    "      optimizer.zero_grad() # grad 누적 초기화\n",
    "      loss.backward() # backpropagation\n",
    "      optimizer.step() # weight update\n",
    "\n",
    "      loss_b = loss.item() * x.shape[0]\n",
    "      tloss += loss_b\n",
    "    loss_mean = tloss/NoT\n",
    "    loss_hist += [loss_mean]\n",
    "    ###\n",
    "      # nn.CrossEntropyLoss() : 평균 CE를 구해준다 > batch size가 32니까 1/32 시그마 CE를 해준다\n",
    "      # 근데 여기서는 1/6만장 시그마 CE를 구하고 싶다\n",
    "      # 그래서 배치사이즈를 곱해서 모든 6만개의 데이터에 대한 시그마 CE를 얻고, 1/6만개로 나누는 것\n",
    "    print(f\"Epoch: {ep+1}, train loss: {round(loss_mean,3)}\")\n",
    "    print(\"-\"*20)\n",
    "  return loss_hist"
   ]
  },
  {
   "cell_type": "markdown",
   "metadata": {},
   "source": [
    "### Cross Entropy 확인"
   ]
  },
  {
   "cell_type": "markdown",
   "metadata": {},
   "source": [
    "기본적으로 softmax가 내제되어 있다"
   ]
  },
  {
   "cell_type": "code",
   "execution_count": 45,
   "metadata": {},
   "outputs": [
    {
     "name": "stdout",
     "output_type": "stream",
     "text": [
      "tensor([[-0.3491, -0.2944,  0.0076, -0.5098, -0.5513],\n",
      "        [-1.5430,  1.7436, -0.2867,  0.6284, -0.2528],\n",
      "        [ 1.0682, -0.2090, -0.7216,  0.3898,  0.8161]])\n",
      "tensor([1, 3, 4])\n",
      "tensor(1.4822)\n",
      "tensor(1.4822)\n",
      "tensor([[0.1941, 0.2050, 0.2772, 0.1652, 0.1585],\n",
      "        [0.0229, 0.6126, 0.0804, 0.2009, 0.0832],\n",
      "        [0.3662, 0.1021, 0.0612, 0.1858, 0.2846]])\n",
      "tensor(1.4822)\n"
     ]
    }
   ],
   "source": [
    "import torch.nn.functional as F\n",
    "\n",
    "# data는 세 개, 5 종류로 분류하는 문제 가정\n",
    "y_hat = torch.randn(3, 5) # y_hat이 다음과 같이 나왔을 때 softmax 통과 전 linear만 거친 데이터라고 하자\n",
    "print(y_hat)\n",
    "y = torch.randint(5, (3,)) # 0~4까지 3개 뽑아라\n",
    "print(y) # 정답\n",
    "# y_batch가 [4, 1, 4]라면, softmax를 지난 후에\n",
    "  # [0, 0, 0, 1, 0]\n",
    "  # [0, 1, 0, 0, 0]\n",
    "  # [0, 0, 0, 1, 0]\n",
    "# 으로 나와야 할 것\n",
    "\n",
    "# 방법 1\n",
    "loss = F.cross_entropy(y_hat, y)\n",
    "print(loss)\n",
    "\n",
    "# 방법 2\n",
    "loss = nn.CrossEntropyLoss()(y_hat, y)\n",
    "print(loss)\n",
    "\n",
    "# 방법 3\n",
    "y_hat_soft = F.softmax(y_hat, dim=1)\n",
    "# 각 값이 0~1이며, 행의 총합이 1인 행렬\n",
    "print(y_hat_soft)\n",
    "loss = 0\n",
    "for i, val in enumerate(y_hat_soft):\n",
    "  loss += -torch.log(val[y[i]]) # val[y[i]] : 정답 위치에 있는 value = q\n",
    "  # Loss = sigma(-log q)\n",
    "print(loss/3) # CE는 평균으로 계산되어 나오므로,"
   ]
  },
  {
   "cell_type": "markdown",
   "metadata": {},
   "source": [
    "<img src=\"image/CE_softmax.png\" width=\"600\">"
   ]
  },
  {
   "cell_type": "markdown",
   "metadata": {},
   "source": [
    "이미 포함되어 있기 때문 !"
   ]
  },
  {
   "cell_type": "markdown",
   "metadata": {},
   "source": [
    "## 모델 테스트"
   ]
  },
  {
   "cell_type": "code",
   "execution_count": 47,
   "metadata": {},
   "outputs": [
    {
     "name": "stdout",
     "output_type": "stream",
     "text": [
      "Epoch: 1, train loss: 0.31\n",
      "--------------------\n",
      "Epoch: 2, train loss: 0.145\n",
      "--------------------\n",
      "Epoch: 3, train loss: 0.099\n",
      "--------------------\n",
      "Epoch: 4, train loss: 0.076\n",
      "--------------------\n",
      "Epoch: 5, train loss: 0.06\n",
      "--------------------\n",
      "Epoch: 6, train loss: 0.05\n",
      "--------------------\n",
      "Epoch: 7, train loss: 0.041\n",
      "--------------------\n",
      "Epoch: 8, train loss: 0.034\n",
      "--------------------\n",
      "Epoch: 9, train loss: 0.028\n",
      "--------------------\n",
      "Epoch: 10, train loss: 0.024\n",
      "--------------------\n"
     ]
    },
    {
     "data": {
      "image/png": "[encoded data removed]",
      "text/plain": [
       "<Figure size 640x480 with 1 Axes>"
      ]
     },
     "metadata": {},
     "output_type": "display_data"
    }
   ],
   "source": [
    "model = MLP().to(DEVICE) # x, y, model 다 DEVICE 위에 올려줘야 한다\n",
    "# 하나라도 안 올라가면 에러\n",
    "\n",
    "optimizer = optim.Adam(model.parameters(), lr=lr)\n",
    "loss_history = Train(model, train_DL, criterion, optimizer)\n",
    "\n",
    "plt.plot(range(1,epoch+1),loss_history)\n",
    "plt.xlabel('Epoch')\n",
    "plt.ylabel('loss')\n",
    "plt.title(\"Train Loss\")\n",
    "plt.grid()"
   ]
  },
  {
   "cell_type": "markdown",
   "metadata": {},
   "source": [
    "## 모델 save"
   ]
  },
  {
   "cell_type": "code",
   "execution_count": 52,
   "metadata": {},
   "outputs": [
    {
     "data": {
      "text/plain": [
       "OrderedDict([('linear.0.weight',\n",
       "              tensor([[-0.0253, -0.0269, -0.0176,  ..., -0.0353, -0.0212,  0.0313],\n",
       "                      [-0.0265, -0.0335,  0.0002,  ..., -0.0143,  0.0144,  0.0051],\n",
       "                      [-0.0259,  0.0298, -0.0014,  ...,  0.0257,  0.0340, -0.0023],\n",
       "                      ...,\n",
       "                      [-0.0183,  0.0304, -0.0294,  ..., -0.0316,  0.0205, -0.0327],\n",
       "                      [ 0.0009, -0.0115,  0.0153,  ..., -0.0331,  0.0175, -0.0225],\n",
       "                      [ 0.0264, -0.0198, -0.0068,  ..., -0.0109, -0.0317,  0.0327]])),\n",
       "             ('linear.0.bias',\n",
       "              tensor([ 0.0403,  0.1103, -0.0813, -0.0117, -0.0713,  0.0102,  0.0844, -0.1528,\n",
       "                      -0.0152,  0.0241,  0.1271,  0.1509,  0.1464,  0.2409,  0.0060,  0.3188,\n",
       "                       0.1034,  0.1560,  0.0962,  0.1417,  0.2325,  0.0293, -0.0010,  0.0740,\n",
       "                      -0.1722,  0.1813,  0.1196,  0.1481,  0.0711, -0.2672, -0.1573,  0.0026,\n",
       "                      -0.1069, -0.1549,  0.1009, -0.0378,  0.0463,  0.1892,  0.3032,  0.1894,\n",
       "                      -0.1462, -0.0405,  0.0413, -0.0196, -0.0764,  0.0883, -0.0255, -0.0565,\n",
       "                       0.1697,  0.0486, -0.1870, -0.0367, -0.0214,  0.3344,  0.0470,  0.0155,\n",
       "                       0.0544,  0.0348,  0.2030,  0.0333,  0.0606,  0.0697,  0.3787,  0.2673,\n",
       "                       0.2493, -0.2300, -0.1256, -0.0059,  0.3014,  0.1697, -0.0312, -0.1453,\n",
       "                       0.1239,  0.1880, -0.0702, -0.1301,  0.0219, -0.0071,  0.0943, -0.0598,\n",
       "                       0.0972, -0.1511, -0.0669, -0.0288,  0.2227,  0.2158,  0.2912,  0.0142,\n",
       "                       0.0573,  0.1669, -0.0489,  0.0202, -0.1670,  0.0416,  0.0186, -0.0037,\n",
       "                       0.1411, -0.1644,  0.1369,  0.1576])),\n",
       "             ('linear.2.weight',\n",
       "              tensor([[-1.1619e-01, -3.7378e-01, -8.0611e-01,  9.6095e-04, -7.8222e-02,\n",
       "                       -1.1140e-02, -6.3859e-02, -1.4672e-01, -4.0588e-02,  2.8769e-01,\n",
       "                        5.8023e-02, -2.1732e-01, -3.9169e-01, -2.2917e-01, -7.3965e-02,\n",
       "                        2.1773e-01, -5.4051e-01, -7.5884e-02,  6.4830e-03, -7.3958e-01,\n",
       "                        2.8931e-02, -5.5645e-02, -5.0052e-02, -7.1925e-02,  8.0511e-02,\n",
       "                       -6.6919e-01, -6.6495e-01,  5.7664e-02, -5.9438e-01,  7.5609e-02,\n",
       "                        1.2874e-01, -6.2474e-01, -3.5361e-01,  3.0067e-01,  2.0242e-01,\n",
       "                       -2.0779e-02, -4.9622e-01,  1.4150e-01, -1.0447e+00, -7.1179e-01,\n",
       "                       -4.5194e-02, -8.1640e-02, -1.2983e-01, -4.3719e-01,  3.7973e-01,\n",
       "                       -2.5630e-01, -8.6232e-03, -1.3104e+00, -4.2643e-01,  2.0182e-01,\n",
       "                        2.6331e-02, -6.6670e-01, -5.3225e-02, -8.4257e-02,  1.2604e-01,\n",
       "                        1.7734e-01,  1.3758e-01,  1.2851e-01, -6.4670e-02,  2.0492e-01,\n",
       "                        2.6741e-01, -6.8251e-01, -1.9265e-01, -4.1738e-02, -1.5931e-01,\n",
       "                       -2.2979e-01,  7.4154e-02,  2.5586e-01, -2.1469e-02,  6.3884e-01,\n",
       "                        6.0954e-02,  1.1736e-01,  2.0041e-01,  3.6456e-01, -5.8658e-01,\n",
       "                        6.5580e-02, -1.0312e+00, -4.6660e-01,  9.5453e-02, -3.9104e-01,\n",
       "                        1.8438e-01,  5.9323e-02,  1.4028e-01,  8.4826e-02, -5.9200e-01,\n",
       "                        1.4049e-01,  2.3912e-01,  2.7338e-02,  7.6724e-02, -6.8784e-01,\n",
       "                        8.7268e-02,  1.9138e-01, -6.9970e-01,  1.0518e-01,  2.5939e-01,\n",
       "                        7.2440e-02, -5.6197e-02, -2.6389e-01,  7.2937e-02, -2.3779e-01],\n",
       "                      [ 2.4330e-01,  4.3183e-01,  2.3048e-02, -2.2956e-02,  8.6142e-02,\n",
       "                       -3.1432e-01,  2.0269e-01,  4.4559e-02,  3.9642e-02, -7.2298e-01,\n",
       "                       -7.0682e-01, -4.2641e-01,  1.2773e-01,  5.9167e-01, -1.0089e-01,\n",
       "                       -1.4321e-01,  2.0483e-01,  5.0734e-02, -1.7487e-01,  3.9249e-01,\n",
       "                        5.7074e-01, -8.6255e-01, -9.6036e-03, -2.8207e-01, -3.4200e-01,\n",
       "                        1.4547e-02, -3.7119e-02, -9.3986e-02,  1.5567e-01, -3.5610e-01,\n",
       "                        6.8047e-02,  2.3003e-01, -1.3985e-01, -1.3397e-01, -5.6669e-01,\n",
       "                       -5.0431e-01, -6.5092e-01, -8.7158e-01,  1.9278e-01, -7.5978e-01,\n",
       "                       -3.1280e-01, -6.5483e-02,  3.2476e-01, -3.2564e-01, -9.4918e-03,\n",
       "                        1.3347e-01,  6.0003e-03, -1.1246e-01, -1.0207e-01, -3.5609e-01,\n",
       "                        2.9223e-01,  3.9613e-01, -3.8916e-02, -1.9302e-02,  3.5184e-02,\n",
       "                       -4.6520e-02, -1.2605e-01, -1.5962e-02, -1.3320e-01, -5.4765e-01,\n",
       "                       -6.8333e-02,  1.3742e-01, -4.0686e-02,  4.7727e-02,  1.6990e-01,\n",
       "                        7.4600e-02, -4.5807e-01,  4.5756e-01, -6.8963e-02, -3.0685e-02,\n",
       "                        1.1459e-01, -3.2748e-01, -3.4292e-01,  5.7246e-01,  1.9643e-01,\n",
       "                        8.5275e-02, -7.8717e-01,  4.3171e-01,  2.1410e-01,  2.3504e-01,\n",
       "                       -6.2243e-02,  4.0044e-01, -3.5260e-01, -4.8064e-01,  1.8859e-01,\n",
       "                        6.6989e-02, -5.7887e-01, -1.4081e-01, -1.4233e-01, -3.2200e-01,\n",
       "                       -1.8377e-01,  3.9418e-01, -1.0484e-01,  2.6230e-01, -1.9607e-02,\n",
       "                       -8.4662e-01,  2.7243e-01,  1.7487e-01,  1.5842e-01, -1.9267e-01],\n",
       "                      [ 3.5662e-01, -1.8800e-01,  4.4656e-01, -7.0334e-03,  1.7789e-02,\n",
       "                       -4.9386e-01,  1.7778e-01, -1.9413e-01, -8.8921e-02,  1.0381e-01,\n",
       "                       -2.2128e-01,  2.8702e-01,  3.7043e-01,  3.0134e-01,  6.8679e-02,\n",
       "                       -3.7770e-01, -4.3195e-02,  2.0268e-01, -8.8441e-02, -1.0283e-01,\n",
       "                       -6.4037e-01,  7.2046e-02, -9.8396e-02, -1.3155e-01,  1.4183e-01,\n",
       "                        2.0702e-01, -2.5403e-01, -3.9746e-01,  1.0238e-01,  1.0435e-01,\n",
       "                        1.7008e-01, -1.1573e+00,  4.3612e-01,  1.9794e-01,  3.8266e-02,\n",
       "                        1.2077e-01, -1.1863e-01,  6.4458e-02,  5.2655e-01, -5.2455e-01,\n",
       "                       -6.1871e-02, -3.1846e-02,  1.8549e-01,  2.8060e-01,  2.7283e-01,\n",
       "                        9.9245e-02,  1.9808e-02, -4.9933e-01,  2.1270e-01, -1.8922e-01,\n",
       "                        2.2438e-01,  1.1185e-02,  8.1364e-02, -8.4343e-01, -3.7057e-02,\n",
       "                       -2.2734e-01, -1.5401e-01, -3.1312e-01,  3.2340e-01, -2.7801e-01,\n",
       "                        2.1904e-01,  5.1713e-01, -6.0439e-01, -2.8134e-01, -4.0076e-01,\n",
       "                        2.8689e-01,  1.5725e-01, -2.3876e-01, -9.7454e-01,  3.9303e-01,\n",
       "                        1.1471e-01, -6.1172e-02,  4.3278e-01,  1.8557e-01,  8.1092e-02,\n",
       "                        1.5280e-01, -1.4664e-01, -4.3208e-01,  1.5044e-02, -4.2726e-01,\n",
       "                        8.5562e-02, -1.6113e-01, -1.2665e-01, -3.0672e-02, -8.2908e-02,\n",
       "                        1.8359e-01, -4.5357e-01, -8.4477e-03,  7.4516e-02,  1.0951e-01,\n",
       "                        1.4716e-01, -2.8749e-01,  3.2902e-01,  2.1580e-01, -8.3639e-02,\n",
       "                       -7.0912e-02,  2.6062e-01,  2.8724e-01,  1.6087e-01,  1.2085e-02],\n",
       "                      [-7.4337e-01, -2.0736e-02,  5.0280e-01, -3.1766e-03,  5.2153e-01,\n",
       "                        1.3020e-01, -6.8704e-01,  4.0326e-01, -4.6453e-03,  3.0579e-01,\n",
       "                       -6.4047e-01, -1.2178e-01, -3.4332e-01, -6.5833e-01,  6.7554e-02,\n",
       "                       -2.5508e-01,  3.0107e-01, -1.4127e-01, -1.6385e-01,  1.3117e-01,\n",
       "                       -7.3761e-01,  2.1788e-01,  6.7486e-02,  1.4188e-01,  1.3500e-01,\n",
       "                       -3.8312e-01, -6.9185e-01,  1.2433e-01,  2.4969e-02,  7.7622e-02,\n",
       "                        1.7679e-01,  1.6632e-01,  1.3708e-01, -4.8348e-02, -1.4110e-02,\n",
       "                       -2.3649e-01,  1.2098e-01, -2.0679e-01, -2.3011e-02,  2.4239e-01,\n",
       "                        1.8767e-01, -9.7313e-02, -1.3607e-02, -1.8012e-01,  1.3344e-01,\n",
       "                       -4.7867e-03,  5.4326e-02,  2.2798e-01, -2.6747e-01, -9.8667e-02,\n",
       "                       -2.9309e-02,  2.2405e-01,  8.2785e-04, -2.2231e-01,  1.7014e-02,\n",
       "                        1.7990e-01,  8.2128e-02,  1.9288e-01,  1.0763e-01,  3.3783e-01,\n",
       "                       -5.7932e-01, -2.8590e-01, -6.7312e-01, -8.1798e-01, -2.6335e-01,\n",
       "                        1.0918e-01,  1.2306e-01, -1.4089e-01,  3.9152e-02, -2.3884e-01,\n",
       "                        1.0173e-01,  2.2751e-01, -1.1119e-01,  3.5879e-02,  1.7917e-01,\n",
       "                        1.7748e-01,  3.6651e-01, -6.9285e-01, -1.9456e-01,  1.7016e-01,\n",
       "                       -1.8581e-01,  2.7320e-01,  3.8099e-02, -1.4916e-01,  2.8947e-02,\n",
       "                       -2.7409e-01,  2.2653e-01,  5.6473e-02,  9.8608e-02, -6.3971e-02,\n",
       "                       -4.6843e-02,  3.9010e-02,  1.9877e-01,  2.4454e-01,  5.7706e-02,\n",
       "                       -3.3331e-01, -3.0811e-01,  3.0283e-01, -5.8458e-01,  1.9366e-02],\n",
       "                      [ 1.4376e-01, -8.4897e-01, -6.0216e-01,  5.6882e-02,  8.2526e-02,\n",
       "                        4.5544e-03,  4.2000e-01,  1.8573e-01, -5.1670e-02,  4.0336e-02,\n",
       "                       -1.4364e-01,  4.7008e-02, -4.9021e-01,  4.6895e-01, -4.7265e-02,\n",
       "                       -2.0584e-01, -3.1003e-01,  6.1670e-03,  1.7594e-01,  2.8831e-01,\n",
       "                       -3.2022e-02, -6.0143e-01,  8.6962e-02,  6.8168e-02, -1.5678e-01,\n",
       "                       -1.3237e-01, -4.2813e-02,  9.5633e-02, -2.3143e-01,  1.1594e-01,\n",
       "                       -1.5101e+00,  2.3272e-01, -7.7910e-01, -8.5244e-01,  1.0913e-01,\n",
       "                        2.4690e-01,  1.0157e-01,  1.6015e-01,  2.0427e-01,  1.8515e-01,\n",
       "                       -5.9121e-01,  8.4429e-02,  4.0030e-01, -7.1190e-02, -4.3922e-01,\n",
       "                       -3.2167e-01,  4.2448e-03,  2.6496e-01,  2.1439e-01, -3.3268e-02,\n",
       "                        2.6493e-01, -8.5160e-02,  2.4284e-02,  1.0590e-01, -8.1313e-03,\n",
       "                       -8.1794e-02,  3.7672e-01, -6.2536e-01, -4.3463e-01, -6.5107e-01,\n",
       "                        2.0022e-01, -1.0188e-01,  1.5081e-01,  3.7775e-01, -5.1411e-02,\n",
       "                       -2.7653e-01, -9.6458e-01, -3.4485e-01, -1.1387e-02, -5.0329e-01,\n",
       "                       -1.5804e-01, -6.1285e-01,  7.0991e-02, -3.3945e-01, -1.5764e-01,\n",
       "                        3.9142e-02,  1.4944e-01,  2.8048e-01, -9.5722e-01,  1.4357e-01,\n",
       "                        2.7173e-01,  4.3245e-01,  1.2471e-01,  5.2884e-02,  1.5823e-01,\n",
       "                       -7.9639e-02, -2.5503e-01,  1.4527e-01,  1.5225e-02,  6.3500e-02,\n",
       "                        1.9364e-01,  3.9249e-02, -3.7511e-01,  4.0908e-01, -1.2102e+00,\n",
       "                       -5.9557e-03,  3.1311e-01, -3.4479e-01,  2.1443e-01,  1.3024e-01],\n",
       "                      [-7.6598e-01,  3.5267e-01, -1.5889e-02, -5.9872e-02, -4.2926e-01,\n",
       "                        1.3562e-01,  1.0235e-01, -7.6481e-01,  9.4674e-03,  1.5319e-01,\n",
       "                        1.9943e-01, -5.0826e-01, -1.9369e-01, -4.0723e-01, -5.4942e-02,\n",
       "                        3.4391e-01, -9.0122e-02,  1.6485e-01, -2.1917e-01,  1.4442e-01,\n",
       "                        4.6128e-01,  9.3823e-02,  7.9250e-02,  6.8512e-02, -5.8360e-02,\n",
       "                       -1.5293e-04,  5.6921e-01,  1.9117e-01, -4.1843e-03, -9.9820e-02,\n",
       "                       -1.2501e-01, -4.8966e-02,  3.2354e-01, -1.7927e-01, -6.0525e-01,\n",
       "                       -8.5998e-02,  4.4234e-02,  7.7543e-02,  2.5911e-01,  3.5442e-01,\n",
       "                        4.7090e-02,  8.1137e-02, -1.1888e+00,  1.3906e-01, -6.1471e-01,\n",
       "                        2.4746e-02, -1.4712e-02,  2.0506e-01, -7.0131e-02, -6.1982e-02,\n",
       "                       -1.0241e+00, -5.6134e-01, -1.0153e-02,  4.1806e-01, -5.2079e-02,\n",
       "                        7.4570e-02,  2.0876e-01,  2.4018e-01,  4.3978e-01,  1.1358e-01,\n",
       "                       -4.9987e-01, -2.5831e-01,  1.2325e-01,  8.0345e-02,  3.5838e-01,\n",
       "                       -1.8306e-01, -1.4948e-02, -1.2799e-01,  1.4610e-01,  2.2079e-03,\n",
       "                       -1.1107e-01, -9.0098e-02,  1.3667e-02,  1.1624e-01,  3.2407e-01,\n",
       "                        2.2863e-01,  4.3589e-01, -7.7674e-02,  3.4154e-01, -7.4114e-01,\n",
       "                       -7.5769e-02, -9.9034e-01, -7.5030e-02, -3.5202e-01,  1.0364e-02,\n",
       "                        1.0081e-01,  1.4420e-01, -2.2807e-01,  4.7415e-02,  2.1574e-01,\n",
       "                       -3.4674e-01, -3.5029e-01,  3.7274e-01, -4.0964e-02,  1.9458e-01,\n",
       "                        1.3630e-01,  1.8088e-01, -3.3155e-01, -1.2046e-01, -1.5082e-02],\n",
       "                      [ 2.2125e-01,  3.5109e-01, -9.6959e-01,  5.7238e-02,  3.2390e-01,\n",
       "                       -2.8846e-01,  2.1418e-01, -5.8651e-01,  2.5538e-02, -1.6910e-01,\n",
       "                        3.6767e-01,  4.0036e-01,  1.4192e-01, -1.1121e-01,  2.2604e-02,\n",
       "                       -4.8395e-01, -7.8744e-01,  2.5016e-02,  1.4456e-02, -5.8196e-01,\n",
       "                       -1.0806e-01,  4.7255e-01,  1.8013e-02,  8.0632e-02, -7.3751e-01,\n",
       "                       -5.1371e-01,  3.8305e-01,  4.8623e-02, -2.1914e-02,  2.3603e-02,\n",
       "                       -2.9834e-01, -2.8406e-01,  1.0240e-01, -5.7830e-02,  3.9059e-01,\n",
       "                        5.6259e-02, -6.9846e-01, -6.9720e-02, -8.6996e-01, -4.4790e-01,\n",
       "                        1.7071e-01, -7.5807e-03, -6.8668e-01, -2.4311e-01, -4.6948e-01,\n",
       "                        1.5415e-01, -4.2204e-02, -9.1662e-01,  2.1353e-01,  8.0759e-04,\n",
       "                       -7.4472e-01,  1.9558e-02, -5.5126e-02,  3.0373e-01, -1.1045e-01,\n",
       "                        1.6596e-01, -3.2560e-01,  2.2999e-02,  2.0086e-01,  1.9368e-01,\n",
       "                       -6.5956e-02, -1.8579e-01, -3.3734e-01,  2.7561e-03, -9.9743e-01,\n",
       "                        7.3963e-02, -5.3649e-01,  1.1915e-01,  3.2539e-02, -6.0740e-02,\n",
       "                        2.0229e-02, -9.6480e-02, -3.7932e-01, -5.0100e-01, -8.2484e-01,\n",
       "                        1.9224e-01, -6.6432e-01,  2.8608e-01, -3.3223e-01, -7.7324e-02,\n",
       "                        1.5046e-01,  2.3626e-01, -6.8182e-02, -2.6717e-01,  1.3089e-01,\n",
       "                        1.5937e-01,  3.5639e-01,  1.2968e-01,  1.1117e-01, -7.2041e-01,\n",
       "                        1.6954e-01,  1.6204e-01, -4.5047e-01, -3.5338e-01,  2.6606e-01,\n",
       "                        2.7272e-01,  1.6744e-01, -4.8906e-01,  2.6468e-01, -6.3065e-03],\n",
       "                      [ 2.2882e-01, -3.1468e-01,  3.9839e-01,  1.6850e-02,  4.2745e-01,\n",
       "                        1.2811e-01,  1.6815e-01,  3.3914e-02,  3.4910e-02,  4.7105e-02,\n",
       "                        3.0264e-02,  1.8975e-01, -1.3052e-01,  3.6698e-01, -3.6926e-02,\n",
       "                        4.4812e-01,  5.5888e-02, -5.3857e-01, -9.2661e-03,  1.3234e-01,\n",
       "                        2.7924e-01,  1.4839e-01, -1.8039e-02,  6.9497e-02,  5.7530e-02,\n",
       "                        1.6526e-01,  2.1996e-01, -4.8110e-01, -1.3230e-01, -4.8193e-01,\n",
       "                        3.3088e-01,  7.2000e-02,  5.3439e-02,  2.7391e-02,  1.7054e-01,\n",
       "                       -6.0696e-01,  9.8054e-02, -1.1782e-01, -5.1621e-01,  5.3886e-02,\n",
       "                       -4.8926e-01,  6.6527e-03,  7.9754e-02, -4.0793e-01,  1.8602e-01,\n",
       "                       -1.1117e-01,  4.1623e-02, -3.6125e-01, -3.0798e-01,  1.9876e-02,\n",
       "                        1.0396e-01, -1.3976e-02, -1.7691e-02, -2.1316e-01, -2.3202e-01,\n",
       "                        1.6130e-01, -9.3570e-01, -1.7399e-01, -3.2984e-01, -3.6276e-02,\n",
       "                        1.3009e-01,  1.1156e-01,  1.6718e-01,  2.0202e-01,  1.2919e-01,\n",
       "                        4.1237e-01,  6.9712e-02, -5.2358e-02, -2.1861e-01, -3.1721e-01,\n",
       "                       -3.3800e-01, -2.6973e-01,  3.2548e-01,  2.0355e-01, -1.2455e-01,\n",
       "                       -8.1464e-01, -3.0184e-01,  1.6427e-01,  1.2911e-01,  1.9111e-01,\n",
       "                       -2.7280e-01, -1.4881e-01, -6.5543e-02,  6.4686e-02, -2.1514e-01,\n",
       "                       -4.9896e-01,  5.2310e-01, -1.1478e-01, -2.5863e-01,  1.1593e-01,\n",
       "                        3.3770e-01,  5.2462e-01,  5.2022e-01,  6.6649e-02, -3.8454e-01,\n",
       "                       -6.3515e-01, -3.4956e-01,  4.3943e-01, -1.3986e-01, -2.6978e-01],\n",
       "                      [-4.3121e-01, -4.0211e-02, -5.2413e-01,  1.9104e-02, -6.3687e-01,\n",
       "                        2.9967e-01, -1.6698e-01,  3.9625e-02, -6.5983e-02, -1.6353e-01,\n",
       "                        8.8417e-02, -6.8026e-01,  7.8010e-02, -1.8201e-01, -7.5550e-02,\n",
       "                       -4.0100e-01, -3.0367e-01,  1.7798e-01,  1.8306e-01, -2.3330e-01,\n",
       "                       -7.0281e-01, -1.1001e-01,  7.5704e-02,  1.7643e-01,  7.4067e-03,\n",
       "                        1.9978e-01, -2.2878e-01,  1.0887e-01,  1.6181e-01, -4.0992e-01,\n",
       "                        4.3124e-02, -2.1130e-01,  6.5530e-02,  1.3059e-01, -5.7515e-01,\n",
       "                       -1.1101e-01,  2.2408e-01,  5.9823e-02, -8.9500e-01,  8.8000e-02,\n",
       "                        2.4356e-01,  9.0932e-02, -1.5007e-01, -1.3084e-01, -5.1581e-02,\n",
       "                        1.7055e-01,  4.8082e-02, -1.0199e-01,  5.4254e-01,  1.3212e-01,\n",
       "                       -2.2299e-01,  5.3440e-02,  4.1121e-02, -4.0054e-02,  1.8034e-01,\n",
       "                        1.8884e-01,  1.7916e-01,  9.0796e-02, -2.0280e-01, -4.8693e-02,\n",
       "                        9.7758e-02,  4.2759e-01,  1.7480e-01, -3.4871e-01, -1.3209e-01,\n",
       "                        8.0194e-03,  1.7667e-01, -1.8855e-01,  1.4203e-01, -8.3747e-01,\n",
       "                        1.4267e-01,  1.6616e-01, -6.2919e-01, -1.1373e+00,  1.2239e-01,\n",
       "                       -2.5857e-01, -3.7923e-01,  4.0633e-02,  9.7205e-02,  3.0521e-02,\n",
       "                       -9.0514e-02, -1.3334e-01,  4.6119e-02,  5.7178e-02,  1.5495e-01,\n",
       "                        1.9505e-01, -5.9573e-01, -2.4198e-02,  1.3648e-01,  1.9136e-01,\n",
       "                       -1.4789e-01, -7.4813e-01, -4.8191e-01, -1.8316e-01, -8.5630e-02,\n",
       "                        3.2799e-01, -2.1134e-01,  1.8518e-02,  2.6660e-01,  1.0087e-01],\n",
       "                      [-1.9782e-02, -3.1985e-02, -4.4666e-01, -5.6537e-02, -3.6181e-01,\n",
       "                        1.7813e-01, -5.9612e-01,  1.8570e-01,  4.1713e-02, -5.0972e-01,\n",
       "                       -5.3987e-02,  1.1138e-01,  3.2744e-01, -3.5449e-01,  7.2779e-02,\n",
       "                       -7.2853e-03, -6.8810e-02,  1.2357e-01, -2.2449e-03,  1.7610e-01,\n",
       "                        2.5375e-01, -1.5802e-01, -9.2189e-03,  7.1671e-02,  2.0080e-01,\n",
       "                        7.9367e-02,  1.4838e-01, -2.7317e-01,  1.2852e-01,  2.9172e-01,\n",
       "                       -9.3577e-02,  2.8199e-01, -6.4930e-01,  1.7769e-01,  2.0089e-01,\n",
       "                        2.1072e-01,  7.0591e-02,  7.1073e-02,  3.1194e-01,  1.1124e-01,\n",
       "                        7.5852e-02,  3.5259e-02,  5.7969e-02, -7.9304e-02,  1.9257e-01,\n",
       "                       -8.4621e-02, -9.4408e-03,  3.9698e-01, -4.1854e-01,  8.1078e-02,\n",
       "                        1.3249e-01,  5.8894e-02, -2.9818e-02, -1.5613e-01, -7.3693e-02,\n",
       "                       -4.1352e-01,  5.9419e-02, -2.5783e-01, -7.9440e-01,  7.3845e-02,\n",
       "                        1.4275e-01, -9.3704e-01,  2.9392e-01,  7.9678e-02,  1.2631e-01,\n",
       "                       -8.9472e-01,  3.4087e-01,  2.5358e-01,  2.5940e-01,  4.8890e-02,\n",
       "                        5.3532e-02,  1.1084e-01,  8.2145e-02, -1.3774e-01, -6.4213e-02,\n",
       "                       -2.8817e-01,  3.3463e-01, -4.1498e-01,  2.2477e-02,  1.7122e-01,\n",
       "                       -1.8524e-01, -2.9405e-01,  8.7986e-02,  1.1004e-01, -7.3714e-02,\n",
       "                       -8.0191e-03, -5.2332e-01, -4.6165e-02, -4.2557e-01,  1.5720e-02,\n",
       "                       -5.7803e-01, -6.6799e-02, -8.7091e-01, -6.0383e-01, -1.0748e-01,\n",
       "                       -8.8823e-02, -1.0689e+00, -1.2210e+00, -5.9164e-01,  8.1709e-02]])),\n",
       "             ('linear.2.bias',\n",
       "              tensor([-0.0497, -0.0854, -0.0712, -0.1032,  0.0516,  0.0637, -0.0349, -0.1749,\n",
       "                       0.1834, -0.0429]))])"
      ]
     },
     "execution_count": 52,
     "metadata": {},
     "output_type": "execute_result"
    }
   ],
   "source": [
    "model.state_dict() # 현재 학습한 parameters 확인"
   ]
  },
  {
   "cell_type": "code",
   "execution_count": 53,
   "metadata": {},
   "outputs": [],
   "source": [
    "save_model_path = \"./model_save/MLP_MNIST.pt\"\n",
    "torch.save(model.state_dict(), save_model_path)\n",
    "# torch.save(model, save_model_path) # 모델 자체를 저장 가능"
   ]
  },
  {
   "cell_type": "code",
   "execution_count": 54,
   "metadata": {},
   "outputs": [
    {
     "data": {
      "text/plain": [
       "<All keys matched successfully>"
      ]
     },
     "execution_count": 54,
     "metadata": {},
     "output_type": "execute_result"
    }
   ],
   "source": [
    "load_model = MLP().to(DEVICE) # 랜덤한 값이 있는 모델\n",
    "load_model.load_state_dict(torch.load(save_model_path, map_location=DEVICE)) # 저장한 weight로 가져온다\n",
    "# load_model = torch.load(save_model_path, map_location=DEVICE) 통채로 저장했을시\n",
    "# map_location 있어야 GPU로 학습했던 거 현재 device로 불러올 수 있음\n",
    "  # 이걸 안해주면 GPU로 학습했던 걸 CPU로 돌리면 문제가 생김"
   ]
  },
  {
   "cell_type": "markdown",
   "metadata": {},
   "source": [
    "## 모델 테스트"
   ]
  },
  {
   "cell_type": "code",
   "execution_count": 63,
   "metadata": {},
   "outputs": [],
   "source": [
    "model.eval()\n",
    "def Test(model, test_DL):\n",
    "  with torch.no_grad():\n",
    "      rcorrect = 0\n",
    "      # y_hat = model(X_test)로 해도 되지만, 메모리 한계가 있으니까 얘도 배치사이즈로 나누어서 해주는 것\n",
    "      for x, y in test_DL:\n",
    "        x = x.to(DEVICE)\n",
    "        y = y.to(DEVICE)\n",
    "\n",
    "        y_hat = model(x)\n",
    "        pred = torch.argmax(y_hat, dim=1) #dim=1; 32x10 > 10개에 대해서 분류한 인덱스를 뽑아내야 하므로\n",
    "        corrects_b = torch.sum(pred == y).item()\n",
    "        # tensor 형태로 나오니까 .item() / torch.sum대신 .sum으로 해도 된다\n",
    "        rcorrect += corrects_b\n",
    "      accuracy_e = rcorrect/len(test_DL.dataset)*100\n",
    "  print(f\"Test accuracy: {rcorrect}/{len(test_DL.dataset)} ({round(accuracy_e,1)} %)\")"
   ]
  },
  {
   "cell_type": "code",
   "execution_count": 64,
   "metadata": {},
   "outputs": [
    {
     "name": "stdout",
     "output_type": "stream",
     "text": [
      "Test accuracy: 9783/10000 (97.8 %)\n"
     ]
    }
   ],
   "source": [
    "Test(load_model, test_DL)"
   ]
  },
  {
   "cell_type": "code",
   "execution_count": 65,
   "metadata": {},
   "outputs": [],
   "source": [
    "def Test_plot(model, test_DL):\n",
    "    model.eval()\n",
    "    with torch.no_grad():\n",
    "        x_batch, y_batch = next(iter(test_DL))\n",
    "        x_batch = x_batch.to(DEVICE)\n",
    "        y_hat = model(x_batch)\n",
    "        pred = y_hat.argmax(dim=1)\n",
    "\n",
    "    x_batch = x_batch.to(\"cpu\")\n",
    "\n",
    "    plt.figure(figsize=(8,4))\n",
    "    for idx in range(6):\n",
    "        plt.subplot(2,3, idx+1, xticks=[], yticks=[])\n",
    "        plt.imshow(x_batch[idx].permute(1,2,0).squeeze(), cmap=\"gray\")\n",
    "        pred_class = test_DL.dataset.classes[pred[idx]]\n",
    "        true_class = test_DL.dataset.classes[y_batch[idx]]\n",
    "        plt.title(f\"{pred_class} ({true_class})\", color = \"g\" if pred_class==true_class else \"r\")"
   ]
  },
  {
   "cell_type": "code",
   "execution_count": 66,
   "metadata": {},
   "outputs": [
    {
     "data": {
      "image/png": "[encoded data removed]",
      "text/plain": [
       "<Figure size 800x400 with 6 Axes>"
      ]
     },
     "metadata": {},
     "output_type": "display_data"
    }
   ],
   "source": [
    "Test_plot(load_model, test_DL)"
   ]
  },
  {
   "cell_type": "code",
   "execution_count": null,
   "metadata": {},
   "outputs": [],
   "source": [
    "# 파라미터 수 구하기\n",
    "def count_params(model):\n",
    "    num = sum([p.numel() for p in model.parameters() if p.requires_grad])\n",
    "    return num"
   ]
  },
  {
   "cell_type": "code",
   "execution_count": null,
   "metadata": {},
   "outputs": [],
   "source": [
    "print(count_params(load_model))"
   ]
  }
 ],
 "metadata": {
  "kernelspec": {
   "display_name": "DL",
   "language": "python",
   "name": "python3"
  },
  "language_info": {
   "codemirror_mode": {
    "name": "ipython",
    "version": 3
   },
   "file_extension": ".py",
   "mimetype": "text/x-python",
   "name": "python",
   "nbconvert_exporter": "python",
   "pygments_lexer": "ipython3",
   "version": "3.8.15"
  }
 },
 "nbformat": 4,
 "nbformat_minor": 2
}
